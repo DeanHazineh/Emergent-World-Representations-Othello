{
 "cells": [
  {
   "cell_type": "code",
   "execution_count": 68,
   "metadata": {},
   "outputs": [],
   "source": [
    "import torch\n",
    "import matplotlib.pyplot as plt\n",
    "\n",
    "from torch.utils.data.dataloader import DataLoader\n",
    "from torch.utils.data import Dataset\n",
    "\n",
    "import EWOthello.utils.plot_helpers as plt_util\n",
    "from EWOthello.data.othello import *\n",
    "from EWOthello.mingpt.dataset import ProbingDataset, CharDataset # AK's mingpt data child \n",
    "from EWOthello.mingpt.model import GPT, GPTConfig, GPTforProbing # AKs and KLi GPT models\n",
    "#from EWOthello.mingpt.trainer import Trainer, TrainerConfig # AKs GPT trainer\n",
    "from EWOthello.mingpt.probe_trainer import Trainer, TrainerConfig\n",
    "from EWOthello.mingpt.utils import set_seed, sample # AKs helpers for sampling predictions\n",
    "from EWOthello.mingpt.probe_model import BatteryProbeClassification, BatteryProbeClassificationTwoLayer\n",
    "set_seed(44)"
   ]
  },
  {
   "cell_type": "code",
   "execution_count": 57,
   "metadata": {},
   "outputs": [
    {
     "name": "stderr",
     "output_type": "stream",
     "text": [
      "100%|██████████| 1000/1000 [00:02<00:00, 392.65it/s]\n"
     ]
    },
    {
     "name": "stdout",
     "output_type": "stream",
     "text": [
      "Dataset created has 1000 sequences, 61 unique words.\n"
     ]
    }
   ],
   "source": [
    "othello = get(ood_num=int(1e3), data_root=None)\n",
    "train_dataset = CharDataset(othello) \n",
    "\n",
    "mconf = GPTConfig(train_dataset.vocab_size, train_dataset.block_size, n_layer=8, n_head=8, n_embd=512)\n",
    "model = GPT(mconf)\n",
    "\n",
    "if torch.cuda.is_available():\n",
    "    device = torch.cuda.current_device()\n",
    "    model = model.to(device)"
   ]
  },
  {
   "cell_type": "code",
   "execution_count": 58,
   "metadata": {},
   "outputs": [],
   "source": [
    "# This is a truncated GPT model (with random or pre-trained weights) that will be used to get activations from after attention modules\n",
    "# you can define if we want layernorm applied at output or not (defaults to not)\n",
    "model_probe = GPTforProbing(mconf, probe_layer=2)\n",
    "\n",
    "mode = \"synthetic\"\n",
    "# Apply the GPT model weights\n",
    "if mode==\"random\":\n",
    "    model_probe.apply(model._init_weights)\n",
    "else:\n",
    "    path = \"../EWOthello/ckpts/gpt_championship.ckpt\" if mode==\"championship\" else \"../EWOthello/ckpts/gpt_synthetic.ckpt\"\n",
    "    model_probe.load_state_dict(torch.load(path))\n",
    "\n",
    "if torch.cuda.is_available():\n",
    "    device = torch.cuda.current_device()\n",
    "    model_probe = model_probe.to(device)"
   ]
  },
  {
   "cell_type": "code",
   "execution_count": 59,
   "metadata": {},
   "outputs": [
    {
     "name": "stdout",
     "output_type": "stream",
     "text": [
      "torch.Size([1, 59, 61])\n",
      "torch.Size([1, 59, 512])\n"
     ]
    }
   ],
   "source": [
    "x, y = train_dataset[0]\n",
    "x = torch.unsqueeze(x, 0)\n",
    "\n",
    "model_out_logits = model(x.to(device))[0]\n",
    "print(model_out_logits.shape)\n",
    "\n",
    "probe_activation = model_probe(x.to(device))\n",
    "print(probe_activation.shape)"
   ]
  },
  {
   "cell_type": "code",
   "execution_count": 60,
   "metadata": {},
   "outputs": [
    {
     "name": "stdout",
     "output_type": "stream",
     "text": [
      "1\n",
      "59\n"
     ]
    },
    {
     "data": {
      "image/png": "[encoded data removed]",
      "text/plain": [
       "<Figure size 640x480 with 4 Axes>"
      ]
     },
     "metadata": {},
     "output_type": "display_data"
    },
    {
     "data": {
      "image/png": "[encoded data removed]",
      "text/plain": [
       "<Figure size 640x480 with 4 Axes>"
      ]
     },
     "metadata": {},
     "output_type": "display_data"
    }
   ],
   "source": [
    "## mini-example before getting to the main part\n",
    "\n",
    "# Grab a single game sequence index vector x\n",
    "loader = DataLoader(train_dataset, shuffle=False, pin_memory=True, batch_size=1, num_workers=1)\n",
    "it = iter(loader)\n",
    "x,_ = next(it)\n",
    "\n",
    "act_container = []\n",
    "property_container = []\n",
    "\n",
    "# Note the sequence length and get tbf = index to tokens\n",
    "tbf = [train_dataset.itos[_] for _ in x.tolist()[0]] # Index to string (converts the sequence to board state)\n",
    "valid_until = tbf.index(-100) if -100 in tbf else 999 # Get true length of game sequence (excluding filler token -100) \n",
    "# I dont think this valid_until treatment is correct but okay...\n",
    "\n",
    "# Get the activation output features\n",
    "act = model_probe(x.to(device))[0].detach().cpu()  # [block_size, f]\n",
    "act = [_[0] for _ in act.split(1, dim=0)[:valid_until]]  # list of activations after the n-th layer block\n",
    "print(len(act))\n",
    "act_container.extend(act)\n",
    "\n",
    "# Get the board state\n",
    "a = OthelloBoardState()\n",
    "properties = a.get_gt(tbf[:valid_until], \"get_state\") \n",
    "property_container.extend(properties)\n",
    "print(len(properties)) # list of 8*8 boardstates for each subsequence up until the full sequence length\n",
    "num = 4\n",
    "fig = plt.figure()\n",
    "ax = plt_util.addAxis(fig, 1,num)\n",
    "for i in range(num):\n",
    "    board = np.reshape(np.array(properties[i]), [8,8])\n",
    "    ax[i].imshow(board)\n",
    "\n",
    "# Get the \"age\"\n",
    "a = OthelloBoardState()\n",
    "ages = a.get_gt(tbf[:valid_until], \"get_age\")  # [block_size, ]\n",
    "fig = plt.figure()\n",
    "ax = plt_util.addAxis(fig, 1,num)\n",
    "for i in range(num):\n",
    "    out = np.reshape(np.array(ages[i]), [8,8])\n",
    "    ax[i].imshow(out)\n",
    "plt.show()"
   ]
  },
  {
   "cell_type": "code",
   "execution_count": 64,
   "metadata": {},
   "outputs": [
    {
     "name": "stderr",
     "output_type": "stream",
     "text": [
      "100%|██████████| 1000/1000 [00:03<00:00, 282.99it/s]\n"
     ]
    },
    {
     "name": "stdout",
     "output_type": "stream",
     "text": [
      "59000 59000\n"
     ]
    },
    {
     "name": "stderr",
     "output_type": "stream",
     "text": [
      "100%|██████████| 1000/1000 [00:01<00:00, 545.90it/s]\n"
     ]
    }
   ],
   "source": [
    "loader = DataLoader(train_dataset, shuffle=False, pin_memory=True, batch_size=1, num_workers=1)\n",
    "act_container = []\n",
    "property_container = []\n",
    "for x, y in tqdm(loader, total=len(loader)):\n",
    "    tbf = [train_dataset.itos[_] for _ in x.tolist()[0]] # Index to string (converts the sequence to board state)\n",
    "    valid_until = tbf.index(-100) if -100 in tbf else 999\n",
    "    a = OthelloBoardState()\n",
    "    properties = a.get_gt(tbf[:valid_until], \"get_state\")  # [block_size, ]\n",
    "    \n",
    "    act = model_probe(x.to(device))[0].detach().cpu()  # [block_size, f]\n",
    "    act_container.extend([_[0] for _ in act.split(1, dim=0)[:valid_until]])\n",
    "    property_container.extend(properties)\n",
    "\n",
    "age_container = []\n",
    "for x, y in tqdm(loader, total=len(loader)):\n",
    "    tbf = [train_dataset.itos[_] for _ in x.tolist()[0]]\n",
    "    valid_until = tbf.index(-100) if -100 in tbf else 999\n",
    "    a = OthelloBoardState()\n",
    "    ages = a.get_gt(tbf[:valid_until], \"get_age\")  # [block_size, ]\n",
    "    age_container.extend(ages)\n"
   ]
  },
  {
   "cell_type": "code",
   "execution_count": 65,
   "metadata": {},
   "outputs": [
    {
     "name": "stdout",
     "output_type": "stream",
     "text": [
      "59000 pairs loaded...\n",
      "983159 1770000 1022841\n",
      "[189577, 223213, 217427, 191617, 186641, 165972, 161663, 144914, 141064, 127430, 124000, 112471, 109375, 99693, 96799, 88768, 86170, 79419, 76972, 71012, 68751, 63683, 61570, 57135, 55208, 51450, 49606, 46364, 44672, 41859, 40265, 37714, 36183, 33910, 32449, 30398, 28992, 27164, 25799, 24111, 22795, 21269, 20025, 18623, 17407, 16065, 14931, 13687, 12576, 11414, 10285, 9180, 8122, 7073, 6036, 5015, 4010, 3004, 2003, 1000]\n",
      "torch.Size([512])\n",
      "512 64 64\n"
     ]
    }
   ],
   "source": [
    "probing_dataset = ProbingDataset(act_container, property_container, age_container)\n",
    "probe = BatteryProbeClassification(device, probe_class=3, num_task=64)\n",
    "\n",
    "# probing dataset returns activation, y, and age\n",
    "# Porbe at the dataloader\n",
    "it = iter(probing_dataset)\n",
    "act, y, age = next(it)\n",
    "\n",
    "print(act.shape)\n",
    "print(len(act), len(y), len(age))"
   ]
  },
  {
   "cell_type": "code",
   "execution_count": 70,
   "metadata": {},
   "outputs": [
    {
     "name": "stdout",
     "output_type": "stream",
     "text": [
      "Decayed: {'proj.bias', 'proj.weight'}\n"
     ]
    },
    {
     "name": "stderr",
     "output_type": "stream",
     "text": [
      "epoch 1: train loss 0.36498; lr 1.00e-03; train acc 77.67%: 100%|██████████| 47/47 [00:00<00:00, 69.38it/s]\n",
      "epoch 2: train loss 0.36259; lr 1.00e-03; train acc 77.86%: 100%|██████████| 47/47 [00:00<00:00, 74.06it/s]\n",
      "epoch 3: train loss 0.36206; lr 7.50e-04; train acc 77.95%: 100%|██████████| 47/47 [00:00<00:00, 72.62it/s]\n",
      "epoch 4: train loss 0.36146; lr 5.63e-04; train acc 78.03%: 100%|██████████| 47/47 [00:00<00:00, 77.63it/s]\n",
      "epoch 5: train loss 0.36014; lr 4.22e-04; train acc 78.08%: 100%|██████████| 47/47 [00:00<00:00, 73.67it/s]\n",
      "epoch 6: train loss 0.36004; lr 3.16e-04; train acc 78.12%: 100%|██████████| 47/47 [00:00<00:00, 75.81it/s]\n",
      "epoch 7: train loss 0.35921; lr 2.37e-04; train acc 78.15%: 100%|██████████| 47/47 [00:00<00:00, 73.38it/s]\n",
      "epoch 8: train loss 0.36026; lr 1.78e-04; train acc 78.17%: 100%|██████████| 47/47 [00:00<00:00, 73.11it/s]\n",
      "epoch 9: train loss 0.36032; lr 1.33e-04; train acc 78.18%: 100%|██████████| 47/47 [00:00<00:00, 77.03it/s]\n",
      "epoch 10: train loss 0.35878; lr 1.00e-04; train acc 78.20%: 100%|██████████| 47/47 [00:00<00:00, 74.54it/s]\n",
      "epoch 11: train loss 0.35948; lr 7.51e-05; train acc 78.20%: 100%|██████████| 47/47 [00:00<00:00, 74.35it/s]\n",
      "epoch 12: train loss 0.35922; lr 5.63e-05; train acc 78.21%: 100%|██████████| 47/47 [00:00<00:00, 71.79it/s]\n",
      "epoch 13: train loss 0.35862; lr 4.22e-05; train acc 78.22%: 100%|██████████| 47/47 [00:00<00:00, 74.70it/s]\n",
      "epoch 14: train loss 0.35815; lr 3.17e-05; train acc 78.22%: 100%|██████████| 47/47 [00:00<00:00, 77.84it/s]\n",
      "epoch 15: train loss 0.35956; lr 2.38e-05; train acc 78.22%: 100%|██████████| 47/47 [00:00<00:00, 73.99it/s]\n",
      "epoch 16: train loss 0.35898; lr 1.78e-05; train acc 78.22%: 100%|██████████| 47/47 [00:00<00:00, 75.44it/s]\n",
      "epoch 17: train loss 0.35857; lr 1.34e-05; train acc 78.22%: 100%|██████████| 47/47 [00:00<00:00, 72.66it/s]\n",
      "epoch 18: train loss 0.35875; lr 1.00e-05; train acc 78.23%: 100%|██████████| 47/47 [00:00<00:00, 75.27it/s]\n",
      "epoch 19: train loss 0.35964; lr 7.52e-06; train acc 78.23%: 100%|██████████| 47/47 [00:00<00:00, 74.57it/s]\n",
      "epoch 20: train loss 0.35933; lr 5.64e-06; train acc 78.23%: 100%|██████████| 47/47 [00:00<00:00, 70.98it/s]\n",
      "epoch 21: train loss 0.35870; lr 4.23e-06; train acc 78.23%: 100%|██████████| 47/47 [00:00<00:00, 73.64it/s]\n",
      "epoch 22: train loss 0.35866; lr 3.17e-06; train acc 78.23%: 100%|██████████| 47/47 [00:00<00:00, 75.18it/s]\n",
      "epoch 23: train loss 0.35860; lr 2.38e-06; train acc 78.23%: 100%|██████████| 47/47 [00:00<00:00, 76.35it/s]\n",
      "epoch 24: train loss 0.35855; lr 1.78e-06; train acc 78.23%: 100%|██████████| 47/47 [00:00<00:00, 74.37it/s]\n",
      "epoch 25: train loss 0.35847; lr 1.34e-06; train acc 78.23%: 100%|██████████| 47/47 [00:00<00:00, 74.59it/s]\n",
      "epoch 26: train loss 0.35955; lr 1.00e-06; train acc 78.23%: 100%|██████████| 47/47 [00:00<00:00, 71.17it/s]\n",
      "epoch 27: train loss 0.35899; lr 7.53e-07; train acc 78.23%: 100%|██████████| 47/47 [00:00<00:00, 75.47it/s]\n",
      "epoch 28: train loss 0.35920; lr 5.64e-07; train acc 78.23%: 100%|██████████| 47/47 [00:00<00:00, 77.15it/s]\n",
      "epoch 29: train loss 0.35890; lr 4.23e-07; train acc 78.23%: 100%|██████████| 47/47 [00:00<00:00, 73.74it/s]\n",
      "epoch 30: train loss 0.35933; lr 3.17e-07; train acc 78.23%: 100%|██████████| 47/47 [00:00<00:00, 77.27it/s]\n",
      "epoch 31: train loss 0.35912; lr 2.38e-07; train acc 78.23%: 100%|██████████| 47/47 [00:00<00:00, 77.68it/s]\n",
      "epoch 32: train loss 0.35895; lr 1.79e-07; train acc 78.23%: 100%|██████████| 47/47 [00:00<00:00, 75.73it/s]\n",
      "epoch 33: train loss 0.35933; lr 1.34e-07; train acc 78.23%: 100%|██████████| 47/47 [00:00<00:00, 76.87it/s]\n",
      "epoch 34: train loss 0.35868; lr 1.00e-07; train acc 78.23%: 100%|██████████| 47/47 [00:00<00:00, 76.19it/s]\n",
      "epoch 35: train loss 0.35877; lr 7.53e-08; train acc 78.23%: 100%|██████████| 47/47 [00:00<00:00, 73.83it/s]\n",
      "epoch 36: train loss 0.35877; lr 5.65e-08; train acc 78.23%: 100%|██████████| 47/47 [00:00<00:00, 70.63it/s]\n",
      "epoch 37: train loss 0.35875; lr 4.24e-08; train acc 78.23%: 100%|██████████| 47/47 [00:00<00:00, 73.38it/s]\n",
      "epoch 38: train loss 0.35906; lr 3.18e-08; train acc 78.23%: 100%|██████████| 47/47 [00:00<00:00, 76.56it/s]\n",
      "epoch 39: train loss 0.35882; lr 3.18e-08; train acc 78.23%: 100%|██████████| 47/47 [00:00<00:00, 75.87it/s]\n",
      "epoch 40: train loss 0.35850; lr 3.18e-08; train acc 78.23%: 100%|██████████| 47/47 [00:00<00:00, 74.20it/s]\n",
      "epoch 41: train loss 0.35888; lr 3.18e-08; train acc 78.23%: 100%|██████████| 47/47 [00:00<00:00, 69.76it/s]\n",
      "epoch 42: train loss 0.35923; lr 3.18e-08; train acc 78.23%: 100%|██████████| 47/47 [00:00<00:00, 69.07it/s]\n",
      "epoch 43: train loss 0.35842; lr 3.18e-08; train acc 78.23%: 100%|██████████| 47/47 [00:00<00:00, 73.24it/s]\n",
      "epoch 44: train loss 0.35912; lr 3.18e-08; train acc 78.23%: 100%|██████████| 47/47 [00:00<00:00, 75.48it/s]\n",
      "epoch 45: train loss 0.35870; lr 3.18e-08; train acc 78.23%: 100%|██████████| 47/47 [00:00<00:00, 73.35it/s]\n",
      "epoch 46: train loss 0.35866; lr 3.18e-08; train acc 78.23%: 100%|██████████| 47/47 [00:00<00:00, 74.22it/s]\n",
      "epoch 47: train loss 0.35869; lr 3.18e-08; train acc 78.23%: 100%|██████████| 47/47 [00:00<00:00, 73.54it/s]\n",
      "epoch 48: train loss 0.35925; lr 3.18e-08; train acc 78.23%: 100%|██████████| 47/47 [00:00<00:00, 75.20it/s]\n",
      "epoch 49: train loss 0.35894; lr 3.18e-08; train acc 78.23%: 100%|██████████| 47/47 [00:00<00:00, 75.28it/s]\n",
      "epoch 50: train loss 0.35894; lr 3.18e-08; train acc 78.23%: 100%|██████████| 47/47 [00:00<00:00, 72.48it/s]\n"
     ]
    }
   ],
   "source": [
    "train_size = int(0.8 * len(probing_dataset))\n",
    "test_size = len(probing_dataset) - train_size\n",
    "train_dataset, test_dataset = torch.utils.data.random_split(probing_dataset, [train_size, test_size])\n",
    "sampler = None\n",
    "train_loader = DataLoader(train_dataset, shuffle=False, sampler=sampler, pin_memory=True, batch_size=128, num_workers=1)\n",
    "test_loader = DataLoader(test_dataset, shuffle=True, pin_memory=True, batch_size=128, num_workers=1)\n",
    "\n",
    "savepath = \"../EWOthello/ckpts/\"\n",
    "max_epochs = 50\n",
    "t_start = time.strftime(\"_%Y%m%d_%H%M%S\")\n",
    "tconf = TrainerConfig(\n",
    "    max_epochs=max_epochs,\n",
    "    batch_size=1024,\n",
    "    learning_rate=1e-3,\n",
    "    betas=(0.9, 0.999),\n",
    "    lr_decay=True,\n",
    "    warmup_tokens=len(train_dataset) * 5,\n",
    "    final_tokens=len(train_dataset) * max_epochs,\n",
    "    num_workers=4,\n",
    "    weight_decay=0.0,\n",
    "    ckpt_path=savepath + f\"probe_test_at{t_start}.ckpt\", \n",
    ")\n",
    "trainer = Trainer(probe, train_dataset, test_dataset, tconf)\n",
    "trainer.train(prt=True)\n",
    "trainer.save_traces()\n",
    "trainer.save_checkpoint()\n"
   ]
  }
 ],
 "metadata": {
  "kernelspec": {
   "display_name": "emergent_world",
   "language": "python",
   "name": "python3"
  },
  "language_info": {
   "codemirror_mode": {
    "name": "ipython",
    "version": 3
   },
   "file_extension": ".py",
   "mimetype": "text/x-python",
   "name": "python",
   "nbconvert_exporter": "python",
   "pygments_lexer": "ipython3",
   "version": "3.8.16"
  },
  "orig_nbformat": 4
 },
 "nbformat": 4,
 "nbformat_minor": 2
}
