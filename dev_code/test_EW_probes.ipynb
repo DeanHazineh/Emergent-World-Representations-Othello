{
 "cells": [
  {
   "cell_type": "code",
   "execution_count": 4,
   "metadata": {},
   "outputs": [],
   "source": [
    "import torch\n",
    "from torch.utils.data.dataloader import DataLoader\n",
    "\n",
    "from EWOthello.data.othello import *\n",
    "from EWOthello.mingpt.dataset import CharDataset # AK's mingpt data child \n",
    "from EWOthello.mingpt.model import GPT, GPTConfig, GPTforProbing # AKs and KLi GPT models\n",
    "from EWOthello.mingpt.trainer import Trainer, TrainerConfig # AKs GPT trainer\n",
    "from EWOthello.mingpt.utils import set_seed, sample # AKs helpers for sampling predictions\n",
    "\n",
    "set_seed(44)"
   ]
  },
  {
   "cell_type": "code",
   "execution_count": 2,
   "metadata": {},
   "outputs": [
    {
     "name": "stderr",
     "output_type": "stream",
     "text": [
      "Mem Used: 14.64 GB: 100%|██████████| 231/231 [00:42<00:00,  5.50it/s]\n"
     ]
    },
    {
     "name": "stdout",
     "output_type": "stream",
     "text": [
      "Deduplicating...\n",
      "Deduplicating finished with 23096133 games left\n",
      "Using 20 million for training, 3096133 for validation\n",
      "Dataset created has 20000000 sequences, 61 unique words.\n"
     ]
    }
   ],
   "source": [
    "othello = get(ood_num=-1, data_root=None)\n",
    "train_dataset = CharDataset(othello) \n",
    "\n",
    "mconf = GPTConfig(train_dataset.vocab_size, train_dataset.block_size, n_layer=8, n_head=8, n_embd=512)\n",
    "model = GPT(mconf)"
   ]
  },
  {
   "cell_type": "code",
   "execution_count": 6,
   "metadata": {},
   "outputs": [],
   "source": [
    "# This is a truncated GPT model (with random or pre-trained weights) that will be used to get activations from after attention modules\n",
    "model = GPTforProbing(mconf, probe_layer=2)\n",
    "\n",
    "mode = \"synthetic\"\n",
    "# Apply the GPT model weights\n",
    "if mode==\"random\":\n",
    "    model.apply(model._init_weights)\n",
    "else:\n",
    "    path = \"../EWOthello/ckpts/gpt_championship.ckpt\" if mode==\"championship\" else \"../EWOthello/ckpts/gpt_synthetic.ckpt\"\n",
    "    model.load_state_dict(torch.load(path))\n",
    "\n",
    "if torch.cuda.is_available():\n",
    "    device = torch.cuda.current_device()\n",
    "    model = model.to(device)"
   ]
  },
  {
   "cell_type": "code",
   "execution_count": null,
   "metadata": {},
   "outputs": [],
   "source": [
    "loader = DataLoader(train_dataset, shuffle=False, pin_memory=True, batch_size=1, num_workers=1)\n",
    "act_container = []\n",
    "property_container = []\n",
    "for x, y in tqdm(loader, total=len(loader)):\n",
    "    tbf = [train_dataset.itos[_] for _ in x.tolist()[0]]\n",
    "    valid_until = tbf.index(-100) if -100 in tbf else 999\n",
    "    a = OthelloBoardState()\n",
    "    properties = a.get_gt(tbf[:valid_until], \"get_\" + args.exp)  # [block_size, ]\n",
    "    act = model(x.to(device))[0, ...].detach().cpu()  # [block_size, f]\n",
    "    act_container.extend([_[0] for _ in act.split(1, dim=0)[:valid_until]])\n",
    "    property_container.extend(properties)\n",
    "\n",
    "age_container = []\n",
    "for x, y in tqdm(loader, total=len(loader)):\n",
    "    tbf = [train_dataset.itos[_] for _ in x.tolist()[0]]\n",
    "    valid_until = tbf.index(-100) if -100 in tbf else 999\n",
    "    a = OthelloBoardState()\n",
    "    ages = a.get_gt(tbf[:valid_until], \"get_age\")  # [block_size, ]\n",
    "    age_container.extend(ages)\n",
    "\n"
   ]
  }
 ],
 "metadata": {
  "kernelspec": {
   "display_name": "emergent_world",
   "language": "python",
   "name": "python3"
  },
  "language_info": {
   "codemirror_mode": {
    "name": "ipython",
    "version": 3
   },
   "file_extension": ".py",
   "mimetype": "text/x-python",
   "name": "python",
   "nbconvert_exporter": "python",
   "pygments_lexer": "ipython3",
   "version": "3.8.16"
  },
  "orig_nbformat": 4
 },
 "nbformat": 4,
 "nbformat_minor": 2
}
