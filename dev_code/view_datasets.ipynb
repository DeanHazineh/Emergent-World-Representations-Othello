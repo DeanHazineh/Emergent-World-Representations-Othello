{
 "cells": [
  {
   "cell_type": "code",
   "execution_count": 1,
   "metadata": {},
   "outputs": [
    {
     "name": "stderr",
     "output_type": "stream",
     "text": [
      "/home/deanhazineh/anaconda3/envs/emergent_world/lib/python3.8/site-packages/tqdm/auto.py:21: TqdmWarning: IProgress not found. Please update jupyter and ipywidgets. See https://ipywidgets.readthedocs.io/en/stable/user_install.html\n",
      "  from .autonotebook import tqdm as notebook_tqdm\n"
     ]
    }
   ],
   "source": [
    "import pgn\n",
    "import os\n",
    "import pickle\n",
    "\n",
    "from EWOthello.data.othello import *"
   ]
  },
  {
   "cell_type": "code",
   "execution_count": 2,
   "metadata": {},
   "outputs": [],
   "source": [
    "real_data_path = \"../EWOthello/data/othello_championship/\"\n",
    "synth_data_path = \"../EWOthello/data/othello_synthetic/\""
   ]
  },
  {
   "attachments": {},
   "cell_type": "markdown",
   "metadata": {},
   "source": [
    "First, check out at the real and synthetic game data and after, the dataloader class, \"othello\""
   ]
  },
  {
   "cell_type": "code",
   "execution_count": 3,
   "metadata": {},
   "outputs": [
    {
     "name": "stdout",
     "output_type": "stream",
     "text": [
      "file_name:  WTHOR-1990.pgn \n",
      "\n",
      "first game:  <PGNGame \"Veleskevich Vladimi\" vs \"Melnikov Aleksandr\"> \n",
      "\n",
      "game moves:  ['F5', 'F6', 'E6', 'F4', 'G5', 'E7', 'F7', 'H6', 'E3', 'D6', 'H5', 'G6', 'G4', 'D3', 'D8', 'H3', 'H4', 'G3', 'F3', 'F8', 'C2', 'E2', 'D2', 'C4', 'C3', 'G8', 'F1', 'D1', 'D7', 'B4', 'C1', 'E1', 'F2', 'B3', 'C6', 'C5', 'C7', 'B6', 'B7', 'G2', 'E8', 'A8', 'H8', 'H7', 'G7', 'B8', 'B2', 'C8', 'G1', 'H1', 'H2', 'B1', 'A1', 'A2', 'A3', 'A4', 'A5', 'B5', 'A7', 'A6']\n",
      "game sequence processed:  [44, 45, 37, 43, 52, 38, 46, 61, 34, 29, 60, 53, 51, 26, 31, 58, 59, 50, 42, 47, 17, 33, 25, 19, 18, 55, 40, 24, 30, 11, 16, 32, 41, 10, 21, 20, 22, 13, 14, 49, 39, 7, 63, 62, 54, 15, 9, 23, 48, 56, 57, 8, 0, 1, 2, 3, 4, 12, 6, 5]\n"
     ]
    }
   ],
   "source": [
    "# View the processed, real game sequences\n",
    "# pgn files contain the real game data records\n",
    "# Games after pgn loader is a datastructure with attributed move\n",
    "\n",
    "fn = os.listdir(real_data_path)\n",
    "print(\"file_name: \", fn[0], \"\\n\")\n",
    "\n",
    "with open(real_data_path + fn[0], \"r\") as fhandle:\n",
    "    pgn_text = fhandle.read()\n",
    "    pgn_games_obj = pgn.loads(pgn_text)\n",
    "\n",
    "game1 = pgn_games_obj[0]\n",
    "game1_moves = game1.moves\n",
    "print(\"first game: \", game1, \"\\n\")\n",
    "print(\"game moves: \", game1_moves)\n",
    "\n",
    "# KLi Othello converts moves to board number in his othello class\n",
    "# which counts from the top left of the board to the bottom right\n",
    "rows = list(\"ABCDEFGH\")\n",
    "columns = [str(_) for _ in range(1, 9)]\n",
    "sequence = []\n",
    "for move in game1_moves:\n",
    "    sequence.append(rows.index(move[0]) * 8 + columns.index(move[1]))\n",
    "print(\"game sequence processed: \", sequence)"
   ]
  },
  {
   "cell_type": "code",
   "execution_count": 4,
   "metadata": {},
   "outputs": [
    {
     "name": "stdout",
     "output_type": "stream",
     "text": [
      "num synthetic games in file:  99999\n",
      "first synthetic game:  [26, 20, 45, 42, 43, 44, 37, 25, 50, 30, 41, 51, 34, 48, 29, 59, 12, 33, 24, 21, 23, 16, 32, 46, 13, 31, 49, 5, 8, 40, 57, 15, 60, 58, 54, 56, 6, 3, 4, 52, 2, 19, 53, 55, 22, 38, 18, 11, 39, 0, 63, 14, 47, 61, 62, 9, 10, 17, 7, 1]\n"
     ]
    }
   ],
   "source": [
    "# View the synthetic game sequences\n",
    "with open(synth_data_path + \"gen10e5__20220324_153933.pickle\", \"rb\") as file:\n",
    "    data = pickle.load(file)\n",
    "\n",
    "print(\"num synthetic games in file: \", len(data))\n",
    "print(\"first synthetic game: \", data[0])"
   ]
  },
  {
   "attachments": {},
   "cell_type": "markdown",
   "metadata": {},
   "source": [
    "Now we know what the raw data looks like in both cases, let us view the dataloader object from the paper (which we may reuse)"
   ]
  },
  {
   "cell_type": "code",
   "execution_count": 5,
   "metadata": {},
   "outputs": [
    {
     "name": "stdout",
     "output_type": "stream",
     "text": [
      "Max num files: 230; Use_num: 230\n",
      "['gen10e5__20220324_165952.pickle', 'gen10e5__20220324_154919.pickle', 'gen10e5__20220324_164123.pickle', 'gen10e5__20220324_154043.pickle', 'gen10e5__20220324_155251.pickle', 'gen10e5__20220324_160016.pickle', 'gen10e5__20220324_165748.pickle', 'gen10e5__20220324_154002.pickle', 'gen10e5__20220324_155241.pickle', 'gen10e5__20220324_165707.pickle', 'gen10e5__20220324_160046.pickle', 'gen10e5__20220324_154811.pickle', 'gen10e5__20220324_154806.pickle', 'gen10e5__20220324_162637.pickle', 'gen10e5__20220324_154048.pickle', 'gen10e5__20220324_155439.pickle', 'gen10e5__20220324_155255.pickle', 'gen10e5__20220324_154235.pickle', 'gen10e5__20220324_160049.pickle', 'gen10e5__20220324_154032.pickle', 'gen10e5__20220324_164213.pickle', 'gen10e5__20220324_155245.pickle', 'gen10e5__20220324_154722.pickle', 'gen10e5__20220324_165841.pickle', 'gen10e5__20220324_162202.pickle', 'gen10e5__20220324_154533.pickle', 'gen10e5__20220324_164648.pickle', 'gen10e5__20220324_170049.pickle', 'gen10e5__20220324_160017.pickle', 'gen10e5__20220324_155959.pickle', 'gen10e5__20220324_162758.pickle', 'gen10e5__20220324_170016.pickle', 'gen10e5__20220324_154545.pickle', 'gen10e5__20220324_154150.pickle', 'gen10e5__20220324_154104.pickle', 'gen10e5__20220324_155240.pickle', 'gen10e5__20220324_155905.pickle', 'gen10e5__20220324_161539.pickle', 'gen10e5__20220324_163829.pickle', 'gen10e5__20220324_155404.pickle', 'gen10e5__20220324_154100.pickle', 'gen10e5__20220324_155730.pickle', 'gen10e5__20220324_170238.pickle', 'gen10e5__20220324_155824.pickle', 'gen10e5__20220324_154434.pickle', 'gen10e5__20220324_170041.pickle', 'gen10e5__20220324_155947.pickle', 'gen10e5__20220324_155351.pickle', 'gen10e5__20220324_162312.pickle', 'gen10e5__20220324_170335.pickle', 'gen10e5__20220324_164426.pickle', 'gen10e5__20220324_160129.pickle', 'gen10e5__20220324_162533.pickle', 'gen10e5__20220324_154325.pickle', 'gen10e5__20220324_154830.pickle', 'gen10e5__20220324_155353.pickle', 'gen10e5__20220324_162048.pickle', 'gen10e5__20220324_165957.pickle', 'gen10e5__20220324_155732.pickle', 'gen10e5__20220324_155621.pickle', 'gen10e5__20220324_162524.pickle', 'gen10e5__20220324_162040.pickle', 'gen10e5__20220324_154356.pickle', 'gen10e5__20220324_170043.pickle', 'gen10e5__20220324_155422.pickle', 'gen10e5__20220324_162706.pickle', 'gen10e5__20220324_155340.pickle', 'gen10e5__20220324_154036.pickle', 'gen10e5__20220324_164312.pickle', 'gen10e5__20220324_162151.pickle', 'gen10e5__20220324_155812.pickle', 'gen10e5__20220324_170123.pickle', 'gen10e5__20220324_161346.pickle', 'gen10e5__20220324_160218.pickle', 'gen10e5__20220324_155718.pickle', 'gen10e5__20220324_154720.pickle', 'gen10e5__20220324_164257.pickle', 'gen10e5__20220324_162251.pickle', 'gen10e5__20220324_154404.pickle', 'gen10e5__20220324_165341.pickle', 'gen10e5__20220324_165507.pickle', 'gen10e5__20220324_162458.pickle', 'gen10e5__20220324_155817.pickle', 'gen10e5__20220324_170426.pickle', 'gen10e5__20220324_154422.pickle', 'gen10e5__20220324_161941.pickle', 'gen10e5__20220324_154729.pickle', 'gen10e5__20220324_155446.pickle', 'gen10e5__20220324_155230.pickle', 'gen10e5__20220324_155508.pickle', 'gen10e5__20220324_170032.pickle', 'gen10e5__20220324_162148.pickle', 'gen10e5__20220324_162212.pickle', 'gen10e5__20220324_164805.pickle', 'gen10e5__20220324_162422.pickle', 'gen10e5__20220324_154223.pickle', 'gen10e5__20220324_155637.pickle', 'gen10e5__20220324_154803.pickle', 'gen10e5__20220324_170403.pickle', 'gen10e5__20220324_155735.pickle', 'gen10e5__20220324_161808.pickle', 'gen10e5__20220324_163810.pickle', 'gen10e5__20220324_160052.pickle', 'gen10e5__20220324_160102.pickle', 'gen10e5__20220324_154038.pickle', 'gen10e5__20220324_154210.pickle', 'gen10e5__20220324_155447.pickle', 'gen10e5__20220324_155946.pickle', 'gen10e5__20220324_154425.pickle', 'gen10e5__20220324_160053.pickle', 'gen10e5__20220324_155804.pickle', 'gen10e5__20220324_155722.pickle', 'gen10e5__20220324_155720.pickle', 'gen10e5__20220324_170457.pickle', 'gen10e5__20220324_161450.pickle', 'gen10e5__20220324_155711.pickle', 'gen10e5__20220324_154650.pickle', 'gen10e5__20220324_165736.pickle', 'gen10e5__20220324_155234.pickle', 'gen10e5__20220324_154058.pickle', 'gen10e5__20220324_162518.pickle', 'gen10e5__20220324_170148.pickle', 'gen10e5__20220324_155814.pickle', 'gen10e5__20220324_154128.pickle', 'gen10e5__20220324_155823.pickle', 'gen10e5__20220324_162745.pickle', 'gen10e5__20220324_155846.pickle', 'gen10e5__20220324_164435.pickle', 'gen10e5__20220324_154317.pickle', 'gen10e5__20220324_154344.pickle', 'gen10e5__20220324_171520.pickle', 'gen10e5__20220324_163802.pickle', 'gen10e5__20220324_164351.pickle', 'gen10e5__20220324_155639.pickle', 'gen10e5__20220324_154447.pickle', 'gen10e5__20220324_154331.pickle', 'gen10e5__20220324_154407.pickle', 'gen10e5__20220324_155642.pickle', 'gen10e5__20220324_154829.pickle', 'gen10e5__20220324_154144.pickle', 'gen10e5__20220324_154738.pickle', 'gen10e5__20220324_154121.pickle', 'gen10e5__20220324_160048.pickle', 'gen10e5__20220324_154217.pickle', 'gen10e5__20220324_162650.pickle', 'gen10e5__20220324_154814.pickle', 'gen10e5__20220324_162257.pickle', 'gen10e5__20220324_162526.pickle', 'gen10e5__20220324_164314.pickle', 'gen10e5__20220324_162622.pickle', 'gen10e5__20220324_154801.pickle', 'gen10e5__20220324_164644.pickle', 'gen10e5__20220324_164334.pickle', 'gen10e5__20220324_161838.pickle', 'gen10e5__20220324_162320.pickle', 'gen10e5__20220324_161410.pickle', 'gen10e5__20220324_155726.pickle', 'gen10e5__20220324_165548.pickle', 'gen10e5__20220324_155525.pickle', 'gen10e5__20220324_164319.pickle', 'gen10e5__20220324_155706.pickle', 'gen10e5__20220324_162246.pickle', 'gen10e5__20220324_155719.pickle', 'gen10e5__20220324_170300.pickle', 'gen10e5__20220324_160040.pickle', 'gen10e5__20220324_163753.pickle', 'gen10e5__20220324_160152.pickle', 'gen10e5__20220324_155605.pickle', 'gen10e5__20220324_161911.pickle', 'gen10e5__20220324_160111.pickle', 'gen10e5__20220324_165533.pickle', 'gen10e5__20220324_162153.pickle', 'gen10e5__20220324_162152.pickle', 'gen10e5__20220324_155838.pickle', 'gen10e5__20220324_160512.pickle', 'gen10e5__20220324_155338.pickle', 'gen10e5__20220324_165701.pickle', 'gen10e5__20220324_161429.pickle', 'gen10e5__20220324_154021.pickle', 'gen10e5__20220324_154649.pickle', 'gen10e5__20220324_162129.pickle', 'gen10e5__20220324_162430.pickle', 'gen10e5__20220324_155756.pickle', 'gen10e5__20220324_162502.pickle', 'gen10e5__20220324_155938.pickle', 'gen10e5__20220324_165704.pickle', 'gen10e5__20220324_163039.pickle', 'gen10e5__20220324_154148.pickle', 'gen10e5__20220324_154351.pickle', 'gen10e5__20220324_154403.pickle', 'gen10e5__20220324_165907.pickle', 'gen10e5__20220324_162331.pickle', 'gen10e5__20220324_154428.pickle', 'gen10e5__20220324_154248.pickle', 'gen10e5__20220324_155041.pickle', 'gen10e5__20220324_155319.pickle', 'gen10e5__20220324_154755.pickle', 'gen10e5__20220324_153933.pickle', 'gen10e5__20220324_155047.pickle', 'gen10e5__20220324_170059.pickle', 'gen10e5__20220324_154557.pickle', 'gen10e5__20220324_162412.pickle', 'gen10e5__20220324_155737.pickle', 'gen10e5__20220324_170146.pickle', 'gen10e5__20220324_155619.pickle', 'gen10e5__20220324_153929.pickle', 'gen10e5__20220324_161847.pickle', 'gen10e5__20220324_154120.pickle', 'gen10e5__20220324_160115.pickle', 'gen10e5__20220324_165435.pickle', 'gen10e5__20220324_162712.pickle', 'gen10e5__20220324_155545.pickle', 'gen10e5__20220324_160403.pickle', 'gen10e5__20220324_162234.pickle', 'gen10e5__20220324_154505.pickle', 'gen10e5__20220324_161727.pickle', 'gen10e5__20220324_162351.pickle', 'gen10e5__20220324_162529.pickle', 'gen10e5__20220324_160029.pickle', 'gen10e5__20220324_162820.pickle', 'gen10e5__20220324_154321.pickle', 'gen10e5__20220324_154154.pickle', 'gen10e5__20220324_170224.pickle', 'gen10e5__20220324_170157.pickle', 'gen10e5__20220324_155521.pickle', 'gen10e5__20220324_154523.pickle', 'gen10e5__20220324_154239.pickle', 'gen10e5__20220324_162556.pickle', 'gen10e5__20220324_171001.pickle', 'gen10e5__20220324_154813.pickle']\n"
     ]
    },
    {
     "name": "stderr",
     "output_type": "stream",
     "text": [
      "Mem Used: 14.66 GB: 100%|██████████| 230/230 [00:43<00:00,  5.29it/s]\n"
     ]
    },
    {
     "name": "stdout",
     "output_type": "stream",
     "text": [
      "Deduplicating...\n",
      "Deduplicating finished with 22996144 games left\n",
      "Using 20 million for training, 2996144 for validation\n",
      "20000000 [19, 18, 17, 9, 1, 0, 26, 2, 10, 11, 4, 20, 13, 34, 25, 3, 43, 29, 12, 6, 45, 50, 37, 42, 52, 53, 54, 8, 41, 51, 58, 49, 14, 22, 33, 48, 16, 21, 40, 32, 7, 24, 5, 61, 57, 55, 15, 44, 59, 38, 63, 30, 47, 60, 39, 46, 31, 23, 62, 56]\n"
     ]
    }
   ],
   "source": [
    "# The Othello class will serve as the dataset object, handling loading (or generating batches) of game-play data\n",
    "# with data_root set to none, we load ood_num number of synthetic games\n",
    "othello_synth = get(ood_num=-1, num_preload=230)\n",
    "print( len(othello_synth), othello_synth.sequences[0])\n",
    "\n",
    "# There should be 20M + 3.796M synthetic games according to the paper text\n",
    "# I get slightly fewer games for whatever reason but largely the same "
   ]
  },
  {
   "cell_type": "code",
   "execution_count": 6,
   "metadata": {},
   "outputs": [
    {
     "name": "stdout",
     "output_type": "stream",
     "text": [
      "Loaded 2986/2986 (qualified/total) sequences from WTHOR-1990.pgn\n",
      "Loaded 465/465 (qualified/total) sequences from liveothello2021.pgn\n",
      "Loaded 1127/1127 (qualified/total) sequences from WTHOR-2019.pgn\n",
      "Loaded 3347/3347 (qualified/total) sequences from WTHOR-1992.pgn\n",
      "Loaded 487/487 (qualified/total) sequences from liveothello2015.pgn\n",
      "Loaded 199/199 (qualified/total) sequences from WTHOR-1983.pgn\n",
      "Loaded 413/413 (qualified/total) sequences from liveothello2013.pgn\n",
      "Loaded 644/645 (qualified/total) sequences from liveothello2016.pgn\n",
      "Loaded 4343/4343 (qualified/total) sequences from WTHOR-1994.pgn\n",
      "Loaded 892/893 (qualified/total) sequences from liveothello2017.pgn\n",
      "Loaded 4348/4348 (qualified/total) sequences from WTHOR-2009.pgn\n",
      "Loaded 2396/2396 (qualified/total) sequences from WTHOR-2013.pgn\n",
      "Loaded 8077/8077 (qualified/total) sequences from WTHOR-1998.pgn\n",
      "Loaded 1386/1386 (qualified/total) sequences from WTHOR-1987.pgn\n",
      "Loaded 2186/2186 (qualified/total) sequences from WTHOR-1989.pgn\n",
      "Loaded 3152/3152 (qualified/total) sequences from WTHOR-1991.pgn\n",
      "Loaded 954/954 (qualified/total) sequences from WTHOR-1985.pgn\n",
      "Loaded 9113/9113 (qualified/total) sequences from WTHOR-2004.pgn\n",
      "Loaded 1440/1440 (qualified/total) sequences from WTHOR-1986.pgn\n",
      "Loaded 1817/1817 (qualified/total) sequences from WTHOR-2014.pgn\n",
      "Loaded 2429/2429 (qualified/total) sequences from WTHOR-2018.pgn\n",
      "Loaded 5423/5423 (qualified/total) sequences from WTHOR-2002.pgn\n",
      "Loaded 862/862 (qualified/total) sequences from liveothello2020.pgn\n",
      "Loaded 160/160 (qualified/total) sequences from WTHOR-1980.pgn\n",
      "Loaded 4199/4199 (qualified/total) sequences from WTHOR-2005.pgn\n",
      "Loaded 12/12 (qualified/total) sequences from WTHOR-1977.pgn\n",
      "Loaded 1823/1823 (qualified/total) sequences from WTHOR-1988.pgn\n",
      "Loaded 8/8 (qualified/total) sequences from WTHOR-1978.pgn\n",
      "Loaded 587/587 (qualified/total) sequences from WTHOR-1984.pgn\n",
      "Loaded 7681/7681 (qualified/total) sequences from WTHOR-1997.pgn\n",
      "Loaded 4253/4253 (qualified/total) sequences from WTHOR-2000.pgn\n",
      "Loaded 2208/2208 (qualified/total) sequences from WTHOR-2012.pgn\n",
      "Loaded 2478/2478 (qualified/total) sequences from WTHOR-2007.pgn\n",
      "Loaded 5852/5852 (qualified/total) sequences from WTHOR-1996.pgn\n",
      "Loaded 3858/3858 (qualified/total) sequences from WTHOR-2003.pgn\n",
      "Loaded 303/303 (qualified/total) sequences from liveothello2011.pgn\n",
      "Loaded 2172/2172 (qualified/total) sequences from WTHOR-2010.pgn\n",
      "Loaded 4968/4968 (qualified/total) sequences from WTHOR-1995.pgn\n",
      "Loaded 674/674 (qualified/total) sequences from liveothello2012.pgn\n",
      "Loaded 2232/2232 (qualified/total) sequences from WTHOR-2008.pgn\n",
      "Loaded 2942/2942 (qualified/total) sequences from WTHOR-2006.pgn\n",
      "Loaded 5575/5575 (qualified/total) sequences from WTHOR-2001.pgn\n",
      "Loaded 7685/7685 (qualified/total) sequences from WTHOR-1999.pgn\n",
      "Loaded 153/153 (qualified/total) sequences from WTHOR-1981.pgn\n",
      "Loaded 1789/1789 (qualified/total) sequences from WTHOR-2015.pgn\n",
      "Loaded 2449/2449 (qualified/total) sequences from WTHOR-2017.pgn\n",
      "Loaded 1891/1891 (qualified/total) sequences from WTHOR-2011.pgn\n",
      "Loaded 326/327 (qualified/total) sequences from liveothello2010.pgn\n",
      "Loaded 110/110 (qualified/total) sequences from WTHOR-1982.pgn\n",
      "Loaded 950/950 (qualified/total) sequences from liveothello2019.pgn\n",
      "Loaded 406/407 (qualified/total) sequences from liveothello2014.pgn\n",
      "Loaded 11/11 (qualified/total) sequences from WTHOR-1979.pgn\n",
      "Loaded 2013/2013 (qualified/total) sequences from WTHOR-2016.pgn\n",
      "Loaded 850/850 (qualified/total) sequences from liveothello2018.pgn\n",
      "Loaded 3484/3484 (qualified/total) sequences from WTHOR-1993.pgn\n"
     ]
    }
   ],
   "source": [
    "othello_real = get(data_root=\"othello_championship\", wthor=True)\n",
    "#print(len(othello_real))\n",
    "#print(othello_real.results)\n",
    "#print(othello_real.sequences[0])\n",
    "\n",
    "# Paper states there should be 7605 + 132,921 games in total combining the two datasets\n",
    "# Note that without edit, the othello object doesnt define self.val when using professional data in this case"
   ]
  },
  {
   "attachments": {},
   "cell_type": "markdown",
   "metadata": {},
   "source": [
    "Look at the game board player"
   ]
  },
  {
   "cell_type": "code",
   "execution_count": 8,
   "metadata": {},
   "outputs": [
    {
     "name": "stdout",
     "output_type": "stream",
     "text": [
      "--------------------\n",
      "[]\n",
      "a                \n",
      "b                \n",
      "c                \n",
      "d       O X      \n",
      "e       X O      \n",
      "f                \n",
      "g                \n",
      "h                \n",
      "  1 2 3 4 5 6 7 8\n",
      "--------------------\n",
      "--------------------\n",
      "['c5']\n",
      "a                \n",
      "b                \n",
      "c         O      \n",
      "d       O O      \n",
      "e       X O      \n",
      "f                \n",
      "g                \n",
      "h                \n",
      "  1 2 3 4 5 6 7 8\n",
      "--------------------\n",
      "--------------------\n",
      "['c5', 'c4']\n",
      "a                \n",
      "b                \n",
      "c       X O      \n",
      "d       X O      \n",
      "e       X O      \n",
      "f                \n",
      "g                \n",
      "h                \n",
      "  1 2 3 4 5 6 7 8\n",
      "--------------------\n",
      "--------------------\n",
      "['c5', 'c4', 'd3']\n",
      "a                \n",
      "b                \n",
      "c       X O      \n",
      "d     O O O      \n",
      "e       X O      \n",
      "f                \n",
      "g                \n",
      "h                \n",
      "  1 2 3 4 5 6 7 8\n",
      "--------------------\n"
     ]
    }
   ],
   "source": [
    "OB = OthelloBoardState()\n",
    "OB.__print__()\n",
    "\n",
    "OB.update([permit(\"c5\")])\n",
    "OB.__print__()\n",
    "\n",
    "OB.update([permit(\"c4\")])\n",
    "OB.__print__()\n",
    "\n",
    "OB.update([permit(\"d3\")])\n",
    "OB.__print__()"
   ]
  }
 ],
 "metadata": {
  "kernelspec": {
   "display_name": "emergent_world",
   "language": "python",
   "name": "python3"
  },
  "language_info": {
   "codemirror_mode": {
    "name": "ipython",
    "version": 3
   },
   "file_extension": ".py",
   "mimetype": "text/x-python",
   "name": "python",
   "nbconvert_exporter": "python",
   "pygments_lexer": "ipython3",
   "version": "3.8.16"
  },
  "orig_nbformat": 4
 },
 "nbformat": 4,
 "nbformat_minor": 2
}
