{
 "cells": [
  {
   "cell_type": "code",
   "execution_count": 6,
   "metadata": {},
   "outputs": [],
   "source": [
    "import torch\n",
    "import matplotlib.pyplot as plt\n",
    "from mpl_toolkits.axes_grid1 import make_axes_locatable\n",
    "from copy import copy\n",
    "from torch.utils.data.dataloader import DataLoader\n",
    "from torch.utils.data import Dataset\n",
    "import multiprocessing\n",
    "\n",
    "import EWOthello.utils.plot_helpers as plt_util\n",
    "from EWOthello.data.othello import *\n",
    "from EWOthello.mingpt.dataset import ProbingDataset_noAge, ProbingDataset, CharDataset # AK's mingpt data child \n",
    "from EWOthello.mingpt.model import GPT, GPTConfig, GPTforProbing # AKs and KLi GPT models\n",
    "#from EWOthello.mingpt.trainer import Trainer, TrainerConfig # AKs GPT trainer\n",
    "from EWOthello.mingpt.probe_trainer import Trainer, TrainerConfig\n",
    "from EWOthello.mingpt.utils import set_seed, sample # AKs helpers for sampling predictions\n",
    "from EWOthello.mingpt.probe_model import BatteryProbeClassification, BatteryProbeClassificationTwoLayer\n",
    "set_seed(44)"
   ]
  },
  {
   "cell_type": "code",
   "execution_count": 7,
   "metadata": {},
   "outputs": [
    {
     "name": "stdout",
     "output_type": "stream",
     "text": [
      "Max num files: 230; Use_num: 11\n",
      "['gen10e5__20220324_165952.pickle', 'gen10e5__20220324_154919.pickle', 'gen10e5__20220324_164123.pickle', 'gen10e5__20220324_154043.pickle', 'gen10e5__20220324_155251.pickle', 'gen10e5__20220324_160016.pickle', 'gen10e5__20220324_165748.pickle', 'gen10e5__20220324_154002.pickle', 'gen10e5__20220324_155241.pickle', 'gen10e5__20220324_165707.pickle', 'gen10e5__20220324_160046.pickle']\n"
     ]
    },
    {
     "name": "stderr",
     "output_type": "stream",
     "text": [
      "Mem Used: 1.69 GB: 100%|██████████| 11/11 [00:03<00:00,  3.09it/s] \n"
     ]
    },
    {
     "name": "stdout",
     "output_type": "stream",
     "text": [
      "Deduplicating...\n",
      "Deduplicating finished with 1099941 games left\n",
      "Using 20 million for training, 0 for validation\n",
      "Dataset created has 1099941 sequences, 61 unique words.\n",
      "61 59\n"
     ]
    }
   ],
   "source": [
    "othello = get(ood_num=-1, data_root=None, num_preload=11) # 11 corresponds to over 1 million games\n",
    "train_dataset = CharDataset(othello) \n",
    "print(train_dataset.vocab_size, train_dataset.block_size)"
   ]
  },
  {
   "cell_type": "code",
   "execution_count": 3,
   "metadata": {},
   "outputs": [],
   "source": [
    "mconf = GPTConfig(train_dataset.vocab_size, train_dataset.block_size, n_layer=8, n_head=8, n_embd=512)\n",
    "model_probe = GPTforProbing(mconf, probe_layer=6)\n",
    "mode = \"synthetic\"\n",
    "\n",
    "if mode==\"random\":\n",
    "    model = GPT(mconf)\n",
    "    model_probe.apply(model._init_weights)\n",
    "else:\n",
    "    path = \"../EWOthello/ckpts/gpt_championship.ckpt\" if mode==\"championship\" else \"../EWOthello/ckpts/gpt_synthetic.ckpt\"\n",
    "    model_probe.load_state_dict(torch.load(path))\n",
    "\n",
    "if torch.cuda.is_available():\n",
    "    device = torch.cuda.current_device()\n",
    "    model_probe = model_probe.to(device)\n",
    "    model = model.to(device)\n"
   ]
  },
  {
   "cell_type": "code",
   "execution_count": 5,
   "metadata": {},
   "outputs": [
    {
     "name": "stdout",
     "output_type": "stream",
     "text": [
      "torch.Size([1, 59, 61])\n",
      "torch.Size([1, 59, 512])\n",
      "[19, 18, 17, 9, 1, 0]\n",
      "['c4', 'c3', 'c2', 'b2', 'a2', 'a1']\n"
     ]
    },
    {
     "data": {
      "image/png": "[encoded data removed]",
      "text/plain": [
       "<Figure size 640x480 with 24 Axes>"
      ]
     },
     "metadata": {},
     "output_type": "display_data"
    }
   ],
   "source": [
    "### BASIC TEST CODE SCRIPTING\n",
    "\n",
    "#######\n",
    "### Simple dimensionality check\n",
    "x, y = train_dataset[0]\n",
    "x = torch.unsqueeze(x, 0)\n",
    "\n",
    "model_out_logits = model(x.to(device))[0]\n",
    "print(model_out_logits.shape)\n",
    "\n",
    "probe_activation = model_probe(x.to(device))\n",
    "print(probe_activation.shape)\n",
    "\n",
    "######\n",
    "#### mini-example before getting to the main part\n",
    "properties_modifier_matrix = np.ones((59, 64))\n",
    "for i in range(59):\n",
    "    if i % 2 == 1:\n",
    "        properties_modifier_matrix[i,:] *= -1.\n",
    "\n",
    "\n",
    "# Grab a single game sequence index vector x\n",
    "loader = DataLoader(train_dataset, shuffle=False, pin_memory=True, batch_size=1, num_workers=1)\n",
    "it = iter(loader)\n",
    "x,_ = next(it)\n",
    "\n",
    "act_container = []\n",
    "property_container = []\n",
    "\n",
    "# Note the sequence length and get tbf = index to tokens\n",
    "tbf = [train_dataset.itos[_] for _ in x.tolist()[0]] # Index to string (converts the sequence to board state)\n",
    "valid_until = tbf.index(-100) if -100 in tbf else 999 # Get true length of game sequence (excluding filler token -100) \n",
    "\n",
    "# Get the activation output features\n",
    "act = model_probe(x.to(device))[0].detach().cpu()  # [block_size, f]\n",
    "act = [_[0] for _ in act.split(1, dim=0)[:valid_until]]  # list of activations after the n-th layer block\n",
    "act_container.extend(act)\n",
    "\n",
    "# Get the board state\n",
    "a = OthelloBoardState()\n",
    "properties = a.get_gt(tbf[:valid_until], \"get_state\")\n",
    "properties_v2 = (np.array(properties) - 1.0) * properties_modifier_matrix[:valid_until, :] + 1.0\n",
    "\n",
    "# Visualize the corresponding board states\n",
    "num = 6\n",
    "fig = plt.figure()\n",
    "ax = plt_util.addAxis(fig, 2, num)\n",
    "print(tbf[:num])\n",
    "print([permit_reverse(move) for move in tbf[:num]])\n",
    "\n",
    "for i in range(num):\n",
    "    board = np.reshape(np.array(properties[i]), [8,8])\n",
    "    board_v2 = np.reshape(np.array(properties_v2[i]), [8,8])\n",
    "\n",
    "    im = ax[i].imshow(board)\n",
    "    divider = make_axes_locatable(ax[i])\n",
    "    cax = divider.append_axes(\"right\", size=\"5%\", pad=0.05)\n",
    "    plt.colorbar(im, cax=cax)\n",
    "\n",
    "    im = ax[i+num].imshow(board_v2)\n",
    "    divider = make_axes_locatable(ax[i+num])\n",
    "    cax = divider.append_axes(\"right\", size=\"5%\", pad=0.05)\n",
    "    plt.colorbar(im, cax=cax)\n",
    "\n",
    "plt_util.format_ax_boardImage(ax)\n",
    "\n",
    "\n",
    "# # Get the \"age\"\n",
    "# a = OthelloBoardState()\n",
    "# ages = a.get_gt(tbf[:valid_until], \"get_age\")  # [block_size, ]\n",
    "# fig = plt.figure()\n",
    "# ax = plt_util.addAxis(fig, 1,num)\n",
    "# for i in range(num):\n",
    "#     out = np.reshape(np.array(ages[i]), [8,8])\n",
    "#     ax[i].imshow(out)\n",
    "# plt.show()"
   ]
  },
  {
   "cell_type": "code",
   "execution_count": 7,
   "metadata": {},
   "outputs": [
    {
     "name": "stderr",
     "output_type": "stream",
     "text": [
      " 21%|██▏       | 235638/1099941 [07:44<28:23, 507.28it/s]  \n"
     ]
    },
    {
     "ename": "KeyboardInterrupt",
     "evalue": "",
     "output_type": "error",
     "traceback": [
      "\u001b[0;31m---------------------------------------------------------------------------\u001b[0m",
      "\u001b[0;31mKeyboardInterrupt\u001b[0m                         Traceback (most recent call last)",
      "\u001b[1;32m/home/deanhazineh/Research/emergent_world_representation/dev_code/test_probe_training_v2.ipynb Cell 5\u001b[0m in \u001b[0;36m1\n\u001b[1;32m      <a href='vscode-notebook-cell:/home/deanhazineh/Research/emergent_world_representation/dev_code/test_probe_training_v2.ipynb#W4sZmlsZQ%3D%3D?line=8'>9</a>\u001b[0m \u001b[39m# Loop and get the board state vectors\u001b[39;00m\n\u001b[1;32m     <a href='vscode-notebook-cell:/home/deanhazineh/Research/emergent_world_representation/dev_code/test_probe_training_v2.ipynb#W4sZmlsZQ%3D%3D?line=9'>10</a>\u001b[0m property_container_v2 \u001b[39m=\u001b[39m []\n\u001b[0;32m---> <a href='vscode-notebook-cell:/home/deanhazineh/Research/emergent_world_representation/dev_code/test_probe_training_v2.ipynb#W4sZmlsZQ%3D%3D?line=10'>11</a>\u001b[0m \u001b[39mfor\u001b[39;00m x, _ \u001b[39min\u001b[39;00m tqdm(loader, total\u001b[39m=\u001b[39m\u001b[39mlen\u001b[39m(loader)):\n\u001b[1;32m     <a href='vscode-notebook-cell:/home/deanhazineh/Research/emergent_world_representation/dev_code/test_probe_training_v2.ipynb#W4sZmlsZQ%3D%3D?line=11'>12</a>\u001b[0m     tbf \u001b[39m=\u001b[39m [train_dataset\u001b[39m.\u001b[39mitos[_] \u001b[39mfor\u001b[39;00m _ \u001b[39min\u001b[39;00m x\u001b[39m.\u001b[39mtolist()[\u001b[39m0\u001b[39m]] \u001b[39m# Index to string (converts the sequence to board state)\u001b[39;00m\n\u001b[1;32m     <a href='vscode-notebook-cell:/home/deanhazineh/Research/emergent_world_representation/dev_code/test_probe_training_v2.ipynb#W4sZmlsZQ%3D%3D?line=12'>13</a>\u001b[0m     valid_until \u001b[39m=\u001b[39m tbf\u001b[39m.\u001b[39mindex(\u001b[39m-\u001b[39m\u001b[39m100\u001b[39m) \u001b[39mif\u001b[39;00m \u001b[39m-\u001b[39m\u001b[39m100\u001b[39m \u001b[39min\u001b[39;00m tbf \u001b[39melse\u001b[39;00m \u001b[39m999\u001b[39m\n",
      "File \u001b[0;32m~/anaconda3/envs/emergent_world/lib/python3.8/site-packages/tqdm/std.py:1178\u001b[0m, in \u001b[0;36mtqdm.__iter__\u001b[0;34m(self)\u001b[0m\n\u001b[1;32m   1175\u001b[0m time \u001b[39m=\u001b[39m \u001b[39mself\u001b[39m\u001b[39m.\u001b[39m_time\n\u001b[1;32m   1177\u001b[0m \u001b[39mtry\u001b[39;00m:\n\u001b[0;32m-> 1178\u001b[0m     \u001b[39mfor\u001b[39;00m obj \u001b[39min\u001b[39;00m iterable:\n\u001b[1;32m   1179\u001b[0m         \u001b[39myield\u001b[39;00m obj\n\u001b[1;32m   1180\u001b[0m         \u001b[39m# Update and possibly print the progressbar.\u001b[39;00m\n\u001b[1;32m   1181\u001b[0m         \u001b[39m# Note: does not call self.update(1) for speed optimisation.\u001b[39;00m\n",
      "File \u001b[0;32m~/anaconda3/envs/emergent_world/lib/python3.8/site-packages/torch/utils/data/dataloader.py:624\u001b[0m, in \u001b[0;36m_BaseDataLoaderIter.__next__\u001b[0;34m(self)\u001b[0m\n\u001b[1;32m    623\u001b[0m \u001b[39mdef\u001b[39;00m \u001b[39m__next__\u001b[39m(\u001b[39mself\u001b[39m) \u001b[39m-\u001b[39m\u001b[39m>\u001b[39m Any:\n\u001b[0;32m--> 624\u001b[0m     \u001b[39mwith\u001b[39;00m torch\u001b[39m.\u001b[39mautograd\u001b[39m.\u001b[39mprofiler\u001b[39m.\u001b[39mrecord_function(\u001b[39mself\u001b[39m\u001b[39m.\u001b[39m_profile_name):\n\u001b[1;32m    625\u001b[0m         \u001b[39mif\u001b[39;00m \u001b[39mself\u001b[39m\u001b[39m.\u001b[39m_sampler_iter \u001b[39mis\u001b[39;00m \u001b[39mNone\u001b[39;00m:\n\u001b[1;32m    626\u001b[0m             \u001b[39m# TODO(https://github.com/pytorch/pytorch/issues/76750)\u001b[39;00m\n\u001b[1;32m    627\u001b[0m             \u001b[39mself\u001b[39m\u001b[39m.\u001b[39m_reset()  \u001b[39m# type: ignore[call-arg]\u001b[39;00m\n",
      "File \u001b[0;32m~/anaconda3/envs/emergent_world/lib/python3.8/site-packages/torch/autograd/profiler.py:488\u001b[0m, in \u001b[0;36mrecord_function.__enter__\u001b[0;34m(self)\u001b[0m\n\u001b[1;32m    487\u001b[0m \u001b[39mdef\u001b[39;00m \u001b[39m__enter__\u001b[39m(\u001b[39mself\u001b[39m):\n\u001b[0;32m--> 488\u001b[0m     \u001b[39mself\u001b[39m\u001b[39m.\u001b[39mhandle \u001b[39m=\u001b[39m torch\u001b[39m.\u001b[39;49mops\u001b[39m.\u001b[39;49mprofiler\u001b[39m.\u001b[39;49m_record_function_enter(\u001b[39mself\u001b[39;49m\u001b[39m.\u001b[39;49mname, \u001b[39mself\u001b[39;49m\u001b[39m.\u001b[39;49margs)\n\u001b[1;32m    489\u001b[0m     \u001b[39mreturn\u001b[39;00m \u001b[39mself\u001b[39m\n",
      "File \u001b[0;32m~/anaconda3/envs/emergent_world/lib/python3.8/site-packages/torch/_ops.py:442\u001b[0m, in \u001b[0;36mOpOverloadPacket.__call__\u001b[0;34m(self, *args, **kwargs)\u001b[0m\n\u001b[1;32m    437\u001b[0m \u001b[39mdef\u001b[39;00m \u001b[39m__call__\u001b[39m(\u001b[39mself\u001b[39m, \u001b[39m*\u001b[39margs, \u001b[39m*\u001b[39m\u001b[39m*\u001b[39mkwargs):\n\u001b[1;32m    438\u001b[0m     \u001b[39m# overloading __call__ to ensure torch.ops.foo.bar()\u001b[39;00m\n\u001b[1;32m    439\u001b[0m     \u001b[39m# is still callable from JIT\u001b[39;00m\n\u001b[1;32m    440\u001b[0m     \u001b[39m# We save the function ptr as the `op` attribute on\u001b[39;00m\n\u001b[1;32m    441\u001b[0m     \u001b[39m# OpOverloadPacket to access it here.\u001b[39;00m\n\u001b[0;32m--> 442\u001b[0m     \u001b[39mreturn\u001b[39;00m \u001b[39mself\u001b[39;49m\u001b[39m.\u001b[39;49m_op(\u001b[39m*\u001b[39;49margs, \u001b[39m*\u001b[39;49m\u001b[39m*\u001b[39;49mkwargs \u001b[39mor\u001b[39;49;00m {})\n",
      "\u001b[0;31mKeyboardInterrupt\u001b[0m: "
     ]
    }
   ],
   "source": [
    "## mini-example before getting to the main part\n",
    "properties_modifier_matrix = np.ones((59, 64))\n",
    "for i in range(59):\n",
    "    if i % 2 == 1:\n",
    "        properties_modifier_matrix[i,:] *= -1.\n",
    "\n",
    "loader = DataLoader(train_dataset, shuffle=False, pin_memory=True, batch_size=1, num_workers=1)\n",
    "\n",
    "# Loop and get the board state vectors\n",
    "property_container_v2 = []\n",
    "for x, _ in tqdm(loader, total=len(loader)):\n",
    "    tbf = [train_dataset.itos[_] for _ in x.tolist()[0]] # Index to string (converts the sequence to board state)\n",
    "    valid_until = tbf.index(-100) if -100 in tbf else 999\n",
    "    \n",
    "    a = OthelloBoardState()\n",
    "    properties = a.get_gt(tbf[:valid_until], \"get_state\")  # [block_size, ]\n",
    "    properties_v2 = (np.array(properties) - 1.0) * properties_modifier_matrix[:valid_until, :] + 1.0\n",
    "    property_container_v2.extend(properties_v2.tolist())\n",
    "\n",
    "    #act = model_probe(x.to(device))[0].detach().cpu()  # [block_size, f]\n",
    "    #act_container.extend([_[0] for _ in act.split(1, dim=0)[:valid_until]])\n",
    "\n",
    "\n",
    "# act_container = []\n",
    "# #property_container = []\n",
    "# property_container_v2 = []\n",
    "# for x, y in tqdm(loader, total=len(loader)):\n",
    "#     tbf = [train_dataset.itos[_] for _ in x.tolist()[0]] # Index to string (converts the sequence to board state)\n",
    "#     valid_until = tbf.index(-100) if -100 in tbf else 999\n",
    "    \n",
    "#     a = OthelloBoardState()\n",
    "#     properties = a.get_gt(tbf[:valid_until], \"get_state\")  # [block_size, ]\n",
    "#     #property_container.extend(properties)\n",
    "\n",
    "#     properties_v2 = (np.array(properties) - 1.0) * properties_modifier_matrix[:valid_until, :] + 1.0\n",
    "#     property_container_v2.extend(properties_v2.tolist())\n",
    "        \n",
    "#     act = model_probe(x.to(device))[0].detach().cpu()  # [block_size, f]\n",
    "#     act_container.extend([_[0] for _ in act.split(1, dim=0)[:valid_until]])\n",
    "\n",
    "# # age_container = []\n",
    "# # for x, y in tqdm(loader, total=len(loader)):\n",
    "# #     tbf = [train_dataset.itos[_] for _ in x.tolist()[0]]\n",
    "# #     valid_until = tbf.index(-100) if -100 in tbf else 999\n",
    "# #     a = OthelloBoardState()\n",
    "# #     ages = a.get_gt(tbf[:valid_until], \"get_age\")  # [block_size, ]\n",
    "# #     age_container.extend(ages)\n"
   ]
  },
  {
   "cell_type": "code",
   "execution_count": 50,
   "metadata": {},
   "outputs": [
    {
     "name": "stderr",
     "output_type": "stream",
     "text": [
      "0it [00:00, ?it/s]"
     ]
    }
   ],
   "source": [
    "# #\n",
    "# loader = DataLoader(train_dataset, shuffle=False, pin_memory=True, batch_size=1, num_workers=1)\n",
    "# properties_modifier_matrix = np.ones((59, 64))\n",
    "# for i in range(59):\n",
    "#     if i % 2 == 1:\n",
    "#         properties_modifier_matrix[i,:] *= -1.\n",
    "\n",
    "# def gen_probe_dataset(iterable):\n",
    "#     x = iterable[0] # get the sequence and drop the next y second term\n",
    "#     tbf = [train_dataset.itos[_] for _ in x.tolist()[0]] # Index to string (converts the sequence to board state)\n",
    "#     valid_until = tbf.index(-100) if -100 in tbf else 999\n",
    "    \n",
    "#     a = OthelloBoardState()\n",
    "#     properties = a.get_gt(tbf[:valid_until], \"get_state\")  # [block_size, ]\n",
    "#     properties_v2 = (np.array(properties) - 1.0) * properties_modifier_matrix[:valid_until, :] + 1.0        \n",
    "#     act = model_probe(x)[0].detach()  # [block_size, f]\n",
    "\n",
    "#     return properties, properties_v2, act\n",
    "    \n",
    "# p = multiprocessing.Pool(multiprocessing.cpu_count())\n",
    "# for can in tqdm(p.imap(gen_probe_dataset, loader, chunksize=1)):\n",
    "#     print(can)    \n",
    "    \n",
    "# p.close()\n",
    "\n",
    "# # def parallel_process(iterable, function, num_processes=None):\n",
    "# #     with multiprocessing.Pool(num_processes) as pool:\n",
    "# #         results = pool.imap(function, iterable)\n",
    "\n",
    "# #     return list(results)\n",
    "\n",
    "# # #\n",
    "# # results = parallel_process(loader, gen_probe_dataset, multiprocessing.cpu_count())\n",
    "# # #print(list(results))\n",
    "\n"
   ]
  },
  {
   "cell_type": "code",
   "execution_count": 27,
   "metadata": {},
   "outputs": [
    {
     "name": "stdout",
     "output_type": "stream",
     "text": [
      "589904 pairs loaded...\n",
      "9237424 17697741 10818691\n",
      "[1895944, 2229884, 2170580, 1912762, 1863669, 1657755, 1614941, 1447185, 1409081, 1271293, 1237100, 1122944, 1091850, 996063, 967937, 887162, 860984, 792900, 768992, 710404, 688316, 638187, 617785, 574105, 554796, 516984, 498823, 465772, 448655, 419754, 403412, 377770, 362363, 339516, 324728, 304349, 290282, 271749, 258255, 241462, 228429, 212943, 200484, 186328, 174291, 161075, 149388, 136975, 125624, 113945, 102974, 91947, 81345, 70729, 60423, 50202, 40139, 30064, 20041, 10017]\n",
      "torch.Size([512])\n",
      "512 64 64\n"
     ]
    }
   ],
   "source": [
    "#probing_dataset = ProbingDataset(act_container, property_container_v2, age_container)\n",
    "\n",
    "\n",
    "probing_dataset  = ProbingDataset_noAge(act_container, property_container_v2)\n",
    "probe = BatteryProbeClassification(device, probe_class=3, num_task=64)\n",
    "\n",
    "# probing dataset returns activation, y, and age\n",
    "# Porbe at the dataloader\n",
    "it = iter(probing_dataset)\n",
    "act, y, age = next(it)\n",
    "\n",
    "print(act.shape)\n",
    "print(len(act), len(y), len(age))"
   ]
  },
  {
   "cell_type": "code",
   "execution_count": 28,
   "metadata": {},
   "outputs": [
    {
     "name": "stdout",
     "output_type": "stream",
     "text": [
      "Decayed: {'proj.weight', 'proj.bias'}\n"
     ]
    },
    {
     "name": "stderr",
     "output_type": "stream",
     "text": [
      "epoch 1: train loss 0.14594; lr 1.00e-03; train acc 96.51%: 100%|██████████| 461/461 [00:05<00:00, 82.22it/s]\n",
      "epoch 2: train loss 0.04649; lr 1.00e-03; train acc 98.93%: 100%|██████████| 461/461 [00:05<00:00, 84.75it/s]\n",
      "epoch 3: train loss 0.03987; lr 1.00e-03; train acc 98.99%: 100%|██████████| 461/461 [00:05<00:00, 84.01it/s]\n",
      "epoch 4: train loss 0.03742; lr 1.00e-03; train acc 99.01%: 100%|██████████| 461/461 [00:05<00:00, 82.16it/s]\n",
      "epoch 5: train loss 0.03670; lr 1.00e-03; train acc 99.02%:  52%|█████▏    | 238/461 [00:02<00:02, 85.04it/s]\n"
     ]
    },
    {
     "ename": "KeyboardInterrupt",
     "evalue": "",
     "output_type": "error",
     "traceback": [
      "\u001b[0;31m---------------------------------------------------------------------------\u001b[0m",
      "\u001b[0;31mKeyboardInterrupt\u001b[0m                         Traceback (most recent call last)",
      "\u001b[1;32m/home/deanhazineh/Research/emergent_world_representation/dev_code/test_probe_training_v2.ipynb Cell 8\u001b[0m in \u001b[0;36m2\n\u001b[1;32m     <a href='vscode-notebook-cell:/home/deanhazineh/Research/emergent_world_representation/dev_code/test_probe_training_v2.ipynb#X11sZmlsZQ%3D%3D?line=10'>11</a>\u001b[0m tconf \u001b[39m=\u001b[39m TrainerConfig(\n\u001b[1;32m     <a href='vscode-notebook-cell:/home/deanhazineh/Research/emergent_world_representation/dev_code/test_probe_training_v2.ipynb#X11sZmlsZQ%3D%3D?line=11'>12</a>\u001b[0m     max_epochs\u001b[39m=\u001b[39mmax_epochs,\n\u001b[1;32m     <a href='vscode-notebook-cell:/home/deanhazineh/Research/emergent_world_representation/dev_code/test_probe_training_v2.ipynb#X11sZmlsZQ%3D%3D?line=12'>13</a>\u001b[0m     batch_size\u001b[39m=\u001b[39m\u001b[39m1024\u001b[39m,\n\u001b[0;32m   (...)\u001b[0m\n\u001b[1;32m     <a href='vscode-notebook-cell:/home/deanhazineh/Research/emergent_world_representation/dev_code/test_probe_training_v2.ipynb#X11sZmlsZQ%3D%3D?line=20'>21</a>\u001b[0m     ckpt_path\u001b[39m=\u001b[39msavepath \u001b[39m+\u001b[39m \u001b[39mf\u001b[39m\u001b[39m\"\u001b[39m\u001b[39mprobe_test_at\u001b[39m\u001b[39m{\u001b[39;00mt_start\u001b[39m}\u001b[39;00m\u001b[39m.ckpt\u001b[39m\u001b[39m\"\u001b[39m, \n\u001b[1;32m     <a href='vscode-notebook-cell:/home/deanhazineh/Research/emergent_world_representation/dev_code/test_probe_training_v2.ipynb#X11sZmlsZQ%3D%3D?line=21'>22</a>\u001b[0m )\n\u001b[1;32m     <a href='vscode-notebook-cell:/home/deanhazineh/Research/emergent_world_representation/dev_code/test_probe_training_v2.ipynb#X11sZmlsZQ%3D%3D?line=22'>23</a>\u001b[0m trainer \u001b[39m=\u001b[39m Trainer(probe, train_dataset, test_dataset, tconf)\n\u001b[0;32m---> <a href='vscode-notebook-cell:/home/deanhazineh/Research/emergent_world_representation/dev_code/test_probe_training_v2.ipynb#X11sZmlsZQ%3D%3D?line=23'>24</a>\u001b[0m trainer\u001b[39m.\u001b[39;49mtrain(prt\u001b[39m=\u001b[39;49m\u001b[39mTrue\u001b[39;49;00m)\n\u001b[1;32m     <a href='vscode-notebook-cell:/home/deanhazineh/Research/emergent_world_representation/dev_code/test_probe_training_v2.ipynb#X11sZmlsZQ%3D%3D?line=24'>25</a>\u001b[0m trainer\u001b[39m.\u001b[39msave_traces()\n\u001b[1;32m     <a href='vscode-notebook-cell:/home/deanhazineh/Research/emergent_world_representation/dev_code/test_probe_training_v2.ipynb#X11sZmlsZQ%3D%3D?line=25'>26</a>\u001b[0m trainer\u001b[39m.\u001b[39msave_checkpoint()\n",
      "File \u001b[0;32m~/Research/emergent_world_representation/EWOthello/mingpt/probe_trainer.py:160\u001b[0m, in \u001b[0;36mTrainer.train\u001b[0;34m(self, prt)\u001b[0m\n\u001b[1;32m    157\u001b[0m \u001b[39mself\u001b[39m\u001b[39m.\u001b[39mtokens \u001b[39m=\u001b[39m \u001b[39m0\u001b[39m  \u001b[39m# counter used for learning rate decay\u001b[39;00m\n\u001b[1;32m    159\u001b[0m \u001b[39mfor\u001b[39;00m epoch \u001b[39min\u001b[39;00m \u001b[39mrange\u001b[39m(config\u001b[39m.\u001b[39mmax_epochs):\n\u001b[0;32m--> 160\u001b[0m     run_epoch(\u001b[39m\"\u001b[39;49m\u001b[39mtrain\u001b[39;49m\u001b[39m\"\u001b[39;49m)\n\u001b[1;32m    161\u001b[0m     \u001b[39mif\u001b[39;00m \u001b[39mself\u001b[39m\u001b[39m.\u001b[39mtest_dataset \u001b[39mis\u001b[39;00m \u001b[39mnot\u001b[39;00m \u001b[39mNone\u001b[39;00m:\n\u001b[1;32m    162\u001b[0m         test_loss \u001b[39m=\u001b[39m run_epoch(\u001b[39m\"\u001b[39m\u001b[39mtest\u001b[39m\u001b[39m\"\u001b[39m)\n",
      "File \u001b[0;32m~/Research/emergent_world_representation/EWOthello/mingpt/probe_trainer.py:122\u001b[0m, in \u001b[0;36mTrainer.train.<locals>.run_epoch\u001b[0;34m(split)\u001b[0m\n\u001b[1;32m    119\u001b[0m age \u001b[39m=\u001b[39m age\u001b[39m.\u001b[39mto(\u001b[39mself\u001b[39m\u001b[39m.\u001b[39mdevice)  \u001b[39m# [B, #task=64], in 0--59\u001b[39;00m\n\u001b[1;32m    121\u001b[0m \u001b[39mwith\u001b[39;00m torch\u001b[39m.\u001b[39mset_grad_enabled(is_train):\n\u001b[0;32m--> 122\u001b[0m     logits, loss \u001b[39m=\u001b[39m model(x, y)\n\u001b[1;32m    123\u001b[0m     loss \u001b[39m=\u001b[39m loss\u001b[39m.\u001b[39mmean()  \u001b[39m# collapse all losses if they are scattered on multiple gpus\u001b[39;00m\n\u001b[1;32m    124\u001b[0m     losses\u001b[39m.\u001b[39mappend(loss\u001b[39m.\u001b[39mitem())\n",
      "File \u001b[0;32m~/anaconda3/envs/emergent_world/lib/python3.8/site-packages/torch/nn/modules/module.py:1194\u001b[0m, in \u001b[0;36mModule._call_impl\u001b[0;34m(self, *input, **kwargs)\u001b[0m\n\u001b[1;32m   1190\u001b[0m \u001b[39m# If we don't have any hooks, we want to skip the rest of the logic in\u001b[39;00m\n\u001b[1;32m   1191\u001b[0m \u001b[39m# this function, and just call forward.\u001b[39;00m\n\u001b[1;32m   1192\u001b[0m \u001b[39mif\u001b[39;00m \u001b[39mnot\u001b[39;00m (\u001b[39mself\u001b[39m\u001b[39m.\u001b[39m_backward_hooks \u001b[39mor\u001b[39;00m \u001b[39mself\u001b[39m\u001b[39m.\u001b[39m_forward_hooks \u001b[39mor\u001b[39;00m \u001b[39mself\u001b[39m\u001b[39m.\u001b[39m_forward_pre_hooks \u001b[39mor\u001b[39;00m _global_backward_hooks\n\u001b[1;32m   1193\u001b[0m         \u001b[39mor\u001b[39;00m _global_forward_hooks \u001b[39mor\u001b[39;00m _global_forward_pre_hooks):\n\u001b[0;32m-> 1194\u001b[0m     \u001b[39mreturn\u001b[39;00m forward_call(\u001b[39m*\u001b[39;49m\u001b[39minput\u001b[39;49m, \u001b[39m*\u001b[39;49m\u001b[39m*\u001b[39;49mkwargs)\n\u001b[1;32m   1195\u001b[0m \u001b[39m# Do not call functions when jit is used\u001b[39;00m\n\u001b[1;32m   1196\u001b[0m full_backward_hooks, non_full_backward_hooks \u001b[39m=\u001b[39m [], []\n",
      "File \u001b[0;32m~/anaconda3/envs/emergent_world/lib/python3.8/site-packages/torch/nn/parallel/data_parallel.py:161\u001b[0m, in \u001b[0;36mDataParallel.forward\u001b[0;34m(self, *inputs, **kwargs)\u001b[0m\n\u001b[1;32m    156\u001b[0m     \u001b[39mif\u001b[39;00m t\u001b[39m.\u001b[39mdevice \u001b[39m!=\u001b[39m \u001b[39mself\u001b[39m\u001b[39m.\u001b[39msrc_device_obj:\n\u001b[1;32m    157\u001b[0m         \u001b[39mraise\u001b[39;00m \u001b[39mRuntimeError\u001b[39;00m(\u001b[39m\"\u001b[39m\u001b[39mmodule must have its parameters and buffers \u001b[39m\u001b[39m\"\u001b[39m\n\u001b[1;32m    158\u001b[0m                            \u001b[39m\"\u001b[39m\u001b[39mon device \u001b[39m\u001b[39m{}\u001b[39;00m\u001b[39m (device_ids[0]) but found one of \u001b[39m\u001b[39m\"\u001b[39m\n\u001b[1;32m    159\u001b[0m                            \u001b[39m\"\u001b[39m\u001b[39mthem on device: \u001b[39m\u001b[39m{}\u001b[39;00m\u001b[39m\"\u001b[39m\u001b[39m.\u001b[39mformat(\u001b[39mself\u001b[39m\u001b[39m.\u001b[39msrc_device_obj, t\u001b[39m.\u001b[39mdevice))\n\u001b[0;32m--> 161\u001b[0m inputs, kwargs \u001b[39m=\u001b[39m \u001b[39mself\u001b[39;49m\u001b[39m.\u001b[39;49mscatter(inputs, kwargs, \u001b[39mself\u001b[39;49m\u001b[39m.\u001b[39;49mdevice_ids)\n\u001b[1;32m    162\u001b[0m \u001b[39m# for forward function without any inputs, empty list and dict will be created\u001b[39;00m\n\u001b[1;32m    163\u001b[0m \u001b[39m# so the module can be executed on one device which is the first one in device_ids\u001b[39;00m\n\u001b[1;32m    164\u001b[0m \u001b[39mif\u001b[39;00m \u001b[39mnot\u001b[39;00m inputs \u001b[39mand\u001b[39;00m \u001b[39mnot\u001b[39;00m kwargs:\n",
      "File \u001b[0;32m~/anaconda3/envs/emergent_world/lib/python3.8/site-packages/torch/nn/parallel/data_parallel.py:178\u001b[0m, in \u001b[0;36mDataParallel.scatter\u001b[0;34m(self, inputs, kwargs, device_ids)\u001b[0m\n\u001b[1;32m    177\u001b[0m \u001b[39mdef\u001b[39;00m \u001b[39mscatter\u001b[39m(\u001b[39mself\u001b[39m, inputs, kwargs, device_ids):\n\u001b[0;32m--> 178\u001b[0m     \u001b[39mreturn\u001b[39;00m scatter_kwargs(inputs, kwargs, device_ids, dim\u001b[39m=\u001b[39;49m\u001b[39mself\u001b[39;49m\u001b[39m.\u001b[39;49mdim)\n",
      "File \u001b[0;32m~/anaconda3/envs/emergent_world/lib/python3.8/site-packages/torch/nn/parallel/scatter_gather.py:52\u001b[0m, in \u001b[0;36mscatter_kwargs\u001b[0;34m(inputs, kwargs, target_gpus, dim)\u001b[0m\n\u001b[1;32m     50\u001b[0m \u001b[39mdef\u001b[39;00m \u001b[39mscatter_kwargs\u001b[39m(inputs, kwargs, target_gpus, dim\u001b[39m=\u001b[39m\u001b[39m0\u001b[39m):\n\u001b[1;32m     51\u001b[0m     \u001b[39mr\u001b[39m\u001b[39m\"\"\"Scatter with support for kwargs dictionary\"\"\"\u001b[39;00m\n\u001b[0;32m---> 52\u001b[0m     inputs \u001b[39m=\u001b[39m scatter(inputs, target_gpus, dim) \u001b[39mif\u001b[39;00m inputs \u001b[39melse\u001b[39;00m []\n\u001b[1;32m     53\u001b[0m     kwargs \u001b[39m=\u001b[39m scatter(kwargs, target_gpus, dim) \u001b[39mif\u001b[39;00m kwargs \u001b[39melse\u001b[39;00m []\n\u001b[1;32m     54\u001b[0m     \u001b[39mif\u001b[39;00m \u001b[39mlen\u001b[39m(inputs) \u001b[39m<\u001b[39m \u001b[39mlen\u001b[39m(kwargs):\n",
      "File \u001b[0;32m~/anaconda3/envs/emergent_world/lib/python3.8/site-packages/torch/nn/parallel/scatter_gather.py:44\u001b[0m, in \u001b[0;36mscatter\u001b[0;34m(inputs, target_gpus, dim)\u001b[0m\n\u001b[1;32m     38\u001b[0m \u001b[39m# After scatter_map is called, a scatter_map cell will exist. This cell\u001b[39;00m\n\u001b[1;32m     39\u001b[0m \u001b[39m# has a reference to the actual function scatter_map, which has references\u001b[39;00m\n\u001b[1;32m     40\u001b[0m \u001b[39m# to a closure that has a reference to the scatter_map cell (because the\u001b[39;00m\n\u001b[1;32m     41\u001b[0m \u001b[39m# fn is recursive). To avoid this reference cycle, we set the function to\u001b[39;00m\n\u001b[1;32m     42\u001b[0m \u001b[39m# None, clearing the cell\u001b[39;00m\n\u001b[1;32m     43\u001b[0m \u001b[39mtry\u001b[39;00m:\n\u001b[0;32m---> 44\u001b[0m     res \u001b[39m=\u001b[39m scatter_map(inputs)\n\u001b[1;32m     45\u001b[0m \u001b[39mfinally\u001b[39;00m:\n\u001b[1;32m     46\u001b[0m     scatter_map \u001b[39m=\u001b[39m \u001b[39mNone\u001b[39;00m\n",
      "File \u001b[0;32m~/anaconda3/envs/emergent_world/lib/python3.8/site-packages/torch/nn/parallel/scatter_gather.py:31\u001b[0m, in \u001b[0;36mscatter.<locals>.scatter_map\u001b[0;34m(obj)\u001b[0m\n\u001b[1;32m     29\u001b[0m     \u001b[39mreturn\u001b[39;00m [\u001b[39mtype\u001b[39m(obj)(\u001b[39m*\u001b[39margs) \u001b[39mfor\u001b[39;00m args \u001b[39min\u001b[39;00m \u001b[39mzip\u001b[39m(\u001b[39m*\u001b[39m\u001b[39mmap\u001b[39m(scatter_map, obj))]\n\u001b[1;32m     30\u001b[0m \u001b[39mif\u001b[39;00m \u001b[39misinstance\u001b[39m(obj, \u001b[39mtuple\u001b[39m) \u001b[39mand\u001b[39;00m \u001b[39mlen\u001b[39m(obj) \u001b[39m>\u001b[39m \u001b[39m0\u001b[39m:\n\u001b[0;32m---> 31\u001b[0m     \u001b[39mreturn\u001b[39;00m \u001b[39mlist\u001b[39m(\u001b[39mzip\u001b[39;49m(\u001b[39m*\u001b[39;49m\u001b[39mmap\u001b[39;49m(scatter_map, obj)))\n\u001b[1;32m     32\u001b[0m \u001b[39mif\u001b[39;00m \u001b[39misinstance\u001b[39m(obj, \u001b[39mlist\u001b[39m) \u001b[39mand\u001b[39;00m \u001b[39mlen\u001b[39m(obj) \u001b[39m>\u001b[39m \u001b[39m0\u001b[39m:\n\u001b[1;32m     33\u001b[0m     \u001b[39mreturn\u001b[39;00m [\u001b[39mlist\u001b[39m(i) \u001b[39mfor\u001b[39;00m i \u001b[39min\u001b[39;00m \u001b[39mzip\u001b[39m(\u001b[39m*\u001b[39m\u001b[39mmap\u001b[39m(scatter_map, obj))]\n",
      "\u001b[0;31mKeyboardInterrupt\u001b[0m: "
     ]
    }
   ],
   "source": [
    "train_size = int(0.8 * len(probing_dataset))\n",
    "test_size = len(probing_dataset) - train_size\n",
    "train_dataset, test_dataset = torch.utils.data.random_split(probing_dataset, [train_size, test_size])\n",
    "\n",
    "sampler = None\n",
    "train_loader = DataLoader(train_dataset, shuffle=False, sampler=sampler, pin_memory=True, batch_size=128, num_workers=1)\n",
    "test_loader = DataLoader(test_dataset, shuffle=True, pin_memory=True, batch_size=128, num_workers=1)\n",
    "\n",
    "savepath = \"../EWOthello/ckpts/\"\n",
    "max_epochs = 50\n",
    "t_start = time.strftime(\"_%Y%m%d_%H%M%S\")\n",
    "tconf = TrainerConfig(\n",
    "    max_epochs=max_epochs,\n",
    "    batch_size=1024,\n",
    "    learning_rate=1e-3,\n",
    "    betas=(0.9, 0.999),\n",
    "    lr_decay=True,\n",
    "    warmup_tokens=len(train_dataset) * 5,\n",
    "    final_tokens=len(train_dataset) * max_epochs,\n",
    "    num_workers=4,\n",
    "    weight_decay=0.0,\n",
    "    ckpt_path=savepath + f\"probe_test_at{t_start}.ckpt\", \n",
    ")\n",
    "\n",
    "trainer = Trainer(probe, train_dataset, test_dataset, tconf)\n",
    "trainer.train(prt=True)\n",
    "trainer.save_traces()\n",
    "trainer.save_checkpoint()\n"
   ]
  }
 ],
 "metadata": {
  "kernelspec": {
   "display_name": "emergent_world",
   "language": "python",
   "name": "python3"
  },
  "language_info": {
   "codemirror_mode": {
    "name": "ipython",
    "version": 3
   },
   "file_extension": ".py",
   "mimetype": "text/x-python",
   "name": "python",
   "nbconvert_exporter": "python",
   "pygments_lexer": "ipython3",
   "version": "3.8.16"
  },
  "orig_nbformat": 4
 },
 "nbformat": 4,
 "nbformat_minor": 2
}
