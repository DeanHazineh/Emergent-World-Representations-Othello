{
 "cells": [
  {
   "attachments": {},
   "cell_type": "markdown",
   "metadata": {},
   "source": [
    "## Import packages and specify local GPU for training"
   ]
  },
  {
   "cell_type": "code",
   "execution_count": 2,
   "metadata": {},
   "outputs": [
    {
     "name": "stdout",
     "output_type": "stream",
     "text": [
      "True\n",
      "NVIDIA GeForce RTX 3090 Ti\n"
     ]
    }
   ],
   "source": [
    "import torch\n",
    "import matplotlib.pyplot as plt\n",
    "from mpl_toolkits.axes_grid1 import make_axes_locatable\n",
    "from torch.utils.data import Dataset, DataLoader, random_split\n",
    "import torch.optim as optim\n",
    "\n",
    "import EWOthello.utils.plot_helpers as plt_util\n",
    "from EWOthello.data.othello import *\n",
    "from EWOthello.mingpt.dataset import ProbingDataset, CharDataset # AK's mingpt data child \n",
    "from EWOthello.mingpt.model import GPT, GPTConfig, GPTforProbing, GPTforProbing_v2\n",
    "from EWOthello.mingpt.probe_trainer import Trainer, TrainerConfig\n",
    "from EWOthello.mingpt.utils import set_seed, sample # AKs helpers for sampling predictions\n",
    "from EWOthello.mingpt.probe_model import BatteryProbeClassification\n",
    "set_seed(44)\n",
    "\n",
    "print(torch.cuda.is_available())\n",
    "device = torch.cuda.current_device()\n",
    "print(torch.cuda.get_device_name(device))"
   ]
  },
  {
   "attachments": {},
   "cell_type": "markdown",
   "metadata": {},
   "source": [
    "## Test Generation of Probe Datasets"
   ]
  },
  {
   "cell_type": "code",
   "execution_count": 3,
   "metadata": {},
   "outputs": [
    {
     "name": "stdout",
     "output_type": "stream",
     "text": [
      "Max num files: 230; Use_num: 11\n",
      "['gen10e5__20220324_165952.pickle', 'gen10e5__20220324_154919.pickle', 'gen10e5__20220324_164123.pickle', 'gen10e5__20220324_154043.pickle', 'gen10e5__20220324_155251.pickle', 'gen10e5__20220324_160016.pickle', 'gen10e5__20220324_165748.pickle', 'gen10e5__20220324_154002.pickle', 'gen10e5__20220324_155241.pickle', 'gen10e5__20220324_165707.pickle', 'gen10e5__20220324_160046.pickle']\n"
     ]
    },
    {
     "name": "stderr",
     "output_type": "stream",
     "text": [
      "Mem Used: 1.059 GB: 100%|██████████| 11/11 [00:01<00:00,  5.82it/s]\n"
     ]
    },
    {
     "name": "stdout",
     "output_type": "stream",
     "text": [
      "Deduplicating...\n",
      "Deduplicating finished with 1099941 games left\n",
      "Using 20 million for training, 0 for validation\n",
      "Dataset created has 1099941 sequences, 61 unique words.\n"
     ]
    }
   ],
   "source": [
    "othello = get(ood_num=-1, data_root=None, num_preload=11) # 11 corresponds to over 1 million games\n",
    "game_dataset = CharDataset(othello) "
   ]
  },
  {
   "cell_type": "code",
   "execution_count": 3,
   "metadata": {},
   "outputs": [
    {
     "name": "stderr",
     "output_type": "stream",
     "text": [
      "  0%|          | 0/1099941 [00:00<?, ?it/s]\n"
     ]
    },
    {
     "name": "stdout",
     "output_type": "stream",
     "text": [
      "59\n",
      "59\n",
      "[19, 18, 17, 9, 1]\n",
      "['c4', 'c3', 'c2', 'b2', 'a2']\n"
     ]
    },
    {
     "data": {
      "image/png": "[encoded data removed]",
      "text/plain": [
       "<Figure size 1000x400 with 10 Axes>"
      ]
     },
     "metadata": {},
     "output_type": "display_data"
    }
   ],
   "source": [
    "mconf = GPTConfig(game_dataset.vocab_size, game_dataset.block_size, n_layer=8, n_head=8, n_embd=512)\n",
    "model_probe = GPTforProbing(mconf, probe_layer=6)\n",
    "mode = \"synthetic\"\n",
    "\n",
    "if mode==\"random\":\n",
    "    model = GPT(mconf)\n",
    "    model_probe.apply(model._init_weights)\n",
    "else:\n",
    "    path = \"../EWOthello/ckpts/gpt_championship.ckpt\" if mode==\"championship\" else \"../EWOthello/ckpts/gpt_synthetic.ckpt\"\n",
    "    model_probe.load_state_dict(torch.load(path))\n",
    "    \n",
    "if torch.cuda.is_available():\n",
    "    model_probe = model_probe.to(device)\n",
    "\n",
    "#########\n",
    "### Test the code to get the probe dataset\n",
    "properties_modifier_matrix = np.ones((59, 64))\n",
    "for i in range(59):\n",
    "    if i % 2 == 1:\n",
    "        properties_modifier_matrix[i, :] *= -1.0\n",
    "\n",
    "property_container_v2 = []\n",
    "property_container = []\n",
    "act_container = []\n",
    "for x, _ in tqdm(game_dataset):\n",
    "    # Convert the game index sequence to board number sequence for use with the othello board class\n",
    "    tbf = [game_dataset.itos[_] for _ in x.tolist()]\n",
    "    valid_until = tbf.index(-100) if -100 in tbf else 999\n",
    "\n",
    "    # Get the board state vectors\n",
    "    a = OthelloBoardState()\n",
    "    properties = a.get_gt(tbf[:valid_until], \"get_state\")\n",
    "    property_container.extend(properties)\n",
    "    properties_v2 = (np.array(properties) - 1.0) * properties_modifier_matrix[:valid_until, :] + 1.0\n",
    "    property_container_v2.extend(properties_v2.tolist())\n",
    "\n",
    "    # Get the activation vectors\n",
    "    act = model_probe(x[None, :].to(device))[0].detach().cpu().split(1, dim=0)    \n",
    "    act_container.extend(act)\n",
    "    break\n",
    "print(len(property_container_v2))\n",
    "print(len(act_container))\n",
    "\n",
    "# Visualize the board state before and after modification\n",
    "num_disp = 5\n",
    "print(tbf[:num_disp])\n",
    "print(plt_util.seq_to_boardCoord(tbf[:num_disp]))\n",
    "\n",
    "fig = plt.figure(figsize=(num_disp*2, 4))\n",
    "ax = plt_util.addAxis(fig, 2, num_disp)\n",
    "for i in range(num_disp):\n",
    "    ax[i].imshow(np.reshape(property_container[i], [8,8]))\n",
    "    ax[i+num_disp].imshow(np.reshape(property_container_v2[i], [8,8]))\n",
    "\n",
    "plt_util.format_ax_boardImage(ax)"
   ]
  },
  {
   "attachments": {},
   "cell_type": "markdown",
   "metadata": {},
   "source": [
    "## Run Training for GPT Linear Probes"
   ]
  },
  {
   "cell_type": "code",
   "execution_count": 4,
   "metadata": {},
   "outputs": [],
   "source": [
    "class probe_dataset(Dataset):\n",
    "    def __init__(self, game_dataset, probe_layer, property_type=\"new\"):\n",
    "        self.game_dataset = game_dataset\n",
    "        self.property_type = property_type # 'old' vs 'new'\n",
    "        self.property_modifier = np.concatenate([np.ones((1,64))*(-1)**i for i in range(59)],axis=0)\n",
    "\n",
    "        # Define the GPT probe model to return activations\n",
    "        mconf = GPTConfig(game_dataset.vocab_size, game_dataset.block_size, n_layer=8, n_head=8, n_embd=512)\n",
    "        GPT_probe = GPTforProbing(mconf, probe_layer=probe_layer)\n",
    "        GPT_probe.load_state_dict(torch.load(\"../EWOthello/ckpts/gpt_synthetic.ckpt\"))\n",
    "        for param in GPT_probe.parameters():\n",
    "            param.requires_grad = False\n",
    "        GPT_probe.eval()\n",
    "        self.GPT_probe = GPT_probe.to(device)\n",
    "    \n",
    "    def __len__(self):\n",
    "        return len(self.game_dataset)\n",
    "\n",
    "    def __getitem__(self, index):\n",
    "        x, _ = self.game_dataset[index]\n",
    "        tbf = [game_dataset.itos[_] for _ in x.tolist()]\n",
    "        valid_until = tbf.index(-100) if -100 in tbf else 999\n",
    "\n",
    "        # Get the board state vectors\n",
    "        a = OthelloBoardState()\n",
    "        board_state = a.get_gt(tbf[:valid_until], \"get_state\")\n",
    "        if self.property_type==\"new\":\n",
    "            board_state = (np.array(board_state) - 1.0) * self.property_modifier[:valid_until, :] + 1.0\n",
    "\n",
    "        # Get the activation vectors\n",
    "        act = self.GPT_probe(x[None, :].to(device))[0, :valid_until, :].detach().cpu()\n",
    "        \n",
    "        return act, torch.tensor(board_state, dtype=torch.float32)"
   ]
  },
  {
   "cell_type": "code",
   "execution_count": 5,
   "metadata": {},
   "outputs": [
    {
     "name": "stdout",
     "output_type": "stream",
     "text": [
      "Max num files: 230; Use_num: 10\n",
      "['gen10e5__20220324_165952.pickle', 'gen10e5__20220324_154919.pickle', 'gen10e5__20220324_164123.pickle', 'gen10e5__20220324_154043.pickle', 'gen10e5__20220324_155251.pickle', 'gen10e5__20220324_160016.pickle', 'gen10e5__20220324_165748.pickle', 'gen10e5__20220324_154002.pickle', 'gen10e5__20220324_155241.pickle', 'gen10e5__20220324_165707.pickle']\n"
     ]
    },
    {
     "name": "stderr",
     "output_type": "stream",
     "text": [
      "Mem Used: 1.686 GB: 100%|██████████| 10/10 [00:04<00:00,  2.10it/s]\n"
     ]
    },
    {
     "name": "stdout",
     "output_type": "stream",
     "text": [
      "Deduplicating...\n",
      "Deduplicating finished with 999947 games left\n",
      "Using 20 million for training, 0 for validation\n",
      "Dataset created has 999947 sequences, 61 unique words.\n"
     ]
    }
   ],
   "source": [
    "othello = get(ood_num=-1, data_root=None, num_preload=10) # 11 corresponds to over 1 million games\n",
    "game_dataset = CharDataset(othello) "
   ]
  },
  {
   "cell_type": "code",
   "execution_count": 6,
   "metadata": {},
   "outputs": [],
   "source": [
    "def train_linear_probe(probe_layer, savepath, property_type=\"new\", num_epochs=1, save_at_steps=100, verbose=False):\n",
    "    training_data = probe_dataset(game_dataset, probe_layer=probe_layer, property_type=property_type)\n",
    "    probe = BatteryProbeClassification(device, probe_class=3, num_task=64, input_dim=512)\n",
    "    train_ratio = 0.8\n",
    "    batch_size = 512 #Batch over number of games (each game has 59 max moves played)\n",
    "    learning_rate = 0.01\n",
    "    model_name = f\"linearProbe_Map_{property_type}_8L8H_GPT_Layer{probe_layer}\"\n",
    "\n",
    "    def my_collate_fn(batch):\n",
    "        xstack = []\n",
    "        ystack = []\n",
    "        for batchit in batch:\n",
    "            xstack.append(batchit[0])\n",
    "            ystack.append(batchit[1])\n",
    "        \n",
    "        x =  torch.cat(xstack, dim=0)\n",
    "        y = torch.cat(ystack, dim=0)\n",
    "        return (x,y)\n",
    "\n",
    "    train_size = int(train_ratio * len(training_data))\n",
    "    test_size = len(training_data) - train_size\n",
    "    train_dataset, test_dataset = random_split(training_data, [train_size, test_size])\n",
    "    train_dataloader = DataLoader(train_dataset, batch_size=batch_size, shuffle=True, collate_fn=my_collate_fn)\n",
    "    test_dataloader = DataLoader(test_dataset, batch_size=batch_size, shuffle=True, collate_fn=my_collate_fn)\n",
    "    test_iter = iter(test_dataloader)\n",
    "    optimizer = optim.Adam(probe.parameters(), lr=learning_rate)\n",
    "    training_loss_history = []\n",
    "    testing_loss_history = []\n",
    "    testing_board_accuracy = []\n",
    "\n",
    "    print(f\"Training Model Name: {model_name}; training/test set size {train_size}/{test_size}\")\n",
    "    if os.path.exists(savepath + model_name + \".ckpt\"):\n",
    "        probe.load_state_dict(torch.load(savepath + model_name + \".ckpt\"))\n",
    "        print(f\"Loaded model checkpopint from {savepath + model_name + '.ckpt'}\")\n",
    "        with open(savepath + model_name + \".pickle\", 'rb') as fhandle:\n",
    "            training_history = pickle.load(fhandle)\n",
    "            training_loss_history = training_history[\"training_loss\"]\n",
    "            testing_loss_history = training_history[\"testing_loss\"]\n",
    "            testing_board_accuracy = training_history[\"testing_board_acc\"]\n",
    "\n",
    "    for epoch in range(num_epochs):\n",
    "        #for i, (x,y) in tqdm(enumerate(train_dataloader)):\n",
    "        i = 0\n",
    "        for (x,y) in tqdm(train_dataloader):\n",
    "            ### Train the Probe\n",
    "            probe.train()\n",
    "            x = x.to(device)\n",
    "            y = y.to(device)\n",
    "\n",
    "            logits, loss = probe(x, y)\n",
    "            train_loss = loss.item()\n",
    "            training_loss_history.append(train_loss)\n",
    "\n",
    "            optimizer.zero_grad()\n",
    "            loss.backward()\n",
    "            optimizer.step()\n",
    "\n",
    "            ### Compute the error on validation batch\n",
    "            probe.eval()\n",
    "            with torch.no_grad():\n",
    "                try:\n",
    "                    x,y = next(test_iter)\n",
    "                except:\n",
    "                    test_iter = iter(test_dataloader)\n",
    "                    x,y = next(test_iter)\n",
    "\n",
    "                x = x.to(device)\n",
    "                y = y.to(device)        \n",
    "                logits, loss = probe(x,y)\n",
    "                test_loss = loss.item()\n",
    "                testing_loss_history.append(test_loss)\n",
    "\n",
    "                y_hat = torch.argmax(logits, dim=-1, keepdim=False)  # [B, #task]\n",
    "                mean_board_acc = torch.mean(torch.sum(y_hat == y ,-1)/64).item()\n",
    "                testing_board_accuracy.append(mean_board_acc)\n",
    "\n",
    "            ### Print update\n",
    "            i = i + 1\n",
    "            if verbose:\n",
    "                print(f'step [{i+1}/{len(train_dataloader)}], Train Loss: {train_loss:.4f}, Test Loss: {test_loss:.4f}, Avg. Board Acc. Test {mean_board_acc:.3f}')\n",
    "\n",
    "            if (i+1) % save_at_steps == 0:\n",
    "                print(\"Saving Model Checkpoint\")\n",
    "                torch.save(probe.state_dict(), savepath + model_name + \".ckpt\")\n",
    "                training_history = {\"training_loss\": training_loss_history, \"testing_loss\": testing_loss_history, \"testing_board_acc\": testing_board_accuracy}\n",
    "                with open(savepath + model_name + \".pickle\", 'wb') as fhandle:\n",
    "                    pickle.dump(training_history, fhandle)\n",
    "\n",
    "    return"
   ]
  },
  {
   "cell_type": "code",
   "execution_count": 7,
   "metadata": {},
   "outputs": [
    {
     "name": "stdout",
     "output_type": "stream",
     "text": [
      "Training Model Name: linearProbe_Map_new_8L8H_GPT_Layer1; training/test set size 799957/199990\n"
     ]
    },
    {
     "name": "stderr",
     "output_type": "stream",
     "text": [
      "  6%|▋         | 99/1563 [03:09<45:57,  1.88s/it] "
     ]
    },
    {
     "name": "stdout",
     "output_type": "stream",
     "text": [
      "Saving Model Checkpoint\n"
     ]
    },
    {
     "name": "stderr",
     "output_type": "stream",
     "text": [
      "  7%|▋         | 102/1563 [03:15<46:07,  1.89s/it]"
     ]
    }
   ],
   "source": [
    "savepath = \"/home/deanhazineh/Research/emergent_world_representation/EWOthello/ckpts/DeanModels/\"\n",
    "for probe_layer in [1, 2, 3, 4, 5]:\n",
    "    train_linear_probe(probe_layer, savepath, property_type=\"new\")\n",
    "    #train_linear_probe(probe_layer, savepath, property_type=\"old\")"
   ]
  }
 ],
 "metadata": {
  "kernelspec": {
   "display_name": "emergent_world",
   "language": "python",
   "name": "python3"
  },
  "language_info": {
   "codemirror_mode": {
    "name": "ipython",
    "version": 3
   },
   "file_extension": ".py",
   "mimetype": "text/x-python",
   "name": "python",
   "nbconvert_exporter": "python",
   "pygments_lexer": "ipython3",
   "version": "3.8.16"
  },
  "orig_nbformat": 4
 },
 "nbformat": 4,
 "nbformat_minor": 2
}
