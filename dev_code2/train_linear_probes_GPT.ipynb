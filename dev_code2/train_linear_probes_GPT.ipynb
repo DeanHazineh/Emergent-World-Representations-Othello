{
 "cells": [
  {
   "attachments": {},
   "cell_type": "markdown",
   "metadata": {},
   "source": [
    "## Import packages and specify local GPU for training"
   ]
  },
  {
   "cell_type": "code",
   "execution_count": 1,
   "metadata": {},
   "outputs": [
    {
     "name": "stderr",
     "output_type": "stream",
     "text": [
      "/home/deanhazineh/anaconda3/envs/emergent_world/lib/python3.8/site-packages/tqdm/auto.py:21: TqdmWarning: IProgress not found. Please update jupyter and ipywidgets. See https://ipywidgets.readthedocs.io/en/stable/user_install.html\n",
      "  from .autonotebook import tqdm as notebook_tqdm\n"
     ]
    },
    {
     "name": "stdout",
     "output_type": "stream",
     "text": [
      "True\n",
      "NVIDIA GeForce RTX 3090 Ti\n"
     ]
    }
   ],
   "source": [
    "import torch\n",
    "import matplotlib.pyplot as plt\n",
    "from mpl_toolkits.axes_grid1 import make_axes_locatable\n",
    "from torch.utils.data import Dataset, DataLoader, random_split\n",
    "import torch.optim as optim\n",
    "\n",
    "import EWOthello.utils.plot_helpers as plt_util\n",
    "from EWOthello.data.othello import *\n",
    "from EWOthello.mingpt.dataset import ProbingDataset, CharDataset # AK's mingpt data child \n",
    "from EWOthello.mingpt.model import GPT, GPTConfig, GPTforProbing, GPTforProbing_v2\n",
    "from EWOthello.mingpt.probe_trainer import Trainer, TrainerConfig\n",
    "from EWOthello.mingpt.utils import set_seed, sample # AKs helpers for sampling predictions\n",
    "from EWOthello.mingpt.probe_model import BatteryProbeClassification\n",
    "set_seed(44)\n",
    "\n",
    "print(torch.cuda.is_available())\n",
    "device = torch.cuda.current_device()\n",
    "print(torch.cuda.get_device_name(device))"
   ]
  },
  {
   "attachments": {},
   "cell_type": "markdown",
   "metadata": {},
   "source": [
    "## Test Generation of Probe Datasets"
   ]
  },
  {
   "cell_type": "code",
   "execution_count": 2,
   "metadata": {},
   "outputs": [
    {
     "name": "stdout",
     "output_type": "stream",
     "text": [
      "Max num files: 230; Use_num: 1\n",
      "['gen10e5__20220324_165952.pickle']\n"
     ]
    },
    {
     "name": "stderr",
     "output_type": "stream",
     "text": [
      "Mem Used: 0.4324 GB: 100%|██████████| 1/1 [00:00<00:00,  6.97it/s]"
     ]
    },
    {
     "name": "stdout",
     "output_type": "stream",
     "text": [
      "Deduplicating...\n"
     ]
    },
    {
     "name": "stderr",
     "output_type": "stream",
     "text": [
      "\n"
     ]
    },
    {
     "name": "stdout",
     "output_type": "stream",
     "text": [
      "Deduplicating finished with 99999 games left\n",
      "Using 20 million for training, 0 for validation\n",
      "Dataset created has 99999 sequences, 61 unique words.\n"
     ]
    }
   ],
   "source": [
    "othello = get(ood_num=-1, data_root=None, num_preload=1) # 11 corresponds to over 1 million games\n",
    "game_dataset = CharDataset(othello) "
   ]
  },
  {
   "cell_type": "code",
   "execution_count": 3,
   "metadata": {},
   "outputs": [
    {
     "name": "stderr",
     "output_type": "stream",
     "text": [
      "  0%|          | 0/99999 [00:00<?, ?it/s]\n"
     ]
    },
    {
     "name": "stdout",
     "output_type": "stream",
     "text": [
      "59\n",
      "59\n",
      "[19, 18, 17, 9, 1]\n",
      "['c4', 'c3', 'c2', 'b2', 'a2']\n"
     ]
    },
    {
     "data": {
      "image/png": "[encoded data removed]",
      "text/plain": [
       "<Figure size 1000x400 with 10 Axes>"
      ]
     },
     "metadata": {},
     "output_type": "display_data"
    }
   ],
   "source": [
    "mconf = GPTConfig(game_dataset.vocab_size, game_dataset.block_size, n_layer=8, n_head=8, n_embd=512)\n",
    "model_probe = GPTforProbing(mconf, probe_layer=6)\n",
    "mode = \"synthetic\"\n",
    "\n",
    "if mode==\"random\":\n",
    "    model = GPT(mconf)\n",
    "    model_probe.apply(model._init_weights)\n",
    "else:\n",
    "    model_probe.load_state_dict(torch.load(\"../EWOthello/ckpts/DeanKLi_GPT_Synthetic_8L8H/GPT_Synthetic_8Layers_8Heads.ckpt\"))\n",
    "    \n",
    "if torch.cuda.is_available():\n",
    "    model_probe = model_probe.to(device)\n",
    "\n",
    "#########\n",
    "### Test the code to get the probe dataset\n",
    "properties_modifier_matrix = np.ones((59, 64))\n",
    "for i in range(59):\n",
    "    if i % 2 == 1:\n",
    "        properties_modifier_matrix[i, :] *= -1.0\n",
    "\n",
    "property_container_v2 = []\n",
    "property_container = []\n",
    "act_container = []\n",
    "for x, _ in tqdm(game_dataset):\n",
    "    # Convert the game index sequence to board number sequence for use with the othello board class\n",
    "    tbf = [game_dataset.itos[_] for _ in x.tolist()]\n",
    "    valid_until = tbf.index(-100) if -100 in tbf else 999\n",
    "\n",
    "    # Get the board state vectors\n",
    "    a = OthelloBoardState()\n",
    "    properties = a.get_gt(tbf[:valid_until], \"get_state\")\n",
    "    property_container.extend(properties)\n",
    "    properties_v2 = (np.array(properties) - 1.0) * properties_modifier_matrix[:valid_until, :] + 1.0\n",
    "    property_container_v2.extend(properties_v2.tolist())\n",
    "\n",
    "    # Get the activation vectors\n",
    "    act = model_probe(x[None, :].to(device))[0].detach().cpu().split(1, dim=0)    \n",
    "    act_container.extend(act)\n",
    "    break\n",
    "print(len(property_container_v2))\n",
    "print(len(act_container))\n",
    "\n",
    "# Visualize the board state before and after modification\n",
    "num_disp = 5\n",
    "print(tbf[:num_disp])\n",
    "print(plt_util.seq_to_boardCoord(tbf[:num_disp]))\n",
    "\n",
    "fig = plt.figure(figsize=(num_disp*2, 4))\n",
    "ax = plt_util.addAxis(fig, 2, num_disp)\n",
    "for i in range(num_disp):\n",
    "    ax[i].imshow(np.reshape(property_container[i], [8,8]))\n",
    "    ax[i+num_disp].imshow(np.reshape(property_container_v2[i], [8,8]))\n",
    "ax[0].set_ylabel(\"Old Representation\")\n",
    "ax[num_disp].set_ylabel(\"New Representation\")\n",
    "plt_util.format_ax_boardImage(ax)"
   ]
  },
  {
   "attachments": {},
   "cell_type": "markdown",
   "metadata": {},
   "source": [
    "## Train probes for all GPT models"
   ]
  },
  {
   "cell_type": "code",
   "execution_count": 9,
   "metadata": {},
   "outputs": [
    {
     "name": "stdout",
     "output_type": "stream",
     "text": [
      "Max num files: 230; Use_num: 15\n",
      "['gen10e5__20220324_165952.pickle', 'gen10e5__20220324_154919.pickle', 'gen10e5__20220324_164123.pickle', 'gen10e5__20220324_154043.pickle', 'gen10e5__20220324_155251.pickle', 'gen10e5__20220324_160016.pickle', 'gen10e5__20220324_165748.pickle', 'gen10e5__20220324_154002.pickle', 'gen10e5__20220324_155241.pickle', 'gen10e5__20220324_165707.pickle', 'gen10e5__20220324_160046.pickle', 'gen10e5__20220324_154811.pickle', 'gen10e5__20220324_154806.pickle', 'gen10e5__20220324_162637.pickle', 'gen10e5__20220324_154048.pickle']\n"
     ]
    },
    {
     "name": "stderr",
     "output_type": "stream",
     "text": [
      "Mem Used: 4.85 GB: 100%|██████████| 15/15 [00:07<00:00,  1.92it/s] \n"
     ]
    },
    {
     "name": "stdout",
     "output_type": "stream",
     "text": [
      "Deduplicating...\n",
      "Deduplicating finished with 1499890 games left\n",
      "Using 20 million for training, 0 for validation\n",
      "Dataset created has 1499890 sequences, 61 unique words.\n"
     ]
    }
   ],
   "source": [
    "othello = get(ood_num=-1, data_root=None, num_preload=15) # 11 corresponds to over 1 million games\n",
    "game_dataset = CharDataset(othello) \n",
    "\n",
    "class probe_dataset(Dataset):\n",
    "    def __init__(self, mconf, gpt_ckpt_path, game_dataset, probe_layer, property_type=\"new\"):\n",
    "        self.game_dataset = game_dataset\n",
    "        self.property_type = property_type # 'old' vs 'new'\n",
    "        self.property_modifier = np.concatenate([np.ones((1,64))*(-1)**i for i in range(59)],axis=0)\n",
    "\n",
    "        # Define the GPT probe model to return activations\n",
    "        GPT_probe = GPTforProbing(mconf, probe_layer=probe_layer)\n",
    "        GPT_probe.load_state_dict(torch.load(gpt_ckpt_path))\n",
    "        print(\"Loaded GPT Model from: \", gpt_ckpt_path)\n",
    "        for param in GPT_probe.parameters():\n",
    "            param.requires_grad = False\n",
    "        GPT_probe.eval()\n",
    "        self.GPT_probe = GPT_probe.to(device)\n",
    "    \n",
    "    def __len__(self):\n",
    "        return len(self.game_dataset)\n",
    "\n",
    "    def __getitem__(self, index):\n",
    "        x, _ = self.game_dataset[index]\n",
    "        tbf = [game_dataset.itos[_] for _ in x.tolist()]\n",
    "        valid_until = tbf.index(-100) if -100 in tbf else 999\n",
    "\n",
    "        # Get the board state vectors\n",
    "        a = OthelloBoardState()\n",
    "        board_state = a.get_gt(tbf[:valid_until], \"get_state\")\n",
    "        if self.property_type==\"new\":\n",
    "            board_state = (np.array(board_state) - 1.0) * self.property_modifier[:valid_until, :] + 1.0\n",
    "\n",
    "        # Get the activation vectors\n",
    "        act = self.GPT_probe(x[None, :].to(device))[0, :valid_until, :].detach().cpu()\n",
    "        \n",
    "        return act, torch.tensor(board_state, dtype=torch.float32)\n",
    "\n",
    "def train_linear_probe(training_data, model_name, probe_layer, savepath, property_type=\"New\", num_epochs=1, save_at_steps=100, verbose=False):\n",
    "    probe = BatteryProbeClassification(device, probe_class=3, num_task=64, input_dim=512)\n",
    "    train_ratio = 0.8\n",
    "    batch_size = 512 # Batch over number of games (each game has 59 max moves played)\n",
    "    learning_rate = 0.01\n",
    "\n",
    "    def my_collate_fn(batch):\n",
    "        xstack = []\n",
    "        ystack = []\n",
    "        for batchit in batch:\n",
    "            xstack.append(batchit[0])\n",
    "            ystack.append(batchit[1])\n",
    "        \n",
    "        x =  torch.cat(xstack, dim=0)\n",
    "        y = torch.cat(ystack, dim=0)\n",
    "        return (x,y)\n",
    "\n",
    "    train_size = int(train_ratio * len(training_data))\n",
    "    test_size = len(training_data) - train_size\n",
    "    train_dataset, test_dataset = random_split(training_data, [train_size, test_size])\n",
    "    train_dataloader = DataLoader(train_dataset, batch_size=batch_size, shuffle=True, collate_fn=my_collate_fn)\n",
    "    test_dataloader = DataLoader(test_dataset, batch_size=batch_size, shuffle=True, collate_fn=my_collate_fn)\n",
    "    test_iter = iter(test_dataloader)\n",
    "    optimizer = optim.Adam(probe.parameters(), lr=learning_rate)\n",
    "    training_loss_history = []\n",
    "    testing_loss_history = []\n",
    "    testing_board_accuracy = []\n",
    "\n",
    "    print(f\"Training Model Name: {model_name}; training/test set size {train_size}/{test_size}\")\n",
    "    if os.path.exists(savepath + model_name + \".ckpt\"):\n",
    "        probe.load_state_dict(torch.load(savepath + model_name + \".ckpt\"))\n",
    "        print(f\"Loaded model checkpopint from {savepath + model_name + '.ckpt'}\")\n",
    "        with open(savepath + model_name + \".pickle\", 'rb') as fhandle:\n",
    "            training_history = pickle.load(fhandle)\n",
    "            training_loss_history = training_history[\"training_loss\"]\n",
    "            testing_loss_history = training_history[\"testing_loss\"]\n",
    "            testing_board_accuracy = training_history[\"testing_board_acc\"]\n",
    "    \n",
    "    start_at = 0 if len(training_loss_history)==0 else len(training_loss_history)\n",
    "    print(\"resume at step: \", start_at)\n",
    "    for epoch in range(num_epochs):\n",
    "        i = 0\n",
    "        for (x,y) in tqdm(train_dataloader):\n",
    "            if i < start_at: # Resume at an interrupted step\n",
    "                i = i + 1\n",
    "                continue\n",
    "\n",
    "            ### Train the Probe\n",
    "            probe.train()\n",
    "            x = x.to(device)\n",
    "            y = y.to(device)\n",
    "\n",
    "            logits, loss = probe(x, y)\n",
    "            train_loss = loss.item()\n",
    "            training_loss_history.append(train_loss)\n",
    "\n",
    "            optimizer.zero_grad()\n",
    "            loss.backward()\n",
    "            optimizer.step()\n",
    "\n",
    "            ### Compute the error on validation batch\n",
    "            probe.eval()\n",
    "            with torch.no_grad():\n",
    "                try:\n",
    "                    x,y = next(test_iter)\n",
    "                except:\n",
    "                    test_iter = iter(test_dataloader)\n",
    "                    x,y = next(test_iter)\n",
    "\n",
    "                x = x.to(device)\n",
    "                y = y.to(device)        \n",
    "                logits, loss = probe(x,y)\n",
    "                test_loss = loss.item()\n",
    "                testing_loss_history.append(test_loss)\n",
    "\n",
    "                y_hat = torch.argmax(logits, dim=-1, keepdim=False)  # [B, #task]\n",
    "                mean_board_acc = torch.mean(torch.sum(y_hat == y ,-1)/64).item()\n",
    "                testing_board_accuracy.append(mean_board_acc)\n",
    "\n",
    "            ### Print update\n",
    "            i = i + 1\n",
    "            if verbose:\n",
    "                print(f'step [{i+1}/{len(train_dataloader)}], Train Loss: {train_loss:.4f}, Test Loss: {test_loss:.4f}, Avg. Board Acc. Test {mean_board_acc:.3f}')\n",
    "\n",
    "            if (i+1) % save_at_steps == 0:\n",
    "                torch.save(probe.state_dict(), savepath + model_name + \".ckpt\")\n",
    "                training_history = {\"training_loss\": training_loss_history, \"testing_loss\": testing_loss_history, \"testing_board_acc\": testing_board_accuracy}\n",
    "                with open(savepath + model_name + \".pickle\", 'wb') as fhandle:\n",
    "                    pickle.dump(training_history, fhandle)\n",
    "\n",
    "    return"
   ]
  },
  {
   "cell_type": "code",
   "execution_count": 5,
   "metadata": {},
   "outputs": [],
   "source": [
    "# datapath = \"../EWOthello/ckpts/\"\n",
    "# all_files = os.listdir(datapath)\n",
    "# GPT_Folders = [name for name in all_files if name.startswith(\"Dean_GPTv2_Synthetic\")]\n",
    "# GPT_Folders.sort()\n",
    "\n",
    "# GPT_Folders = GPT_Folders[7:]\n",
    "# print(GPT_Folders)\n",
    "# for fold in GPT_Folders:\n",
    "#     savepath = datapath + fold + \"/\"\n",
    "#     n_layer = int(fold[-4:-3])\n",
    "#     n_head = int(fold[-2:-1])\n",
    "#     print(n_layer, n_head, fold)\n",
    "#     gpt_ckpt_path = f'../EWOthello/ckpts/Dean_GPTv2_Synthetic_{n_layer}L{n_head}H/GPT_Synthetic_{n_layer}Layers_{n_head}Heads.ckpt'\n",
    "#     mconf = GPTConfig(game_dataset.vocab_size, game_dataset.block_size, n_layer=n_layer, n_head=n_head, n_embd=512)\n",
    "\n",
    "#     for probe_layer in np.arange(7, n_layer+1, 1):\n",
    "#         training_data = probe_dataset(mconf, gpt_ckpt_path, game_dataset, probe_layer)\n",
    "#         model_name = f\"linearProbe_Map_New_{n_layer}L{n_head}H_GPT_Layer{probe_layer}\"\n",
    "#         train_linear_probe(training_data, model_name, probe_layer, savepath, property_type=\"New\", num_epochs=1, save_at_steps=100, verbose=False)"
   ]
  },
  {
   "cell_type": "code",
   "execution_count": 10,
   "metadata": {},
   "outputs": [
    {
     "name": "stdout",
     "output_type": "stream",
     "text": [
      "['Dean_GPTv2_Synthetic_1L8H', 'Dean_GPTv2_Synthetic_2L1H', 'Dean_GPTv2_Synthetic_2L8H', 'Dean_GPTv2_Synthetic_4L1H', 'Dean_GPTv2_Synthetic_4L8H', 'Dean_GPTv2_Synthetic_8L1H']\n",
      "1 8 Dean_GPTv2_Synthetic_1L8H\n",
      "Loaded GPT Model from:  ../EWOthello/ckpts/Dean_GPTv2_Synthetic_1L8H/GPT_Synthetic_1Layers_8Heads.ckpt\n",
      "Training Model Name: linearProbe_Map_New_1L8H_GPT_Layer1; training/test set size 1199912/299978\n",
      "Loaded model checkpopint from ../EWOthello/ckpts/Dean_GPTv2_Synthetic_1L8H/linearProbe_Map_New_1L8H_GPT_Layer1.ckpt\n",
      "resume at step:  1299\n"
     ]
    },
    {
     "name": "stderr",
     "output_type": "stream",
     "text": [
      "100%|██████████| 2344/2344 [50:42<00:00,  1.30s/it]\n"
     ]
    },
    {
     "name": "stdout",
     "output_type": "stream",
     "text": [
      "2 1 Dean_GPTv2_Synthetic_2L1H\n",
      "Loaded GPT Model from:  ../EWOthello/ckpts/Dean_GPTv2_Synthetic_2L1H/GPT_Synthetic_2Layers_1Heads.ckpt\n",
      "Training Model Name: linearProbe_Map_New_2L1H_GPT_Layer1; training/test set size 1199912/299978\n",
      "resume at step:  0\n"
     ]
    },
    {
     "name": "stderr",
     "output_type": "stream",
     "text": [
      "100%|██████████| 2344/2344 [1:10:16<00:00,  1.80s/it]\n"
     ]
    },
    {
     "name": "stdout",
     "output_type": "stream",
     "text": [
      "Loaded GPT Model from:  ../EWOthello/ckpts/Dean_GPTv2_Synthetic_2L1H/GPT_Synthetic_2Layers_1Heads.ckpt\n",
      "Training Model Name: linearProbe_Map_New_2L1H_GPT_Layer2; training/test set size 1199912/299978\n",
      "resume at step:  0\n"
     ]
    },
    {
     "name": "stderr",
     "output_type": "stream",
     "text": [
      "100%|██████████| 2344/2344 [1:25:06<00:00,  2.18s/it]\n"
     ]
    },
    {
     "name": "stdout",
     "output_type": "stream",
     "text": [
      "2 8 Dean_GPTv2_Synthetic_2L8H\n",
      "Loaded GPT Model from:  ../EWOthello/ckpts/Dean_GPTv2_Synthetic_2L8H/GPT_Synthetic_2Layers_8Heads.ckpt\n",
      "Training Model Name: linearProbe_Map_New_2L8H_GPT_Layer1; training/test set size 1199912/299978\n",
      "resume at step:  0\n"
     ]
    },
    {
     "name": "stderr",
     "output_type": "stream",
     "text": [
      "100%|██████████| 2344/2344 [1:09:47<00:00,  1.79s/it]\n"
     ]
    },
    {
     "name": "stdout",
     "output_type": "stream",
     "text": [
      "Loaded GPT Model from:  ../EWOthello/ckpts/Dean_GPTv2_Synthetic_2L8H/GPT_Synthetic_2Layers_8Heads.ckpt\n",
      "Training Model Name: linearProbe_Map_New_2L8H_GPT_Layer2; training/test set size 1199912/299978\n",
      "resume at step:  0\n"
     ]
    },
    {
     "name": "stderr",
     "output_type": "stream",
     "text": [
      "100%|██████████| 2344/2344 [1:25:24<00:00,  2.19s/it]\n"
     ]
    },
    {
     "name": "stdout",
     "output_type": "stream",
     "text": [
      "4 1 Dean_GPTv2_Synthetic_4L1H\n",
      "Loaded GPT Model from:  ../EWOthello/ckpts/Dean_GPTv2_Synthetic_4L1H/GPT_Synthetic_4Layers_1Heads.ckpt\n",
      "Training Model Name: linearProbe_Map_New_4L1H_GPT_Layer1; training/test set size 1199912/299978\n",
      "resume at step:  0\n"
     ]
    },
    {
     "name": "stderr",
     "output_type": "stream",
     "text": [
      "100%|██████████| 2344/2344 [1:08:35<00:00,  1.76s/it]\n"
     ]
    },
    {
     "name": "stdout",
     "output_type": "stream",
     "text": [
      "Loaded GPT Model from:  ../EWOthello/ckpts/Dean_GPTv2_Synthetic_4L1H/GPT_Synthetic_4Layers_1Heads.ckpt\n",
      "Training Model Name: linearProbe_Map_New_4L1H_GPT_Layer2; training/test set size 1199912/299978\n",
      "resume at step:  0\n"
     ]
    },
    {
     "name": "stderr",
     "output_type": "stream",
     "text": [
      "100%|██████████| 2344/2344 [1:24:22<00:00,  2.16s/it]\n"
     ]
    },
    {
     "name": "stdout",
     "output_type": "stream",
     "text": [
      "Loaded GPT Model from:  ../EWOthello/ckpts/Dean_GPTv2_Synthetic_4L1H/GPT_Synthetic_4Layers_1Heads.ckpt\n",
      "Training Model Name: linearProbe_Map_New_4L1H_GPT_Layer3; training/test set size 1199912/299978\n",
      "resume at step:  0\n"
     ]
    },
    {
     "name": "stderr",
     "output_type": "stream",
     "text": [
      " 25%|██▍       | 578/2344 [24:04<1:16:30,  2.60s/it]"
     ]
    }
   ],
   "source": [
    "datapath = \"../EWOthello/ckpts/\"\n",
    "all_files = os.listdir(datapath)\n",
    "GPT_Folders = [name for name in all_files if name.startswith(\"Dean_GPTv2_Synthetic\")]\n",
    "GPT_Folders.sort()\n",
    "\n",
    "GPT_Folders = GPT_Folders[1:7]\n",
    "print(GPT_Folders)\n",
    "for fold in GPT_Folders:\n",
    "    savepath = datapath + fold + \"/\"\n",
    "    n_layer = int(fold[-4:-3])\n",
    "    n_head = int(fold[-2:-1])\n",
    "    print(n_layer, n_head, fold)\n",
    "    gpt_ckpt_path = f'../EWOthello/ckpts/Dean_GPTv2_Synthetic_{n_layer}L{n_head}H/GPT_Synthetic_{n_layer}Layers_{n_head}Heads.ckpt'\n",
    "    mconf = GPTConfig(game_dataset.vocab_size, game_dataset.block_size, n_layer=n_layer, n_head=n_head, n_embd=512)\n",
    "\n",
    "    for probe_layer in np.arange(1, n_layer+1, 1):\n",
    "        training_data = probe_dataset(mconf, gpt_ckpt_path, game_dataset, probe_layer)\n",
    "        model_name = f\"linearProbe_Map_New_{n_layer}L{n_head}H_GPT_Layer{probe_layer}\"\n",
    "        train_linear_probe(training_data, model_name, probe_layer, savepath, property_type=\"New\", num_epochs=1, save_at_steps=100, verbose=False)"
   ]
  }
 ],
 "metadata": {
  "kernelspec": {
   "display_name": "emergent_world",
   "language": "python",
   "name": "python3"
  },
  "language_info": {
   "codemirror_mode": {
    "name": "ipython",
    "version": 3
   },
   "file_extension": ".py",
   "mimetype": "text/x-python",
   "name": "python",
   "nbconvert_exporter": "python",
   "pygments_lexer": "ipython3",
   "version": "3.8.16"
  },
  "orig_nbformat": 4
 },
 "nbformat": 4,
 "nbformat_minor": 2
}
