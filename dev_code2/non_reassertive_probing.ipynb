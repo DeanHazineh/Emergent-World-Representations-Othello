{
 "cells": [
  {
   "cell_type": "code",
   "execution_count": 1,
   "metadata": {},
   "outputs": [
    {
     "name": "stderr",
     "output_type": "stream",
     "text": [
      "/home/deanhazineh/anaconda3/envs/emergent_world/lib/python3.8/site-packages/tqdm/auto.py:21: TqdmWarning: IProgress not found. Please update jupyter and ipywidgets. See https://ipywidgets.readthedocs.io/en/stable/user_install.html\n",
      "  from .autonotebook import tqdm as notebook_tqdm\n"
     ]
    },
    {
     "name": "stdout",
     "output_type": "stream",
     "text": [
      "True\n",
      "NVIDIA GeForce RTX 3090 Ti\n"
     ]
    }
   ],
   "source": [
    "import torch\n",
    "import matplotlib.pyplot as plt\n",
    "from matplotlib.colors import TwoSlopeNorm\n",
    "import scipy as scip\n",
    "from mpl_toolkits.axes_grid1 import make_axes_locatable\n",
    "\n",
    "from EWOthello.mingpt.probe_model import BatteryProbeClassification\n",
    "from EWOthello.mingpt.utils import set_seed\n",
    "from EWOthello.mingpt.model import GPTConfig,  GPTforProbeIA, GPTforProbeIA_ModV1\n",
    "from EWOthello.data.othello import * \n",
    "from EWOthello.mingpt.dataset import CharDataset \n",
    "import EWOthello.utils.plot_helpers as plt_utils\n",
    "from EWOthello.mingpt.utils import  intervene\n",
    "\n",
    "set_seed(44)\n",
    "print(torch.cuda.is_available())\n",
    "device = torch.cuda.current_device()\n",
    "print(torch.cuda.get_device_name(device))"
   ]
  },
  {
   "cell_type": "code",
   "execution_count": 2,
   "metadata": {},
   "outputs": [
    {
     "name": "stdout",
     "output_type": "stream",
     "text": [
      "Max num files: 230; Use_num: 1\n",
      "['gen10e5__20220324_165952.pickle']\n"
     ]
    },
    {
     "name": "stderr",
     "output_type": "stream",
     "text": [
      "Mem Used: 0.4334 GB: 100%|██████████| 1/1 [00:00<00:00,  6.40it/s]"
     ]
    },
    {
     "name": "stdout",
     "output_type": "stream",
     "text": [
      "Deduplicating...\n"
     ]
    },
    {
     "name": "stderr",
     "output_type": "stream",
     "text": [
      "\n"
     ]
    },
    {
     "name": "stdout",
     "output_type": "stream",
     "text": [
      "Deduplicating finished with 99999 games left\n",
      "Using 20 million for training, 0 for validation\n",
      "Dataset created has 99999 sequences, 61 unique words.\n",
      "Data Loaded \n",
      "\n"
     ]
    }
   ],
   "source": [
    "# Get a the game dataset\n",
    "othello = get(ood_num=-1, data_root=None, num_preload=1) # 11 corresponds to over 1 million games\n",
    "game_dataset = CharDataset(othello) \n",
    "print(\"Data Loaded \\n\")"
   ]
  },
  {
   "cell_type": "code",
   "execution_count": 6,
   "metadata": {},
   "outputs": [],
   "source": [
    "def run_game_intervention(x, tbf, number_moves, intervention_moves, probe_set, layer_s, layer_e, htd):\n",
    "    x = x.to(device)\n",
    "    # Define the board that is passed in\n",
    "    ab = OthelloBoardState()\n",
    "    ab.update(tbf[:number_moves], prt=False)\n",
    "    init_board = np.array(ab.get_state()).reshape(8,8)\n",
    "\n",
    "    idx_of_interest = number_moves-1 # This corresponds to the index for the next game-move\n",
    "    padding = torch.zeros(2).cuda() # Add in center two tiles with zero padding because output skips over them\n",
    "    mconf = GPTConfig(vocab_size=61, block_size=59, n_layer=8, n_head=8, n_embd=512)\n",
    "    model = GPTforProbeIA_ModV1(mconf)\n",
    "    model.load_state_dict(torch.load(\"../EWOthello/ckpts/gpt_synthetic.ckpt\"))\n",
    "    model.eval()\n",
    "    model = model.to(device) \n",
    "\n",
    "    # Compute the logits with no intervention\n",
    "    intv_activation = model.forward_1st_stage(-1, x[None, :])[0]\n",
    "    init_pred, _ = model.predict(intv_activation)\n",
    "    init_pred = init_pred[idx_of_interest, 1:]\n",
    "    init_pred = torch.cat([init_pred[:27], padding, init_pred[27:33], padding, init_pred[33:]], dim=0)\n",
    "    init_pred = init_pred.detach().cpu().reshape(8,8).numpy()\n",
    "\n",
    "    # Compute the intervention and the new predictions\n",
    "    interv_boards = []\n",
    "    interv_preds = []\n",
    "    actions=[]\n",
    "    for square in intervention_moves:\n",
    "        wtd = {}\n",
    "        wtd[\"intervention_position\"] = square\n",
    "        tile_number = permit(wtd[\"intervention_position\"])\n",
    "        r, c = tile_number // 8, tile_number % 8\n",
    "        wtd[\"intervention_from\"] = ab.state[r, c] + 1\n",
    "        wtd[\"intervention_to\"] = 2 - wtd[\"intervention_from\"]\n",
    "        \n",
    "        action=\"No Change\" if wtd[\"intervention_from\"] == wtd[\"intervention_to\"] else \"Flipped\"\n",
    "        actions.append(f\"pos: {square} state {action}\")\n",
    "        \n",
    "        # Get the layer activation and use probe to get the board state\n",
    "        intv_activation = model.forward_1st_stage(layer_s, x[None, :])[0]\n",
    "        board, _ = probe_set[0](intv_activation)    \n",
    "        board = torch.argmax(board, -1, keepdim=False)\n",
    "        \n",
    "        # Update activation\n",
    "        post_intv_activation = intervene(probe_set[0], intv_activation.clone()[idx_of_interest,:], board[idx_of_interest,:], wtd, htd, plot=True)\n",
    "        intv_activation[idx_of_interest, :] = post_intv_activation\n",
    "\n",
    "        board, _ = probe_set[0](intv_activation)    \n",
    "        board = torch.argmax(board, -1, keepdim=False)\n",
    "        board = board[idx_of_interest,:].detach().cpu().reshape(8,8).numpy()\n",
    "        interv_boards.append(board[None])\n",
    "        \n",
    "        # Update the downstream activations\n",
    "        intv_activation = model.forward_2nd_stage(intv_activation[None], layer_s, -1)[0][0]\n",
    "        post_intv_pred, _ = model.predict(intv_activation)\n",
    "        post_intv_pred = post_intv_pred[idx_of_interest, 1:]\n",
    "        post_intv_pred = torch.cat([post_intv_pred[:27], padding, post_intv_pred[27:33], padding, post_intv_pred[33:]], dim=0)\n",
    "        post_intv_pred = post_intv_pred.detach().cpu().reshape(8,8).numpy()\n",
    "        interv_preds.append(post_intv_pred[None])\n",
    "        \n",
    "    if len(interv_boards)==1:\n",
    "        return init_board, init_pred, interv_boards[0], interv_preds[0], actions\n",
    "    else:\n",
    "        return init_board, init_pred, np.concatenate(interv_boards, axis=0), np.concatenate(interv_preds, axis=0), actions"
   ]
  },
  {
   "cell_type": "code",
   "execution_count": 7,
   "metadata": {},
   "outputs": [
    {
     "name": "stdout",
     "output_type": "stream",
     "text": [
      "Loading Pre-trained probe for layer: 6\n",
      "Loading Pre-trained probe for layer: 7\n",
      "Loading Pre-trained probe for layer: 8\n",
      "c3 Sucessfully intervened!\n"
     ]
    }
   ],
   "source": [
    "probesLinear = [] # We need the pre-trained probes for the layer we want and all layers after it according to their theory\n",
    "layer_s = 6\n",
    "layer_e = 8+1\n",
    "checkpoint_path = \"../EWOthello/ckpts/DeanModels/\"\n",
    "\n",
    "for layer in range(layer_s, layer_e):\n",
    "    print(f\"Loading Pre-trained probe for layer: {layer}\")\n",
    "    probe = BatteryProbeClassification(device, probe_class=3, num_task=64, input_dim=512)\n",
    "    probe.load_state_dict(torch.load(checkpoint_path + f\"linearProbe_Map_new_8L8H_GPT_Layer{layer}.ckpt\"))\n",
    "    probe.eval()\n",
    "    probesLinear.append(probe)\n",
    "\n",
    "# Game sequence from the dataset chosen by index=#\n",
    "index = 499\n",
    "x, _ = game_dataset[index]\n",
    "tbf = [game_dataset.itos[_] for _ in x.tolist()]\n",
    "number_moves = 5\n",
    "probe_set = probesLinear\n",
    "htd = {\"lr\": 1e-3, \"steps\": 1000, \"reg_strg\": 0.2}\n",
    "intervention_moves = [\"c3\"]\n",
    "init_board, init_pred, interv_boards, interv_preds, actions = run_game_intervention(x, tbf, number_moves, intervention_moves, probe_set, layer_s, layer_e, htd)"
   ]
  },
  {
   "cell_type": "code",
   "execution_count": 8,
   "metadata": {},
   "outputs": [
    {
     "name": "stdout",
     "output_type": "stream",
     "text": [
      "-0.14959183 0.13405734\n"
     ]
    },
    {
     "data": {
      "text/plain": [
       "Text(0, 0.5, 'Change In Next-Move Prob.')"
      ]
     },
     "execution_count": 8,
     "metadata": {},
     "output_type": "execute_result"
    },
    {
     "data": {
      "image/png": "[encoded data removed]",
      "text/plain": [
       "<Figure size 800x800 with 4 Axes>"
      ]
     },
     "metadata": {},
     "output_type": "display_data"
    },
    {
     "data": {
      "image/png": "[encoded data removed]",
      "text/plain": [
       "<Figure size 400x400 with 1 Axes>"
      ]
     },
     "metadata": {},
     "output_type": "display_data"
    }
   ],
   "source": [
    "plot_boards = np.concatenate((init_board[None], interv_boards), axis=0)\n",
    "plot_logits = np.concatenate((init_pred[None], interv_preds), axis=0)\n",
    "#prob_diff = interv_preds - init_pred[None] \n",
    "prob_diff = scip.special.softmax(interv_preds) - scip.special.softmax(init_pred[None])\n",
    "print(np.min(prob_diff), np.max(prob_diff))\n",
    "\n",
    "### PLot the gameboard\n",
    "num_plot = plot_boards.shape[0]\n",
    "fig = plt.figure(figsize=(4*num_plot, 8))\n",
    "ax = plt_utils.addAxis(fig,2,num_plot)\n",
    "for i in range(num_plot):\n",
    "    ax[i].imshow(plot_boards[i], cmap=\"gray\")\n",
    "    ax[i+num_plot].imshow(plot_logits[i])\n",
    "plt_utils.format_ax_boardImage(ax)\n",
    "for i in range(num_plot):\n",
    "    ax[0].set_title(\"Original Board\") if i==0 else ax[i].set_title(actions[i-1])\n",
    "ax[0].set_ylabel(\"Board State\")\n",
    "ax[num_plot].set_ylabel(\"GPT Logits\")\n",
    "\n",
    "### Plot the change plot\n",
    "num_interv = len(intervention_moves)\n",
    "fig = plt.figure(figsize=(4*num_interv, 4))\n",
    "ax = plt_utils.addAxis(fig,1,num_interv)\n",
    "for i in range(num_interv):\n",
    "    ax[i].imshow(interv_boards[i], cmap=\"gray\")\n",
    "    ax[i].set_title(actions[i])\n",
    "    im = ax[i].imshow(prob_diff[i], alpha=0.5, cmap=\"seismic\", norm=TwoSlopeNorm(0))\n",
    "    #plt_utils.addColorbar(fig, ax[i], im)\n",
    "plt_utils.format_ax_boardImage(ax)\n",
    "ax[0].set_ylabel(\"Change In Next-Move Prob.\")"
   ]
  }
 ],
 "metadata": {
  "kernelspec": {
   "display_name": "emergent_world",
   "language": "python",
   "name": "python3"
  },
  "language_info": {
   "codemirror_mode": {
    "name": "ipython",
    "version": 3
   },
   "file_extension": ".py",
   "mimetype": "text/x-python",
   "name": "python",
   "nbconvert_exporter": "python",
   "pygments_lexer": "ipython3",
   "version": "3.8.16"
  },
  "orig_nbformat": 4
 },
 "nbformat": 4,
 "nbformat_minor": 2
}
