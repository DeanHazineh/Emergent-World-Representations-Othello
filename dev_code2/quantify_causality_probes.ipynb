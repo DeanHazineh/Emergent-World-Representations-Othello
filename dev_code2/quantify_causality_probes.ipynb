{
 "cells": [
  {
   "cell_type": "code",
   "execution_count": 9,
   "metadata": {},
   "outputs": [
    {
     "name": "stdout",
     "output_type": "stream",
     "text": [
      "True\n",
      "NVIDIA GeForce RTX 3090 Ti\n"
     ]
    }
   ],
   "source": [
    "import torch\n",
    "import matplotlib.pyplot as plt\n",
    "from matplotlib.colors import TwoSlopeNorm\n",
    "import scipy as scip\n",
    "from mpl_toolkits.axes_grid1 import make_axes_locatable\n",
    "from copy import copy\n",
    "from torch.nn import functional as F\n",
    "\n",
    "from EWOthello.mingpt.probe_model import BatteryProbeClassification\n",
    "from EWOthello.mingpt.utils import set_seed\n",
    "from EWOthello.mingpt.model import GPTConfig,  GPTforProbeIA, GPTforProbeIA_ModV1\n",
    "from EWOthello.data.othello import * \n",
    "from EWOthello.mingpt.dataset import CharDataset \n",
    "import EWOthello.utils.plot_helpers as plt_utils\n",
    "from EWOthello.mingpt.utils import  intervene\n",
    "\n",
    "set_seed(44)\n",
    "print(torch.cuda.is_available())\n",
    "device = torch.cuda.current_device()\n",
    "print(torch.cuda.get_device_name(device))"
   ]
  },
  {
   "cell_type": "code",
   "execution_count": 2,
   "metadata": {},
   "outputs": [
    {
     "name": "stdout",
     "output_type": "stream",
     "text": [
      "Max num files: 230; Use_num: 1\n",
      "['gen10e5__20220324_165952.pickle']\n"
     ]
    },
    {
     "name": "stderr",
     "output_type": "stream",
     "text": [
      "Mem Used: 0.4326 GB: 100%|██████████| 1/1 [00:00<00:00,  6.54it/s]"
     ]
    },
    {
     "name": "stdout",
     "output_type": "stream",
     "text": [
      "Deduplicating...\n"
     ]
    },
    {
     "name": "stderr",
     "output_type": "stream",
     "text": [
      "\n"
     ]
    },
    {
     "name": "stdout",
     "output_type": "stream",
     "text": [
      "Deduplicating finished with 99999 games left\n",
      "Using 20 million for training, 0 for validation\n",
      "Dataset created has 99999 sequences, 61 unique words.\n",
      "Data Loaded \n",
      "\n"
     ]
    }
   ],
   "source": [
    "# Get a the game dataset\n",
    "othello = get(ood_num=-1, data_root=None, num_preload=1) # 11 corresponds to over 1 million games\n",
    "game_dataset = CharDataset(othello) \n",
    "print(\"Data Loaded \\n\")"
   ]
  },
  {
   "cell_type": "code",
   "execution_count": 3,
   "metadata": {},
   "outputs": [
    {
     "name": "stdout",
     "output_type": "stream",
     "text": [
      "Loading Pre-trained probe for layer: 6\n",
      "Loading Pre-trained probe for layer: 7\n",
      "Loading Pre-trained probe for layer: 8\n"
     ]
    }
   ],
   "source": [
    "index = 499\n",
    "x, _ = game_dataset[index]\n",
    "tbf = [game_dataset.itos[_] for _ in x.tolist()]\n",
    "\n",
    "probesLinear = [] # We need the pre-trained probes for the layer we want and all layers after it according to their theory\n",
    "layer_s = 6\n",
    "layer_e = 8+1\n",
    "checkpoint_path = \"../EWOthello/ckpts/DeanModels/\"\n",
    "\n",
    "for layer in range(layer_s, layer_e):\n",
    "    print(f\"Loading Pre-trained probe for layer: {layer}\")\n",
    "    probe = BatteryProbeClassification(device, probe_class=3, num_task=64, input_dim=512)\n",
    "    probe.load_state_dict(torch.load(checkpoint_path + f\"linearProbe_Map_new_8L8H_GPT_Layer{layer}.ckpt\"))\n",
    "    probe.eval()\n",
    "    probesLinear.append(probe)"
   ]
  },
  {
   "cell_type": "code",
   "execution_count": 53,
   "metadata": {},
   "outputs": [
    {
     "name": "stdout",
     "output_type": "stream",
     "text": [
      "['c4', 'c3', 'c2', 'b4', 'b3', 'f4', 'a4', 'c5', 'c6', 'b5', 'a6']\n",
      "['c4', 'c3', 'c2', 'b4', 'b3', 'f4', 'a4', 'c5', 'c6', 'b5', 'b6']\n",
      "(8, 8)\n"
     ]
    },
    {
     "data": {
      "image/png": "[encoded data removed]",
      "text/plain": [
       "<Figure size 640x480 with 6 Axes>"
      ]
     },
     "metadata": {},
     "output_type": "display_data"
    }
   ],
   "source": [
    "def convert_tbf_to_input(chunk, device, max_len=59):\n",
    "    if len(chunk) != max_len:\n",
    "        chunk += [-100] * (max_len - len(chunk))\n",
    "    x_input = torch.tensor([game_dataset.stoi[tile] for tile in chunk], dtype=torch.long)\n",
    "    return x_input[:-1].to(device)\n",
    "\n",
    "\n",
    "def intervene_general(p, init_act, target_board, htd):\n",
    "    new_mid_act = torch.tensor(init_act.detach().cpu().numpy(), dtype=torch.float32).to(device)\n",
    "    new_mid_act.requires_grad = True\n",
    "    opt = torch.optim.Adam([new_mid_act], lr=htd[\"lr\"])\n",
    "    target_board = torch.tensor(target_board, dtype=torch.int64).to(device)\n",
    "    for i in range(htd[\"steps\"]):\n",
    "        opt.zero_grad()\n",
    "        logits_running = p(new_mid_act[None, :])[0][0]  # [64, 3]\n",
    "        loss = F.cross_entropy(logits_running, target_board)        \n",
    "        loss = torch.mean(loss)\n",
    "        loss.backward()  # by torch semantics, loss is to be minimized\n",
    "        opt.step()\n",
    "\n",
    "    return new_mid_act\n",
    "\n",
    "\n",
    "# Define the board that is passed in\n",
    "number_played_moves = 10\n",
    "\n",
    "ab = OthelloBoardState()\n",
    "ab.update(tbf[:number_played_moves], prt=False)\n",
    "init_board = np.array(ab.get_state()).reshape(8,8)\n",
    "valid_moves = ab.get_valid_moves()\n",
    "idx_of_interest = number_played_moves\n",
    "padding = torch.zeros(2).cuda() # Add in center two tiles with zero padding because output skips over them\n",
    "\n",
    "#\n",
    "mconf = GPTConfig(vocab_size=61, block_size=59, n_layer=8, n_head=8, n_embd=512)\n",
    "model = GPTforProbeIA_ModV1(mconf)\n",
    "model.load_state_dict(torch.load(\"../EWOthello/ckpts/gpt_synthetic.ckpt\"))\n",
    "model.eval()\n",
    "model = model.to(device) \n",
    "\n",
    "# \n",
    "probe_layer = 6\n",
    "htd = {\"lr\": 1e-3, \"steps\": 1000, \"reg_strg\": 0.2}\n",
    "reassertion=False\n",
    "\n",
    "# We need more than one valid moves for my test\n",
    "if len(valid_moves) > 1:\n",
    "    tbf_input = copy(tbf)[:number_played_moves]\n",
    "    tbf_input.append(valid_moves[0])\n",
    "    x_input = convert_tbf_to_input(tbf_input, device)\n",
    "    print(plt_utils.seq_to_boardCoord(tbf_input[:number_played_moves+1]))\n",
    "    ab_input = OthelloBoardState()\n",
    "    ab_input.update(tbf_input[:number_played_moves+1], prt=False)\n",
    "    input_board = np.array(ab_input.get_state())\n",
    "\n",
    "    # Compute the true output logits for a different board\n",
    "    for alt_move in valid_moves[1:]:\n",
    "        # Compute the logits for the alternative boards passed in\n",
    "        tbf_gt = copy(tbf)[:number_played_moves]\n",
    "        tbf_gt.append(alt_move)\n",
    "        x_gt = convert_tbf_to_input(tbf_gt, device)\n",
    "        print(plt_utils.seq_to_boardCoord(tbf_gt[:number_played_moves+1]))\n",
    "        ab_gt = OthelloBoardState()\n",
    "        ab_gt.update(tbf_gt[:number_played_moves+1], prt=False)\n",
    "        gt_board = np.array(ab_gt.get_state())\n",
    "        pred_gt, _ = model.predict(model.forward_1st_stage(-1, x_gt[None, :])[0])\n",
    "        pred_gt = pred_gt[idx_of_interest,1:]\n",
    "        pred_gt = torch.cat([pred_gt[:27], padding, pred_gt[27:33], padding, pred_gt[33:]], dim=0)\n",
    "\n",
    "        # Compute the logits for the board placed in by intervention\n",
    "        emw_rep_board = (copy(gt_board) -1)* np.ones((64))*(-1)**(number_played_moves+1) + 1.0\n",
    "        intv_activation = model.forward_1st_stage(probe_layer, x_input[None, :])[0]\n",
    "        new_activation = intervene_general(probesLinear[0], intv_activation[number_played_moves,:], emw_rep_board, htd)\n",
    "        reconst_board, _ = probesLinear[0](new_activation)    \n",
    "        reconst_board = torch.argmax(reconst_board, -1, keepdim=False).detach().cpu().reshape(8,8)\n",
    "        intv_activation[number_played_moves, :] = new_activation\n",
    "        \n",
    "        if reassertion:\n",
    "            for i, layer in enumerate(range(layer_s, layer_e-1)):\n",
    "                intv_activation = model.forward_2nd_stage(intv_activation[None], layer, layer+1)[0][0]\n",
    "                new_activation = intervene_general(probesLinear[i+1], intv_activation[number_played_moves,:], emw_rep_board, htd)\n",
    "                intv_activation[number_played_moves, :] = new_activation\n",
    "        else:\n",
    "            intv_activation = model.forward_2nd_stage(intv_activation[None], layer_s, -1)[0][0]\n",
    "    \n",
    "        post_intv_pred, _ = model.predict(intv_activation)\n",
    "        post_intv_pred = post_intv_pred[number_played_moves, 1:]\n",
    "        post_intv_pred = torch.cat([post_intv_pred[:27], padding, post_intv_pred[27:33], padding, post_intv_pred[33:]], dim=0)\n",
    "        post_intv_pred = post_intv_pred.detach().cpu().reshape(8,8).numpy()\n",
    "\n",
    "        print(post_intv_pred.shape)\n",
    "\n",
    "        fig = plt.figure()\n",
    "        ax = plt_utils.addAxis(fig,2,3)\n",
    "        ax[0].imshow(init_board)\n",
    "        ax[1].imshow(gt_board.reshape(8,8))\n",
    "        ax[2].imshow(pred_gt.detach().cpu().reshape(8,8))\n",
    "        ax[3].imshow(input_board.reshape(8,8))\n",
    "        ax[4].imshow(reconst_board)\n",
    "        ax[5].imshow(post_intv_pred)\n",
    "        plt_utils.format_ax_boardImage(ax)  \n",
    "\n",
    "\n",
    "        break\n",
    "\n",
    "\n",
    "\n",
    "        # init_pred, _ = model.predict(intv_activation)\n",
    "        # init_pred = init_pred[idx_of_interest, 1:]\n",
    "        # init_pred = torch.cat([init_pred[:27], padding, init_pred[27:33], padding, init_pred[33:]], dim=0)\n",
    "        # init_pred = init_pred.detach().cpu().reshape(8,8).numpy()\n",
    "\n",
    "        # print(alt_move)\n",
    "\n",
    "\n",
    "\n",
    "\n",
    "# print(tbf_sequence)\n",
    "# print(plt_utils.seq_to_boardCoord(tbf_sequence))\n",
    "# fig = plt.figure()\n",
    "# ax = plt_utils.addAxis(fig,1,1)\n",
    "# ax[0].imshow(init_board)\n",
    "# plt_utils.format_ax_boardImage(ax)    \n",
    "\n"
   ]
  }
 ],
 "metadata": {
  "kernelspec": {
   "display_name": "emergent_world",
   "language": "python",
   "name": "python3"
  },
  "language_info": {
   "codemirror_mode": {
    "name": "ipython",
    "version": 3
   },
   "file_extension": ".py",
   "mimetype": "text/x-python",
   "name": "python",
   "nbconvert_exporter": "python",
   "pygments_lexer": "ipython3",
   "version": "3.8.16"
  },
  "orig_nbformat": 4
 },
 "nbformat": 4,
 "nbformat_minor": 2
}
