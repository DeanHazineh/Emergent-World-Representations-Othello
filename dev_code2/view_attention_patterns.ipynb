{
 "cells": [
  {
   "cell_type": "code",
   "execution_count": 1,
   "id": "b6474af4",
   "metadata": {
    "scrolled": true,
    "tags": []
   },
   "outputs": [
    {
     "name": "stdout",
     "output_type": "stream",
     "text": [
      "Running as a Jupyter notebook - intended for development only!\n",
      "Using renderer: notebook_connected\n"
     ]
    }
   ],
   "source": [
    "print(\"Running as a Jupyter notebook - intended for development only!\")\n",
    "from IPython import get_ipython\n",
    "\n",
    "ipython = get_ipython()\n",
    "# Code to automatically update the HookedTransformer code as its edited without restarting the kernel\n",
    "ipython.magic(\"load_ext autoreload\")\n",
    "ipython.magic(\"autoreload 2\")\n",
    "\n",
    "import plotly.io as pio\n",
    "pio.renderers.default = \"notebook_connected\"\n",
    "print(f\"Using renderer: {pio.renderers.default}\")"
   ]
  },
  {
   "cell_type": "code",
   "execution_count": 2,
   "id": "6ac28d5a",
   "metadata": {},
   "outputs": [
    {
     "data": {
      "text/html": [
       "<div id=\"circuits-vis-f9f8bc54-a6b0\" style=\"margin: 15px 0;\"/>\n",
       "    <script crossorigin type=\"module\">\n",
       "    import { render, Hello } from \"https://unpkg.com/circuitsvis@1.39.1/dist/cdn/esm.js\";\n",
       "    render(\n",
       "      \"circuits-vis-f9f8bc54-a6b0\",\n",
       "      Hello,\n",
       "      {\"name\": \"Neel\"}\n",
       "    )\n",
       "    </script>"
      ],
      "text/plain": [
       "<circuitsvis.utils.render.RenderedHTML at 0x7fed782a5580>"
      ]
     },
     "execution_count": 2,
     "metadata": {},
     "output_type": "execute_result"
    }
   ],
   "source": [
    "import circuitsvis as cv\n",
    "# Testing that the library works\n",
    "cv.examples.hello(\"Neel\")"
   ]
  },
  {
   "cell_type": "code",
   "execution_count": 3,
   "id": "cb5d9258",
   "metadata": {
    "tags": []
   },
   "outputs": [
    {
     "data": {
      "text/plain": [
       "<torch.autograd.grad_mode.set_grad_enabled at 0x7fed782a5a30>"
      ]
     },
     "execution_count": 3,
     "metadata": {},
     "output_type": "execute_result"
    }
   ],
   "source": [
    "# Import stuff\n",
    "import torch\n",
    "import torch.nn as nn\n",
    "import torch.nn.functional as F\n",
    "import torch.optim as optim\n",
    "import numpy as np\n",
    "import einops\n",
    "from fancy_einsum import einsum\n",
    "import tqdm.auto as tqdm\n",
    "import random\n",
    "from pathlib import Path\n",
    "import plotly.express as px\n",
    "from torch.utils.data import DataLoader\n",
    "\n",
    "from jaxtyping import Float, Int\n",
    "from typing import List, Union, Optional\n",
    "from functools import partial\n",
    "import copy\n",
    "\n",
    "import itertools\n",
    "from transformers import AutoModelForCausalLM, AutoConfig, AutoTokenizer\n",
    "import dataclasses\n",
    "import datasets\n",
    "from IPython.display import HTML\n",
    "\n",
    "import transformer_lens\n",
    "import transformer_lens.utils as utils\n",
    "from transformer_lens.hook_points import (\n",
    "    HookedRootModule,\n",
    "    HookPoint,\n",
    ")  # Hooking utilities\n",
    "from transformer_lens import HookedTransformer, HookedTransformerConfig, FactoredMatrix, ActivationCache\n",
    "torch.set_grad_enabled(False)"
   ]
  },
  {
   "cell_type": "code",
   "execution_count": 4,
   "id": "5e30c43b",
   "metadata": {
    "tags": []
   },
   "outputs": [],
   "source": [
    "from neel_plotly import line, scatter, imshow, histogram"
   ]
  },
  {
   "cell_type": "markdown",
   "id": "4de18553",
   "metadata": {},
   "source": [
    "### Load 8L 8H Model and Convert to Transformer Lens"
   ]
  },
  {
   "cell_type": "code",
   "execution_count": 6,
   "id": "f9e1a75c",
   "metadata": {
    "tags": []
   },
   "outputs": [],
   "source": [
    "def convert_to_transformer_lens_format(in_sd, n_layers=8, n_heads=8):\n",
    "    out_sd = {}\n",
    "    out_sd[\"pos_embed.W_pos\"] = in_sd[\"pos_emb\"].squeeze(0)\n",
    "    out_sd[\"embed.W_E\"] = in_sd[\"tok_emb.weight\"]\n",
    "\n",
    "    out_sd[\"ln_final.w\"] = in_sd[\"ln_f.weight\"]\n",
    "    out_sd[\"ln_final.b\"] = in_sd[\"ln_f.bias\"]\n",
    "    out_sd[\"unembed.W_U\"] = in_sd[\"head.weight\"].T\n",
    "\n",
    "    for layer in range(n_layers):\n",
    "        out_sd[f\"blocks.{layer}.ln1.w\"] = in_sd[f\"blocks.{layer}.ln1.weight\"]\n",
    "        out_sd[f\"blocks.{layer}.ln1.b\"] = in_sd[f\"blocks.{layer}.ln1.bias\"]\n",
    "        out_sd[f\"blocks.{layer}.ln2.w\"] = in_sd[f\"blocks.{layer}.ln2.weight\"]\n",
    "        out_sd[f\"blocks.{layer}.ln2.b\"] = in_sd[f\"blocks.{layer}.ln2.bias\"]\n",
    "\n",
    "        out_sd[f\"blocks.{layer}.attn.W_Q\"] = einops.rearrange(\n",
    "            in_sd[f\"blocks.{layer}.attn.query.weight\"], \"(head d_head) d_model -> head d_model d_head\", head=n_heads\n",
    "        )\n",
    "        out_sd[f\"blocks.{layer}.attn.b_Q\"] = einops.rearrange(\n",
    "            in_sd[f\"blocks.{layer}.attn.query.bias\"], \"(head d_head) -> head d_head\", head=n_heads\n",
    "        )\n",
    "        out_sd[f\"blocks.{layer}.attn.W_K\"] = einops.rearrange(\n",
    "            in_sd[f\"blocks.{layer}.attn.key.weight\"], \"(head d_head) d_model -> head d_model d_head\", head=n_heads\n",
    "        )\n",
    "        out_sd[f\"blocks.{layer}.attn.b_K\"] = einops.rearrange(\n",
    "            in_sd[f\"blocks.{layer}.attn.key.bias\"], \"(head d_head) -> head d_head\", head=n_heads\n",
    "        )\n",
    "        out_sd[f\"blocks.{layer}.attn.W_V\"] = einops.rearrange(\n",
    "            in_sd[f\"blocks.{layer}.attn.value.weight\"], \"(head d_head) d_model -> head d_model d_head\", head=n_heads\n",
    "        )\n",
    "        out_sd[f\"blocks.{layer}.attn.b_V\"] = einops.rearrange(\n",
    "            in_sd[f\"blocks.{layer}.attn.value.bias\"], \"(head d_head) -> head d_head\", head=n_heads\n",
    "        )\n",
    "        out_sd[f\"blocks.{layer}.attn.W_O\"] = einops.rearrange(\n",
    "            in_sd[f\"blocks.{layer}.attn.proj.weight\"], \"d_model (head d_head) -> head d_head d_model\", head=n_heads\n",
    "        )\n",
    "        out_sd[f\"blocks.{layer}.attn.b_O\"] = in_sd[f\"blocks.{layer}.attn.proj.bias\"]\n",
    "\n",
    "        out_sd[f\"blocks.{layer}.mlp.b_in\"] = in_sd[f\"blocks.{layer}.mlp.0.bias\"]\n",
    "        out_sd[f\"blocks.{layer}.mlp.W_in\"] = in_sd[f\"blocks.{layer}.mlp.0.weight\"].T\n",
    "        out_sd[f\"blocks.{layer}.mlp.b_out\"] = in_sd[f\"blocks.{layer}.mlp.2.bias\"]\n",
    "        out_sd[f\"blocks.{layer}.mlp.W_out\"] = in_sd[f\"blocks.{layer}.mlp.2.weight\"].T\n",
    "    \n",
    "    return out_sd"
   ]
  },
  {
   "cell_type": "markdown",
   "id": "0be503a6",
   "metadata": {},
   "source": [
    "## Make sure to change path"
   ]
  },
  {
   "cell_type": "code",
   "execution_count": 22,
   "id": "1e2e2315",
   "metadata": {
    "tags": []
   },
   "outputs": [
    {
     "name": "stdout",
     "output_type": "stream",
     "text": [
      "pos_emb torch.Size([1, 59, 512])\n",
      "tok_emb.weight torch.Size([61, 512])\n",
      "blocks.0.ln1.weight torch.Size([512])\n",
      "blocks.0.ln1.bias torch.Size([512])\n",
      "blocks.0.ln2.weight torch.Size([512])\n",
      "blocks.0.ln2.bias torch.Size([512])\n",
      "blocks.0.attn.mask torch.Size([1, 1, 59, 59])\n",
      "blocks.0.attn.key.weight torch.Size([512, 512])\n",
      "blocks.0.attn.key.bias torch.Size([512])\n",
      "blocks.0.attn.query.weight torch.Size([512, 512])\n",
      "blocks.0.attn.query.bias torch.Size([512])\n",
      "blocks.0.attn.value.weight torch.Size([512, 512])\n",
      "blocks.0.attn.value.bias torch.Size([512])\n",
      "blocks.0.attn.proj.weight torch.Size([512, 512])\n",
      "blocks.0.attn.proj.bias torch.Size([512])\n",
      "blocks.0.mlp.0.weight torch.Size([2048, 512])\n",
      "blocks.0.mlp.0.bias torch.Size([2048])\n",
      "blocks.0.mlp.2.weight torch.Size([512, 2048])\n",
      "blocks.0.mlp.2.bias torch.Size([512])\n",
      "ln_f.weight torch.Size([512])\n",
      "ln_f.bias torch.Size([512])\n",
      "head.weight torch.Size([61, 512])\n"
     ]
    }
   ],
   "source": [
    "heads, layers = 8,8\n",
    "# Change this path\n",
    "path = \"../EWOthello/ckpts/DeanKLi_GPT_Synthetic_8L8H/GPT_Synthetic_8Layers_8Heads.ckpt\"\n",
    "synthetic_checkpoint = torch.load(path, map_location='cpu')\n",
    "for name, param in synthetic_checkpoint.items():\n",
    "    if name.startswith(\"blocks.0\") or not name.startswith(\"blocks\"):\n",
    "        print(name, param.shape)\n",
    "\n",
    "cfg = HookedTransformerConfig(\n",
    "    n_layers = layers,\n",
    "    d_model = 512,\n",
    "    d_head = 64,\n",
    "    n_heads = heads,\n",
    "    d_mlp = 2048,\n",
    "    d_vocab = 61,\n",
    "    n_ctx = 59,\n",
    "    act_fn=\"gelu\",\n",
    "    normalization_type=\"LNPre\"\n",
    ")\n",
    "model = HookedTransformer(cfg)\n",
    "\n",
    "\n",
    "model.load_and_process_state_dict(convert_to_transformer_lens_format(synthetic_checkpoint, n_layers=layers, n_heads=heads))\n"
   ]
  },
  {
   "cell_type": "markdown",
   "id": "43338172",
   "metadata": {},
   "source": [
    "### Load Othello Content\n",
    "Boring setup code to load in 100K sample Othello games, the linear probe, and some utility functions"
   ]
  },
  {
   "cell_type": "code",
   "execution_count": 23,
   "id": "b329acf3",
   "metadata": {
    "tags": []
   },
   "outputs": [
    {
     "name": "stdout",
     "output_type": "stream",
     "text": [
      "Number of games: 100000\n",
      "Length of game: 60\n"
     ]
    }
   ],
   "source": [
    "from EWOthello.othello_world.mechanistic_interpretability.mech_interp_othello_utils import plot_single_board, to_string, to_int, int_to_label, string_to_label, OthelloBoardState\n",
    "OTHELLO_ROOT = Path(\"../EWOthello/othello_world/\")\n",
    "\n",
    "board_seqs_int = torch.tensor(np.load(OTHELLO_ROOT/\"board_seqs_int_small.npy\"), dtype=torch.long)\n",
    "board_seqs_string = torch.tensor(np.load(OTHELLO_ROOT/\"board_seqs_string_small.npy\"), dtype=torch.long)\n",
    "\n",
    "num_games, length_of_game = board_seqs_int.shape\n",
    "print(\"Number of games:\", num_games,)\n",
    "print(\"Length of game:\", length_of_game)"
   ]
  },
  {
   "cell_type": "code",
   "execution_count": 24,
   "id": "c9d815e0",
   "metadata": {
    "tags": []
   },
   "outputs": [],
   "source": [
    "stoi_indices = [\n",
    "    0, 1, 2, 3, 4, 5, 6, 7, 8, 9, 10, 11, 12, 13, 14, 15, 16, 17, 18, 19, 20, 21, 22, 23, 24, 25, 26, 29, 30, 31, 32, 33, 34, 37, 38, 39, 40, 41, 42, 43, 44, 45, 46, 47, 48, 49, 50, 51, 52, 53, 54, 55, 56, 57, 58, 59, 60, 61, 62, 63,\n",
    "]\n",
    "alpha = \"ABCDEFGH\"\n",
    "\n",
    "\n",
    "def to_board_label(i):\n",
    "    return f\"{alpha[i//8]}{i%8}\"\n",
    "\n",
    "\n",
    "board_labels = list(map(to_board_label, stoi_indices))"
   ]
  },
  {
   "cell_type": "markdown",
   "id": "64fc5e4e",
   "metadata": {},
   "source": [
    "### Running the Model\n",
    "Keep in mind that state 61 corresponds to passing (not making a move)"
   ]
  },
  {
   "cell_type": "code",
   "execution_count": 25,
   "id": "01e71ea5",
   "metadata": {
    "tags": []
   },
   "outputs": [
    {
     "name": "stdout",
     "output_type": "stream",
     "text": [
      "logits: torch.Size([1, 30, 61])\n"
     ]
    }
   ],
   "source": [
    "moves_int = board_seqs_int[0, :30]\n",
    "\n",
    "# This is implicitly converted to a batch of size 1\n",
    "logits = model(moves_int)\n",
    "print(\"logits:\", logits.shape)"
   ]
  },
  {
   "cell_type": "code",
   "execution_count": 26,
   "id": "317cae77",
   "metadata": {},
   "outputs": [],
   "source": [
    "logit_vec = logits[0, -1]\n",
    "log_probs = logit_vec.log_softmax(-1)\n",
    "# Remove passing\n",
    "log_probs = log_probs[1:]\n",
    "assert len(log_probs)==60\n",
    "\n",
    "temp_board_state = torch.zeros(64, device=logit_vec.device)\n",
    "# Set all cells to -15 by default, for a very negative log prob - this means the middle cells don't show up as mattering\n",
    "temp_board_state -= 13.\n",
    "temp_board_state[stoi_indices] = log_probs"
   ]
  },
  {
   "cell_type": "code",
   "execution_count": 27,
   "id": "b51a29ae",
   "metadata": {
    "tags": []
   },
   "outputs": [
    {
     "data": {
      "text/html": [
       "<div>                            <div id=\"a4154af1-9ceb-4a9d-8211-0dbafaf01963\" class=\"plotly-graph-div\" style=\"height:525px; width:100%;\"></div>            <script type=\"text/javascript\">                require([\"plotly\"], function(Plotly) {                    window.PLOTLYENV=window.PLOTLYENV || {};                                    if (document.getElementById(\"a4154af1-9ceb-4a9d-8211-0dbafaf01963\")) {                    Plotly.newPlot(                        \"a4154af1-9ceb-4a9d-8211-0dbafaf01963\",                        [{\"coloraxis\":\"coloraxis\",\"name\":\"0\",\"x\":[\"0\",\"1\",\"2\",\"3\",\"4\",\"5\",\"6\",\"7\"],\"y\":[\"A\",\"B\",\"C\",\"D\",\"E\",\"F\",\"G\",\"H\"],\"z\":[[-12.440472602844238,-12.513737678527832,-13.044560432434082,-2.7020304203033447,-12.476698875427246,-2.581604242324829,-2.5107667446136475,-12.253031730651855],[-12.26271915435791,-13.31573486328125,-2.500852346420288,-12.378067970275879,-10.954449653625488,-11.43467903137207,-9.553435325622559,-12.93698787689209],[-12.350308418273926,-12.152402877807617,-11.859196662902832,-12.744288444519043,-12.619620323181152,-12.086894035339355,-13.140979766845703,-2.6213748455047607],[-11.728304862976074,-12.121636390686035,-2.538269281387329,-13.0,-13.0,-12.107277870178223,-11.44322395324707,-13.725411415100098],[-11.21190357208252,-12.250446319580078,-12.976449012756348,-13.0,-13.0,-10.337580680847168,-2.4562900066375732,-11.803773880004883],[-11.937235832214355,-12.798651695251465,-11.910553932189941,-12.669527053833008,-12.543438911437988,-10.26888656616211,-12.567519187927246,-2.5384299755096436],[-11.758125305175781,-11.652884483337402,-12.115788459777832,-11.546721458435059,-11.87558650970459,-9.95738410949707,-2.6429641246795654,-11.781475067138672],[-11.222506523132324,-11.741684913635254,-2.655560255050659,-2.533229112625122,-2.535104990005493,-9.175251007080078,-2.5643184185028076,-10.135648727416992]],\"type\":\"heatmap\",\"xaxis\":\"x\",\"yaxis\":\"y\",\"hovertemplate\":\"x: %{x}<br>y: %{y}<br>color: %{z}<extra></extra>\"}],                        {\"template\":{\"data\":{\"histogram2dcontour\":[{\"type\":\"histogram2dcontour\",\"colorbar\":{\"outlinewidth\":0,\"ticks\":\"\"},\"colorscale\":[[0.0,\"#0d0887\"],[0.1111111111111111,\"#46039f\"],[0.2222222222222222,\"#7201a8\"],[0.3333333333333333,\"#9c179e\"],[0.4444444444444444,\"#bd3786\"],[0.5555555555555556,\"#d8576b\"],[0.6666666666666666,\"#ed7953\"],[0.7777777777777778,\"#fb9f3a\"],[0.8888888888888888,\"#fdca26\"],[1.0,\"#f0f921\"]]}],\"choropleth\":[{\"type\":\"choropleth\",\"colorbar\":{\"outlinewidth\":0,\"ticks\":\"\"}}],\"histogram2d\":[{\"type\":\"histogram2d\",\"colorbar\":{\"outlinewidth\":0,\"ticks\":\"\"},\"colorscale\":[[0.0,\"#0d0887\"],[0.1111111111111111,\"#46039f\"],[0.2222222222222222,\"#7201a8\"],[0.3333333333333333,\"#9c179e\"],[0.4444444444444444,\"#bd3786\"],[0.5555555555555556,\"#d8576b\"],[0.6666666666666666,\"#ed7953\"],[0.7777777777777778,\"#fb9f3a\"],[0.8888888888888888,\"#fdca26\"],[1.0,\"#f0f921\"]]}],\"heatmap\":[{\"type\":\"heatmap\",\"colorbar\":{\"outlinewidth\":0,\"ticks\":\"\"},\"colorscale\":[[0.0,\"#0d0887\"],[0.1111111111111111,\"#46039f\"],[0.2222222222222222,\"#7201a8\"],[0.3333333333333333,\"#9c179e\"],[0.4444444444444444,\"#bd3786\"],[0.5555555555555556,\"#d8576b\"],[0.6666666666666666,\"#ed7953\"],[0.7777777777777778,\"#fb9f3a\"],[0.8888888888888888,\"#fdca26\"],[1.0,\"#f0f921\"]]}],\"heatmapgl\":[{\"type\":\"heatmapgl\",\"colorbar\":{\"outlinewidth\":0,\"ticks\":\"\"},\"colorscale\":[[0.0,\"#0d0887\"],[0.1111111111111111,\"#46039f\"],[0.2222222222222222,\"#7201a8\"],[0.3333333333333333,\"#9c179e\"],[0.4444444444444444,\"#bd3786\"],[0.5555555555555556,\"#d8576b\"],[0.6666666666666666,\"#ed7953\"],[0.7777777777777778,\"#fb9f3a\"],[0.8888888888888888,\"#fdca26\"],[1.0,\"#f0f921\"]]}],\"contourcarpet\":[{\"type\":\"contourcarpet\",\"colorbar\":{\"outlinewidth\":0,\"ticks\":\"\"}}],\"contour\":[{\"type\":\"contour\",\"colorbar\":{\"outlinewidth\":0,\"ticks\":\"\"},\"colorscale\":[[0.0,\"#0d0887\"],[0.1111111111111111,\"#46039f\"],[0.2222222222222222,\"#7201a8\"],[0.3333333333333333,\"#9c179e\"],[0.4444444444444444,\"#bd3786\"],[0.5555555555555556,\"#d8576b\"],[0.6666666666666666,\"#ed7953\"],[0.7777777777777778,\"#fb9f3a\"],[0.8888888888888888,\"#fdca26\"],[1.0,\"#f0f921\"]]}],\"surface\":[{\"type\":\"surface\",\"colorbar\":{\"outlinewidth\":0,\"ticks\":\"\"},\"colorscale\":[[0.0,\"#0d0887\"],[0.1111111111111111,\"#46039f\"],[0.2222222222222222,\"#7201a8\"],[0.3333333333333333,\"#9c179e\"],[0.4444444444444444,\"#bd3786\"],[0.5555555555555556,\"#d8576b\"],[0.6666666666666666,\"#ed7953\"],[0.7777777777777778,\"#fb9f3a\"],[0.8888888888888888,\"#fdca26\"],[1.0,\"#f0f921\"]]}],\"mesh3d\":[{\"type\":\"mesh3d\",\"colorbar\":{\"outlinewidth\":0,\"ticks\":\"\"}}],\"scatter\":[{\"fillpattern\":{\"fillmode\":\"overlay\",\"size\":10,\"solidity\":0.2},\"type\":\"scatter\"}],\"parcoords\":[{\"type\":\"parcoords\",\"line\":{\"colorbar\":{\"outlinewidth\":0,\"ticks\":\"\"}}}],\"scatterpolargl\":[{\"type\":\"scatterpolargl\",\"marker\":{\"colorbar\":{\"outlinewidth\":0,\"ticks\":\"\"}}}],\"bar\":[{\"error_x\":{\"color\":\"#2a3f5f\"},\"error_y\":{\"color\":\"#2a3f5f\"},\"marker\":{\"line\":{\"color\":\"#E5ECF6\",\"width\":0.5},\"pattern\":{\"fillmode\":\"overlay\",\"size\":10,\"solidity\":0.2}},\"type\":\"bar\"}],\"scattergeo\":[{\"type\":\"scattergeo\",\"marker\":{\"colorbar\":{\"outlinewidth\":0,\"ticks\":\"\"}}}],\"scatterpolar\":[{\"type\":\"scatterpolar\",\"marker\":{\"colorbar\":{\"outlinewidth\":0,\"ticks\":\"\"}}}],\"histogram\":[{\"marker\":{\"pattern\":{\"fillmode\":\"overlay\",\"size\":10,\"solidity\":0.2}},\"type\":\"histogram\"}],\"scattergl\":[{\"type\":\"scattergl\",\"marker\":{\"colorbar\":{\"outlinewidth\":0,\"ticks\":\"\"}}}],\"scatter3d\":[{\"type\":\"scatter3d\",\"line\":{\"colorbar\":{\"outlinewidth\":0,\"ticks\":\"\"}},\"marker\":{\"colorbar\":{\"outlinewidth\":0,\"ticks\":\"\"}}}],\"scattermapbox\":[{\"type\":\"scattermapbox\",\"marker\":{\"colorbar\":{\"outlinewidth\":0,\"ticks\":\"\"}}}],\"scatterternary\":[{\"type\":\"scatterternary\",\"marker\":{\"colorbar\":{\"outlinewidth\":0,\"ticks\":\"\"}}}],\"scattercarpet\":[{\"type\":\"scattercarpet\",\"marker\":{\"colorbar\":{\"outlinewidth\":0,\"ticks\":\"\"}}}],\"carpet\":[{\"aaxis\":{\"endlinecolor\":\"#2a3f5f\",\"gridcolor\":\"white\",\"linecolor\":\"white\",\"minorgridcolor\":\"white\",\"startlinecolor\":\"#2a3f5f\"},\"baxis\":{\"endlinecolor\":\"#2a3f5f\",\"gridcolor\":\"white\",\"linecolor\":\"white\",\"minorgridcolor\":\"white\",\"startlinecolor\":\"#2a3f5f\"},\"type\":\"carpet\"}],\"table\":[{\"cells\":{\"fill\":{\"color\":\"#EBF0F8\"},\"line\":{\"color\":\"white\"}},\"header\":{\"fill\":{\"color\":\"#C8D4E3\"},\"line\":{\"color\":\"white\"}},\"type\":\"table\"}],\"barpolar\":[{\"marker\":{\"line\":{\"color\":\"#E5ECF6\",\"width\":0.5},\"pattern\":{\"fillmode\":\"overlay\",\"size\":10,\"solidity\":0.2}},\"type\":\"barpolar\"}],\"pie\":[{\"automargin\":true,\"type\":\"pie\"}]},\"layout\":{\"autotypenumbers\":\"strict\",\"colorway\":[\"#636efa\",\"#EF553B\",\"#00cc96\",\"#ab63fa\",\"#FFA15A\",\"#19d3f3\",\"#FF6692\",\"#B6E880\",\"#FF97FF\",\"#FECB52\"],\"font\":{\"color\":\"#2a3f5f\"},\"hovermode\":\"closest\",\"hoverlabel\":{\"align\":\"left\"},\"paper_bgcolor\":\"white\",\"plot_bgcolor\":\"#E5ECF6\",\"polar\":{\"bgcolor\":\"#E5ECF6\",\"angularaxis\":{\"gridcolor\":\"white\",\"linecolor\":\"white\",\"ticks\":\"\"},\"radialaxis\":{\"gridcolor\":\"white\",\"linecolor\":\"white\",\"ticks\":\"\"}},\"ternary\":{\"bgcolor\":\"#E5ECF6\",\"aaxis\":{\"gridcolor\":\"white\",\"linecolor\":\"white\",\"ticks\":\"\"},\"baxis\":{\"gridcolor\":\"white\",\"linecolor\":\"white\",\"ticks\":\"\"},\"caxis\":{\"gridcolor\":\"white\",\"linecolor\":\"white\",\"ticks\":\"\"}},\"coloraxis\":{\"colorbar\":{\"outlinewidth\":0,\"ticks\":\"\"}},\"colorscale\":{\"sequential\":[[0.0,\"#0d0887\"],[0.1111111111111111,\"#46039f\"],[0.2222222222222222,\"#7201a8\"],[0.3333333333333333,\"#9c179e\"],[0.4444444444444444,\"#bd3786\"],[0.5555555555555556,\"#d8576b\"],[0.6666666666666666,\"#ed7953\"],[0.7777777777777778,\"#fb9f3a\"],[0.8888888888888888,\"#fdca26\"],[1.0,\"#f0f921\"]],\"sequentialminus\":[[0.0,\"#0d0887\"],[0.1111111111111111,\"#46039f\"],[0.2222222222222222,\"#7201a8\"],[0.3333333333333333,\"#9c179e\"],[0.4444444444444444,\"#bd3786\"],[0.5555555555555556,\"#d8576b\"],[0.6666666666666666,\"#ed7953\"],[0.7777777777777778,\"#fb9f3a\"],[0.8888888888888888,\"#fdca26\"],[1.0,\"#f0f921\"]],\"diverging\":[[0,\"#8e0152\"],[0.1,\"#c51b7d\"],[0.2,\"#de77ae\"],[0.3,\"#f1b6da\"],[0.4,\"#fde0ef\"],[0.5,\"#f7f7f7\"],[0.6,\"#e6f5d0\"],[0.7,\"#b8e186\"],[0.8,\"#7fbc41\"],[0.9,\"#4d9221\"],[1,\"#276419\"]]},\"xaxis\":{\"gridcolor\":\"white\",\"linecolor\":\"white\",\"ticks\":\"\",\"title\":{\"standoff\":15},\"zerolinecolor\":\"white\",\"automargin\":true,\"zerolinewidth\":2},\"yaxis\":{\"gridcolor\":\"white\",\"linecolor\":\"white\",\"ticks\":\"\",\"title\":{\"standoff\":15},\"zerolinecolor\":\"white\",\"automargin\":true,\"zerolinewidth\":2},\"scene\":{\"xaxis\":{\"backgroundcolor\":\"#E5ECF6\",\"gridcolor\":\"white\",\"linecolor\":\"white\",\"showbackground\":true,\"ticks\":\"\",\"zerolinecolor\":\"white\",\"gridwidth\":2},\"yaxis\":{\"backgroundcolor\":\"#E5ECF6\",\"gridcolor\":\"white\",\"linecolor\":\"white\",\"showbackground\":true,\"ticks\":\"\",\"zerolinecolor\":\"white\",\"gridwidth\":2},\"zaxis\":{\"backgroundcolor\":\"#E5ECF6\",\"gridcolor\":\"white\",\"linecolor\":\"white\",\"showbackground\":true,\"ticks\":\"\",\"zerolinecolor\":\"white\",\"gridwidth\":2}},\"shapedefaults\":{\"line\":{\"color\":\"#2a3f5f\"}},\"annotationdefaults\":{\"arrowcolor\":\"#2a3f5f\",\"arrowhead\":0,\"arrowwidth\":1},\"geo\":{\"bgcolor\":\"white\",\"landcolor\":\"#E5ECF6\",\"subunitcolor\":\"white\",\"showland\":true,\"showlakes\":true,\"lakecolor\":\"white\"},\"title\":{\"x\":0.05},\"mapbox\":{\"style\":\"light\"}}},\"xaxis\":{\"anchor\":\"y\",\"domain\":[0.0,1.0],\"scaleanchor\":\"y\",\"constrain\":\"domain\",\"title\":{\"text\":\"x\"}},\"yaxis\":{\"anchor\":\"x\",\"domain\":[0.0,1.0],\"autorange\":\"reversed\",\"constrain\":\"domain\",\"title\":{\"text\":\"y\"}},\"coloraxis\":{\"colorscale\":[[0.0,\"rgb(247,251,255)\"],[0.125,\"rgb(222,235,247)\"],[0.25,\"rgb(198,219,239)\"],[0.375,\"rgb(158,202,225)\"],[0.5,\"rgb(107,174,214)\"],[0.625,\"rgb(66,146,198)\"],[0.75,\"rgb(33,113,181)\"],[0.875,\"rgb(8,81,156)\"],[1.0,\"rgb(8,48,107)\"]],\"cmin\":-13.725411415100098,\"cmax\":0},\"title\":{\"text\":\"Example Log Probs\"}},                        {\"responsive\": true}                    ).then(function(){\n",
       "                            \n",
       "var gd = document.getElementById('a4154af1-9ceb-4a9d-8211-0dbafaf01963');\n",
       "var x = new MutationObserver(function (mutations, observer) {{\n",
       "        var display = window.getComputedStyle(gd).display;\n",
       "        if (!display || display === 'none') {{\n",
       "            console.log([gd, 'removed!']);\n",
       "            Plotly.purge(gd);\n",
       "            observer.disconnect();\n",
       "        }}\n",
       "}});\n",
       "\n",
       "// Listen for the removal of the full notebook cells\n",
       "var notebookContainer = gd.closest('#notebook-container');\n",
       "if (notebookContainer) {{\n",
       "    x.observe(notebookContainer, {childList: true});\n",
       "}}\n",
       "\n",
       "// Listen for the clearing of the current output cell\n",
       "var outputEl = gd.closest('.output');\n",
       "if (outputEl) {{\n",
       "    x.observe(outputEl, {childList: true});\n",
       "}}\n",
       "\n",
       "                        })                };                });            </script>        </div>"
      ]
     },
     "metadata": {},
     "output_type": "display_data"
    }
   ],
   "source": [
    "def plot_square_as_board(state, diverging_scale=True, **kwargs):\n",
    "    \"\"\"Takes a square input (8 by 8) and plot it as a board. Can do a stack of boards via facet_col=0\"\"\"\n",
    "    if diverging_scale:\n",
    "        imshow(state, y=[i for i in alpha], x=[str(i) for i in range(8)], color_continuous_scale=\"RdBu\", color_continuous_midpoint=0., aspect=\"equal\", **kwargs)\n",
    "    else:\n",
    "        imshow(state, y=[i for i in alpha], x=[str(i) for i in range(8)], color_continuous_scale=\"Blues\", color_continuous_midpoint=None, aspect=\"equal\", **kwargs)\n",
    "plot_square_as_board(temp_board_state.reshape(8, 8), zmax=0, diverging_scale=False, title=\"Example Log Probs\")"
   ]
  },
  {
   "cell_type": "markdown",
   "id": "c321fa6c",
   "metadata": {},
   "source": [
    "### Exploring Gameplay"
   ]
  },
  {
   "cell_type": "code",
   "execution_count": 28,
   "id": "b301abf8",
   "metadata": {},
   "outputs": [
    {
     "data": {
      "text/html": [
       "<div>                            <div id=\"d24140ee-3023-4236-9023-f48c1986c2d1\" class=\"plotly-graph-div\" style=\"height:525px; width:100%;\"></div>            <script type=\"text/javascript\">                require([\"plotly\"], function(Plotly) {                    window.PLOTLYENV=window.PLOTLYENV || {};                                    if (document.getElementById(\"d24140ee-3023-4236-9023-f48c1986c2d1\")) {                    Plotly.newPlot(                        \"d24140ee-3023-4236-9023-f48c1986c2d1\",                        [{\"coloraxis\":\"coloraxis\",\"name\":\"0\",\"x\":[\"0\",\"1\",\"2\",\"3\",\"4\",\"5\",\"6\",\"7\"],\"y\":[\"A\",\"B\",\"C\",\"D\",\"E\",\"F\",\"G\",\"H\"],\"z\":[[0.0,0.0,0.0,0.0,-1.0,0.0,0.0,0.0],[0.0,0.0,0.0,-1.0,-1.0,-1.0,0.0,1.0],[0.0,1.0,1.0,-1.0,-1.0,1.0,1.0,0.0],[0.0,0.0,0.0,-1.0,-1.0,-1.0,-1.0,-1.0],[0.0,0.0,1.0,-1.0,-1.0,-1.0,0.0,-1.0],[0.0,1.0,1.0,1.0,1.0,-1.0,-1.0,0.0],[0.0,0.0,-1.0,-1.0,-1.0,-1.0,0.0,1.0],[0.0,-1.0,0.0,0.0,0.0,-1.0,0.0,0.0]],\"type\":\"heatmap\",\"xaxis\":\"x\",\"yaxis\":\"y\",\"hovertemplate\":\"x: %{x}<br>y: %{y}<br>color: %{z}<extra></extra>\"}],                        {\"template\":{\"data\":{\"histogram2dcontour\":[{\"type\":\"histogram2dcontour\",\"colorbar\":{\"outlinewidth\":0,\"ticks\":\"\"},\"colorscale\":[[0.0,\"#0d0887\"],[0.1111111111111111,\"#46039f\"],[0.2222222222222222,\"#7201a8\"],[0.3333333333333333,\"#9c179e\"],[0.4444444444444444,\"#bd3786\"],[0.5555555555555556,\"#d8576b\"],[0.6666666666666666,\"#ed7953\"],[0.7777777777777778,\"#fb9f3a\"],[0.8888888888888888,\"#fdca26\"],[1.0,\"#f0f921\"]]}],\"choropleth\":[{\"type\":\"choropleth\",\"colorbar\":{\"outlinewidth\":0,\"ticks\":\"\"}}],\"histogram2d\":[{\"type\":\"histogram2d\",\"colorbar\":{\"outlinewidth\":0,\"ticks\":\"\"},\"colorscale\":[[0.0,\"#0d0887\"],[0.1111111111111111,\"#46039f\"],[0.2222222222222222,\"#7201a8\"],[0.3333333333333333,\"#9c179e\"],[0.4444444444444444,\"#bd3786\"],[0.5555555555555556,\"#d8576b\"],[0.6666666666666666,\"#ed7953\"],[0.7777777777777778,\"#fb9f3a\"],[0.8888888888888888,\"#fdca26\"],[1.0,\"#f0f921\"]]}],\"heatmap\":[{\"type\":\"heatmap\",\"colorbar\":{\"outlinewidth\":0,\"ticks\":\"\"},\"colorscale\":[[0.0,\"#0d0887\"],[0.1111111111111111,\"#46039f\"],[0.2222222222222222,\"#7201a8\"],[0.3333333333333333,\"#9c179e\"],[0.4444444444444444,\"#bd3786\"],[0.5555555555555556,\"#d8576b\"],[0.6666666666666666,\"#ed7953\"],[0.7777777777777778,\"#fb9f3a\"],[0.8888888888888888,\"#fdca26\"],[1.0,\"#f0f921\"]]}],\"heatmapgl\":[{\"type\":\"heatmapgl\",\"colorbar\":{\"outlinewidth\":0,\"ticks\":\"\"},\"colorscale\":[[0.0,\"#0d0887\"],[0.1111111111111111,\"#46039f\"],[0.2222222222222222,\"#7201a8\"],[0.3333333333333333,\"#9c179e\"],[0.4444444444444444,\"#bd3786\"],[0.5555555555555556,\"#d8576b\"],[0.6666666666666666,\"#ed7953\"],[0.7777777777777778,\"#fb9f3a\"],[0.8888888888888888,\"#fdca26\"],[1.0,\"#f0f921\"]]}],\"contourcarpet\":[{\"type\":\"contourcarpet\",\"colorbar\":{\"outlinewidth\":0,\"ticks\":\"\"}}],\"contour\":[{\"type\":\"contour\",\"colorbar\":{\"outlinewidth\":0,\"ticks\":\"\"},\"colorscale\":[[0.0,\"#0d0887\"],[0.1111111111111111,\"#46039f\"],[0.2222222222222222,\"#7201a8\"],[0.3333333333333333,\"#9c179e\"],[0.4444444444444444,\"#bd3786\"],[0.5555555555555556,\"#d8576b\"],[0.6666666666666666,\"#ed7953\"],[0.7777777777777778,\"#fb9f3a\"],[0.8888888888888888,\"#fdca26\"],[1.0,\"#f0f921\"]]}],\"surface\":[{\"type\":\"surface\",\"colorbar\":{\"outlinewidth\":0,\"ticks\":\"\"},\"colorscale\":[[0.0,\"#0d0887\"],[0.1111111111111111,\"#46039f\"],[0.2222222222222222,\"#7201a8\"],[0.3333333333333333,\"#9c179e\"],[0.4444444444444444,\"#bd3786\"],[0.5555555555555556,\"#d8576b\"],[0.6666666666666666,\"#ed7953\"],[0.7777777777777778,\"#fb9f3a\"],[0.8888888888888888,\"#fdca26\"],[1.0,\"#f0f921\"]]}],\"mesh3d\":[{\"type\":\"mesh3d\",\"colorbar\":{\"outlinewidth\":0,\"ticks\":\"\"}}],\"scatter\":[{\"fillpattern\":{\"fillmode\":\"overlay\",\"size\":10,\"solidity\":0.2},\"type\":\"scatter\"}],\"parcoords\":[{\"type\":\"parcoords\",\"line\":{\"colorbar\":{\"outlinewidth\":0,\"ticks\":\"\"}}}],\"scatterpolargl\":[{\"type\":\"scatterpolargl\",\"marker\":{\"colorbar\":{\"outlinewidth\":0,\"ticks\":\"\"}}}],\"bar\":[{\"error_x\":{\"color\":\"#2a3f5f\"},\"error_y\":{\"color\":\"#2a3f5f\"},\"marker\":{\"line\":{\"color\":\"#E5ECF6\",\"width\":0.5},\"pattern\":{\"fillmode\":\"overlay\",\"size\":10,\"solidity\":0.2}},\"type\":\"bar\"}],\"scattergeo\":[{\"type\":\"scattergeo\",\"marker\":{\"colorbar\":{\"outlinewidth\":0,\"ticks\":\"\"}}}],\"scatterpolar\":[{\"type\":\"scatterpolar\",\"marker\":{\"colorbar\":{\"outlinewidth\":0,\"ticks\":\"\"}}}],\"histogram\":[{\"marker\":{\"pattern\":{\"fillmode\":\"overlay\",\"size\":10,\"solidity\":0.2}},\"type\":\"histogram\"}],\"scattergl\":[{\"type\":\"scattergl\",\"marker\":{\"colorbar\":{\"outlinewidth\":0,\"ticks\":\"\"}}}],\"scatter3d\":[{\"type\":\"scatter3d\",\"line\":{\"colorbar\":{\"outlinewidth\":0,\"ticks\":\"\"}},\"marker\":{\"colorbar\":{\"outlinewidth\":0,\"ticks\":\"\"}}}],\"scattermapbox\":[{\"type\":\"scattermapbox\",\"marker\":{\"colorbar\":{\"outlinewidth\":0,\"ticks\":\"\"}}}],\"scatterternary\":[{\"type\":\"scatterternary\",\"marker\":{\"colorbar\":{\"outlinewidth\":0,\"ticks\":\"\"}}}],\"scattercarpet\":[{\"type\":\"scattercarpet\",\"marker\":{\"colorbar\":{\"outlinewidth\":0,\"ticks\":\"\"}}}],\"carpet\":[{\"aaxis\":{\"endlinecolor\":\"#2a3f5f\",\"gridcolor\":\"white\",\"linecolor\":\"white\",\"minorgridcolor\":\"white\",\"startlinecolor\":\"#2a3f5f\"},\"baxis\":{\"endlinecolor\":\"#2a3f5f\",\"gridcolor\":\"white\",\"linecolor\":\"white\",\"minorgridcolor\":\"white\",\"startlinecolor\":\"#2a3f5f\"},\"type\":\"carpet\"}],\"table\":[{\"cells\":{\"fill\":{\"color\":\"#EBF0F8\"},\"line\":{\"color\":\"white\"}},\"header\":{\"fill\":{\"color\":\"#C8D4E3\"},\"line\":{\"color\":\"white\"}},\"type\":\"table\"}],\"barpolar\":[{\"marker\":{\"line\":{\"color\":\"#E5ECF6\",\"width\":0.5},\"pattern\":{\"fillmode\":\"overlay\",\"size\":10,\"solidity\":0.2}},\"type\":\"barpolar\"}],\"pie\":[{\"automargin\":true,\"type\":\"pie\"}]},\"layout\":{\"autotypenumbers\":\"strict\",\"colorway\":[\"#636efa\",\"#EF553B\",\"#00cc96\",\"#ab63fa\",\"#FFA15A\",\"#19d3f3\",\"#FF6692\",\"#B6E880\",\"#FF97FF\",\"#FECB52\"],\"font\":{\"color\":\"#2a3f5f\"},\"hovermode\":\"closest\",\"hoverlabel\":{\"align\":\"left\"},\"paper_bgcolor\":\"white\",\"plot_bgcolor\":\"#E5ECF6\",\"polar\":{\"bgcolor\":\"#E5ECF6\",\"angularaxis\":{\"gridcolor\":\"white\",\"linecolor\":\"white\",\"ticks\":\"\"},\"radialaxis\":{\"gridcolor\":\"white\",\"linecolor\":\"white\",\"ticks\":\"\"}},\"ternary\":{\"bgcolor\":\"#E5ECF6\",\"aaxis\":{\"gridcolor\":\"white\",\"linecolor\":\"white\",\"ticks\":\"\"},\"baxis\":{\"gridcolor\":\"white\",\"linecolor\":\"white\",\"ticks\":\"\"},\"caxis\":{\"gridcolor\":\"white\",\"linecolor\":\"white\",\"ticks\":\"\"}},\"coloraxis\":{\"colorbar\":{\"outlinewidth\":0,\"ticks\":\"\"}},\"colorscale\":{\"sequential\":[[0.0,\"#0d0887\"],[0.1111111111111111,\"#46039f\"],[0.2222222222222222,\"#7201a8\"],[0.3333333333333333,\"#9c179e\"],[0.4444444444444444,\"#bd3786\"],[0.5555555555555556,\"#d8576b\"],[0.6666666666666666,\"#ed7953\"],[0.7777777777777778,\"#fb9f3a\"],[0.8888888888888888,\"#fdca26\"],[1.0,\"#f0f921\"]],\"sequentialminus\":[[0.0,\"#0d0887\"],[0.1111111111111111,\"#46039f\"],[0.2222222222222222,\"#7201a8\"],[0.3333333333333333,\"#9c179e\"],[0.4444444444444444,\"#bd3786\"],[0.5555555555555556,\"#d8576b\"],[0.6666666666666666,\"#ed7953\"],[0.7777777777777778,\"#fb9f3a\"],[0.8888888888888888,\"#fdca26\"],[1.0,\"#f0f921\"]],\"diverging\":[[0,\"#8e0152\"],[0.1,\"#c51b7d\"],[0.2,\"#de77ae\"],[0.3,\"#f1b6da\"],[0.4,\"#fde0ef\"],[0.5,\"#f7f7f7\"],[0.6,\"#e6f5d0\"],[0.7,\"#b8e186\"],[0.8,\"#7fbc41\"],[0.9,\"#4d9221\"],[1,\"#276419\"]]},\"xaxis\":{\"gridcolor\":\"white\",\"linecolor\":\"white\",\"ticks\":\"\",\"title\":{\"standoff\":15},\"zerolinecolor\":\"white\",\"automargin\":true,\"zerolinewidth\":2},\"yaxis\":{\"gridcolor\":\"white\",\"linecolor\":\"white\",\"ticks\":\"\",\"title\":{\"standoff\":15},\"zerolinecolor\":\"white\",\"automargin\":true,\"zerolinewidth\":2},\"scene\":{\"xaxis\":{\"backgroundcolor\":\"#E5ECF6\",\"gridcolor\":\"white\",\"linecolor\":\"white\",\"showbackground\":true,\"ticks\":\"\",\"zerolinecolor\":\"white\",\"gridwidth\":2},\"yaxis\":{\"backgroundcolor\":\"#E5ECF6\",\"gridcolor\":\"white\",\"linecolor\":\"white\",\"showbackground\":true,\"ticks\":\"\",\"zerolinecolor\":\"white\",\"gridwidth\":2},\"zaxis\":{\"backgroundcolor\":\"#E5ECF6\",\"gridcolor\":\"white\",\"linecolor\":\"white\",\"showbackground\":true,\"ticks\":\"\",\"zerolinecolor\":\"white\",\"gridwidth\":2}},\"shapedefaults\":{\"line\":{\"color\":\"#2a3f5f\"}},\"annotationdefaults\":{\"arrowcolor\":\"#2a3f5f\",\"arrowhead\":0,\"arrowwidth\":1},\"geo\":{\"bgcolor\":\"white\",\"landcolor\":\"#E5ECF6\",\"subunitcolor\":\"white\",\"showland\":true,\"showlakes\":true,\"lakecolor\":\"white\"},\"title\":{\"x\":0.05},\"mapbox\":{\"style\":\"light\"}}},\"xaxis\":{\"anchor\":\"y\",\"domain\":[0.0,1.0],\"scaleanchor\":\"y\",\"constrain\":\"domain\",\"title\":{\"text\":\"x\"}},\"yaxis\":{\"anchor\":\"x\",\"domain\":[0.0,1.0],\"autorange\":\"reversed\",\"constrain\":\"domain\",\"title\":{\"text\":\"y\"}},\"coloraxis\":{\"colorscale\":[[0.0,\"rgb(103,0,31)\"],[0.1,\"rgb(178,24,43)\"],[0.2,\"rgb(214,96,77)\"],[0.3,\"rgb(244,165,130)\"],[0.4,\"rgb(253,219,199)\"],[0.5,\"rgb(247,247,247)\"],[0.6,\"rgb(209,229,240)\"],[0.7,\"rgb(146,197,222)\"],[0.8,\"rgb(67,147,195)\"],[0.9,\"rgb(33,102,172)\"],[1.0,\"rgb(5,48,97)\"]],\"cmid\":0.0},\"title\":{\"text\":\"Example Board State (+1 is Black, -1 is White)\"}},                        {\"responsive\": true}                    ).then(function(){\n",
       "                            \n",
       "var gd = document.getElementById('d24140ee-3023-4236-9023-f48c1986c2d1');\n",
       "var x = new MutationObserver(function (mutations, observer) {{\n",
       "        var display = window.getComputedStyle(gd).display;\n",
       "        if (!display || display === 'none') {{\n",
       "            console.log([gd, 'removed!']);\n",
       "            Plotly.purge(gd);\n",
       "            observer.disconnect();\n",
       "        }}\n",
       "}});\n",
       "\n",
       "// Listen for the removal of the full notebook cells\n",
       "var notebookContainer = gd.closest('#notebook-container');\n",
       "if (notebookContainer) {{\n",
       "    x.observe(notebookContainer, {childList: true});\n",
       "}}\n",
       "\n",
       "// Listen for the clearing of the current output cell\n",
       "var outputEl = gd.closest('.output');\n",
       "if (outputEl) {{\n",
       "    x.observe(outputEl, {childList: true});\n",
       "}}\n",
       "\n",
       "                        })                };                });            </script>        </div>"
      ]
     },
     "metadata": {},
     "output_type": "display_data"
    }
   ],
   "source": [
    "board = OthelloBoardState()\n",
    "board.update(to_string(moves_int))\n",
    "plot_square_as_board(board.state, title=\"Example Board State (+1 is Black, -1 is White)\")"
   ]
  },
  {
   "cell_type": "code",
   "execution_count": 29,
   "id": "5d332a7a",
   "metadata": {},
   "outputs": [
    {
     "data": {
      "text/html": [
       "<div>                            <div id=\"a415633e-5c0e-4e68-944e-c7a11c111667\" class=\"plotly-graph-div\" style=\"height:525px; width:100%;\"></div>            <script type=\"text/javascript\">                require([\"plotly\"], function(Plotly) {                    window.PLOTLYENV=window.PLOTLYENV || {};                                    if (document.getElementById(\"a415633e-5c0e-4e68-944e-c7a11c111667\")) {                    Plotly.newPlot(                        \"a415633e-5c0e-4e68-944e-c7a11c111667\",                        [{\"coloraxis\":\"coloraxis\",\"name\":\"0\",\"x\":[\"0\",\"1\",\"2\",\"3\",\"4\",\"5\",\"6\",\"7\"],\"y\":[\"A\",\"B\",\"C\",\"D\",\"E\",\"F\",\"G\",\"H\"],\"z\":[[0.0,0.0,0.0,0.5,-1.0,0.5,0.5,0.0],[0.0,-0.1,0.5,-0.9,-1.0,-1.0,-0.1,1.0],[0.0,1.0,1.0,-0.9,-0.9,1.0,1.0,0.5],[0.0,-0.1,0.5,-1.0,-1.0,-1.0,-1.0,-1.0],[-0.1,-0.1,1.0,-1.0,-1.0,-1.0,0.5,-1.0],[-0.1,1.0,1.0,1.0,1.0,-1.0,-1.0,0.5],[-0.1,-0.1,-1.0,-1.0,-1.0,-1.0,0.5,1.0],[0.0,-1.0,0.5,0.5,0.5,-1.0,0.5,0.0]],\"type\":\"heatmap\",\"xaxis\":\"x\",\"yaxis\":\"y\",\"hovertemplate\":\"<b>%{y}%{x}</b><br>%{customdata}<extra></extra>\",\"text\":[[\"A0\",\"A1\",\"A2\",\"A3\",\"\",\"A5\",\"A6\",\"A7\"],[\"B0\",\"B1\",\"B2\",\"\",\"\",\"\",\"B6\",\"\"],[\"C0\",\"\",\"\",\"\",\"\",\"\",\"\",\"C7\"],[\"D0\",\"D1\",\"D2\",\"\",\"\",\"\",\"\",\"\"],[\"E0\",\"E1\",\"\",\"\",\"\",\"\",\"E6\",\"\"],[\"F0\",\"\",\"\",\"\",\"\",\"\",\"\",\"F7\"],[\"G0\",\"G1\",\"\",\"\",\"\",\"\",\"G6\",\"\"],[\"H0\",\"\",\"H2\",\"H3\",\"H4\",\"\",\"H6\",\"H7\"]],\"texttemplate\":\"%{text}\",\"customdata\":[[\"I:1<br>S:0\",\"I:2<br>S:1\",\"I:3<br>S:2\",\"I:4<br>S:3\",\"I:5<br>S:4\",\"I:6<br>S:5\",\"I:7<br>S:6\",\"I:8<br>S:7\"],[\"I:9<br>S:8\",\"I:10<br>S:9\",\"I:11<br>S:10\",\"I:12<br>S:11\",\"I:13<br>S:12\",\"I:14<br>S:13\",\"I:15<br>S:14\",\"I:16<br>S:15\"],[\"I:17<br>S:16\",\"I:18<br>S:17\",\"I:19<br>S:18\",\"I:20<br>S:19\",\"I:21<br>S:20\",\"I:22<br>S:21\",\"I:23<br>S:22\",\"I:24<br>S:23\"],[\"I:25<br>S:24\",\"I:26<br>S:25\",\"I:27<br>S:26\",\"I:X<br>S:27\",\"I:X<br>S:28\",\"I:28<br>S:29\",\"I:29<br>S:30\",\"I:30<br>S:31\"],[\"I:31<br>S:32\",\"I:32<br>S:33\",\"I:33<br>S:34\",\"I:X<br>S:35\",\"I:X<br>S:36\",\"I:34<br>S:37\",\"I:35<br>S:38\",\"I:36<br>S:39\"],[\"I:37<br>S:40\",\"I:38<br>S:41\",\"I:39<br>S:42\",\"I:40<br>S:43\",\"I:41<br>S:44\",\"I:42<br>S:45\",\"I:43<br>S:46\",\"I:44<br>S:47\"],[\"I:45<br>S:48\",\"I:46<br>S:49\",\"I:47<br>S:50\",\"I:48<br>S:51\",\"I:49<br>S:52\",\"I:50<br>S:53\",\"I:51<br>S:54\",\"I:52<br>S:55\"],[\"I:53<br>S:56\",\"I:54<br>S:57\",\"I:55<br>S:58\",\"I:56<br>S:59\",\"I:57<br>S:60\",\"I:58<br>S:61\",\"I:59<br>S:62\",\"I:60<br>S:63\"]]}],                        {\"template\":{\"data\":{\"histogram2dcontour\":[{\"type\":\"histogram2dcontour\",\"colorbar\":{\"outlinewidth\":0,\"ticks\":\"\"},\"colorscale\":[[0.0,\"#0d0887\"],[0.1111111111111111,\"#46039f\"],[0.2222222222222222,\"#7201a8\"],[0.3333333333333333,\"#9c179e\"],[0.4444444444444444,\"#bd3786\"],[0.5555555555555556,\"#d8576b\"],[0.6666666666666666,\"#ed7953\"],[0.7777777777777778,\"#fb9f3a\"],[0.8888888888888888,\"#fdca26\"],[1.0,\"#f0f921\"]]}],\"choropleth\":[{\"type\":\"choropleth\",\"colorbar\":{\"outlinewidth\":0,\"ticks\":\"\"}}],\"histogram2d\":[{\"type\":\"histogram2d\",\"colorbar\":{\"outlinewidth\":0,\"ticks\":\"\"},\"colorscale\":[[0.0,\"#0d0887\"],[0.1111111111111111,\"#46039f\"],[0.2222222222222222,\"#7201a8\"],[0.3333333333333333,\"#9c179e\"],[0.4444444444444444,\"#bd3786\"],[0.5555555555555556,\"#d8576b\"],[0.6666666666666666,\"#ed7953\"],[0.7777777777777778,\"#fb9f3a\"],[0.8888888888888888,\"#fdca26\"],[1.0,\"#f0f921\"]]}],\"heatmap\":[{\"type\":\"heatmap\",\"colorbar\":{\"outlinewidth\":0,\"ticks\":\"\"},\"colorscale\":[[0.0,\"#0d0887\"],[0.1111111111111111,\"#46039f\"],[0.2222222222222222,\"#7201a8\"],[0.3333333333333333,\"#9c179e\"],[0.4444444444444444,\"#bd3786\"],[0.5555555555555556,\"#d8576b\"],[0.6666666666666666,\"#ed7953\"],[0.7777777777777778,\"#fb9f3a\"],[0.8888888888888888,\"#fdca26\"],[1.0,\"#f0f921\"]]}],\"heatmapgl\":[{\"type\":\"heatmapgl\",\"colorbar\":{\"outlinewidth\":0,\"ticks\":\"\"},\"colorscale\":[[0.0,\"#0d0887\"],[0.1111111111111111,\"#46039f\"],[0.2222222222222222,\"#7201a8\"],[0.3333333333333333,\"#9c179e\"],[0.4444444444444444,\"#bd3786\"],[0.5555555555555556,\"#d8576b\"],[0.6666666666666666,\"#ed7953\"],[0.7777777777777778,\"#fb9f3a\"],[0.8888888888888888,\"#fdca26\"],[1.0,\"#f0f921\"]]}],\"contourcarpet\":[{\"type\":\"contourcarpet\",\"colorbar\":{\"outlinewidth\":0,\"ticks\":\"\"}}],\"contour\":[{\"type\":\"contour\",\"colorbar\":{\"outlinewidth\":0,\"ticks\":\"\"},\"colorscale\":[[0.0,\"#0d0887\"],[0.1111111111111111,\"#46039f\"],[0.2222222222222222,\"#7201a8\"],[0.3333333333333333,\"#9c179e\"],[0.4444444444444444,\"#bd3786\"],[0.5555555555555556,\"#d8576b\"],[0.6666666666666666,\"#ed7953\"],[0.7777777777777778,\"#fb9f3a\"],[0.8888888888888888,\"#fdca26\"],[1.0,\"#f0f921\"]]}],\"surface\":[{\"type\":\"surface\",\"colorbar\":{\"outlinewidth\":0,\"ticks\":\"\"},\"colorscale\":[[0.0,\"#0d0887\"],[0.1111111111111111,\"#46039f\"],[0.2222222222222222,\"#7201a8\"],[0.3333333333333333,\"#9c179e\"],[0.4444444444444444,\"#bd3786\"],[0.5555555555555556,\"#d8576b\"],[0.6666666666666666,\"#ed7953\"],[0.7777777777777778,\"#fb9f3a\"],[0.8888888888888888,\"#fdca26\"],[1.0,\"#f0f921\"]]}],\"mesh3d\":[{\"type\":\"mesh3d\",\"colorbar\":{\"outlinewidth\":0,\"ticks\":\"\"}}],\"scatter\":[{\"fillpattern\":{\"fillmode\":\"overlay\",\"size\":10,\"solidity\":0.2},\"type\":\"scatter\"}],\"parcoords\":[{\"type\":\"parcoords\",\"line\":{\"colorbar\":{\"outlinewidth\":0,\"ticks\":\"\"}}}],\"scatterpolargl\":[{\"type\":\"scatterpolargl\",\"marker\":{\"colorbar\":{\"outlinewidth\":0,\"ticks\":\"\"}}}],\"bar\":[{\"error_x\":{\"color\":\"#2a3f5f\"},\"error_y\":{\"color\":\"#2a3f5f\"},\"marker\":{\"line\":{\"color\":\"#E5ECF6\",\"width\":0.5},\"pattern\":{\"fillmode\":\"overlay\",\"size\":10,\"solidity\":0.2}},\"type\":\"bar\"}],\"scattergeo\":[{\"type\":\"scattergeo\",\"marker\":{\"colorbar\":{\"outlinewidth\":0,\"ticks\":\"\"}}}],\"scatterpolar\":[{\"type\":\"scatterpolar\",\"marker\":{\"colorbar\":{\"outlinewidth\":0,\"ticks\":\"\"}}}],\"histogram\":[{\"marker\":{\"pattern\":{\"fillmode\":\"overlay\",\"size\":10,\"solidity\":0.2}},\"type\":\"histogram\"}],\"scattergl\":[{\"type\":\"scattergl\",\"marker\":{\"colorbar\":{\"outlinewidth\":0,\"ticks\":\"\"}}}],\"scatter3d\":[{\"type\":\"scatter3d\",\"line\":{\"colorbar\":{\"outlinewidth\":0,\"ticks\":\"\"}},\"marker\":{\"colorbar\":{\"outlinewidth\":0,\"ticks\":\"\"}}}],\"scattermapbox\":[{\"type\":\"scattermapbox\",\"marker\":{\"colorbar\":{\"outlinewidth\":0,\"ticks\":\"\"}}}],\"scatterternary\":[{\"type\":\"scatterternary\",\"marker\":{\"colorbar\":{\"outlinewidth\":0,\"ticks\":\"\"}}}],\"scattercarpet\":[{\"type\":\"scattercarpet\",\"marker\":{\"colorbar\":{\"outlinewidth\":0,\"ticks\":\"\"}}}],\"carpet\":[{\"aaxis\":{\"endlinecolor\":\"#2a3f5f\",\"gridcolor\":\"white\",\"linecolor\":\"white\",\"minorgridcolor\":\"white\",\"startlinecolor\":\"#2a3f5f\"},\"baxis\":{\"endlinecolor\":\"#2a3f5f\",\"gridcolor\":\"white\",\"linecolor\":\"white\",\"minorgridcolor\":\"white\",\"startlinecolor\":\"#2a3f5f\"},\"type\":\"carpet\"}],\"table\":[{\"cells\":{\"fill\":{\"color\":\"#EBF0F8\"},\"line\":{\"color\":\"white\"}},\"header\":{\"fill\":{\"color\":\"#C8D4E3\"},\"line\":{\"color\":\"white\"}},\"type\":\"table\"}],\"barpolar\":[{\"marker\":{\"line\":{\"color\":\"#E5ECF6\",\"width\":0.5},\"pattern\":{\"fillmode\":\"overlay\",\"size\":10,\"solidity\":0.2}},\"type\":\"barpolar\"}],\"pie\":[{\"automargin\":true,\"type\":\"pie\"}]},\"layout\":{\"autotypenumbers\":\"strict\",\"colorway\":[\"#636efa\",\"#EF553B\",\"#00cc96\",\"#ab63fa\",\"#FFA15A\",\"#19d3f3\",\"#FF6692\",\"#B6E880\",\"#FF97FF\",\"#FECB52\"],\"font\":{\"color\":\"#2a3f5f\"},\"hovermode\":\"closest\",\"hoverlabel\":{\"align\":\"left\"},\"paper_bgcolor\":\"white\",\"plot_bgcolor\":\"#E5ECF6\",\"polar\":{\"bgcolor\":\"#E5ECF6\",\"angularaxis\":{\"gridcolor\":\"white\",\"linecolor\":\"white\",\"ticks\":\"\"},\"radialaxis\":{\"gridcolor\":\"white\",\"linecolor\":\"white\",\"ticks\":\"\"}},\"ternary\":{\"bgcolor\":\"#E5ECF6\",\"aaxis\":{\"gridcolor\":\"white\",\"linecolor\":\"white\",\"ticks\":\"\"},\"baxis\":{\"gridcolor\":\"white\",\"linecolor\":\"white\",\"ticks\":\"\"},\"caxis\":{\"gridcolor\":\"white\",\"linecolor\":\"white\",\"ticks\":\"\"}},\"coloraxis\":{\"colorbar\":{\"outlinewidth\":0,\"ticks\":\"\"}},\"colorscale\":{\"sequential\":[[0.0,\"#0d0887\"],[0.1111111111111111,\"#46039f\"],[0.2222222222222222,\"#7201a8\"],[0.3333333333333333,\"#9c179e\"],[0.4444444444444444,\"#bd3786\"],[0.5555555555555556,\"#d8576b\"],[0.6666666666666666,\"#ed7953\"],[0.7777777777777778,\"#fb9f3a\"],[0.8888888888888888,\"#fdca26\"],[1.0,\"#f0f921\"]],\"sequentialminus\":[[0.0,\"#0d0887\"],[0.1111111111111111,\"#46039f\"],[0.2222222222222222,\"#7201a8\"],[0.3333333333333333,\"#9c179e\"],[0.4444444444444444,\"#bd3786\"],[0.5555555555555556,\"#d8576b\"],[0.6666666666666666,\"#ed7953\"],[0.7777777777777778,\"#fb9f3a\"],[0.8888888888888888,\"#fdca26\"],[1.0,\"#f0f921\"]],\"diverging\":[[0,\"#8e0152\"],[0.1,\"#c51b7d\"],[0.2,\"#de77ae\"],[0.3,\"#f1b6da\"],[0.4,\"#fde0ef\"],[0.5,\"#f7f7f7\"],[0.6,\"#e6f5d0\"],[0.7,\"#b8e186\"],[0.8,\"#7fbc41\"],[0.9,\"#4d9221\"],[1,\"#276419\"]]},\"xaxis\":{\"gridcolor\":\"white\",\"linecolor\":\"white\",\"ticks\":\"\",\"title\":{\"standoff\":15},\"zerolinecolor\":\"white\",\"automargin\":true,\"zerolinewidth\":2},\"yaxis\":{\"gridcolor\":\"white\",\"linecolor\":\"white\",\"ticks\":\"\",\"title\":{\"standoff\":15},\"zerolinecolor\":\"white\",\"automargin\":true,\"zerolinewidth\":2},\"scene\":{\"xaxis\":{\"backgroundcolor\":\"#E5ECF6\",\"gridcolor\":\"white\",\"linecolor\":\"white\",\"showbackground\":true,\"ticks\":\"\",\"zerolinecolor\":\"white\",\"gridwidth\":2},\"yaxis\":{\"backgroundcolor\":\"#E5ECF6\",\"gridcolor\":\"white\",\"linecolor\":\"white\",\"showbackground\":true,\"ticks\":\"\",\"zerolinecolor\":\"white\",\"gridwidth\":2},\"zaxis\":{\"backgroundcolor\":\"#E5ECF6\",\"gridcolor\":\"white\",\"linecolor\":\"white\",\"showbackground\":true,\"ticks\":\"\",\"zerolinecolor\":\"white\",\"gridwidth\":2}},\"shapedefaults\":{\"line\":{\"color\":\"#2a3f5f\"}},\"annotationdefaults\":{\"arrowcolor\":\"#2a3f5f\",\"arrowhead\":0,\"arrowwidth\":1},\"geo\":{\"bgcolor\":\"white\",\"landcolor\":\"#E5ECF6\",\"subunitcolor\":\"white\",\"showland\":true,\"showlakes\":true,\"lakecolor\":\"white\"},\"title\":{\"x\":0.05},\"mapbox\":{\"style\":\"light\"}}},\"xaxis\":{\"anchor\":\"y\",\"domain\":[0.0,1.0],\"scaleanchor\":\"y\",\"constrain\":\"domain\",\"title\":{\"text\":\"x\"}},\"yaxis\":{\"anchor\":\"x\",\"domain\":[0.0,1.0],\"autorange\":\"reversed\",\"constrain\":\"domain\",\"title\":{\"text\":\"y\"}},\"coloraxis\":{\"colorscale\":[[0.0,\"rgb(0, 128, 128)\"],[0.16666666666666666,\"rgb(112, 164, 148)\"],[0.3333333333333333,\"rgb(180, 200, 168)\"],[0.5,\"rgb(246, 237, 189)\"],[0.6666666666666666,\"rgb(237, 187, 138)\"],[0.8333333333333334,\"rgb(222, 138, 90)\"],[1.0,\"rgb(202, 86, 44)\"]],\"cmid\":0.0},\"title\":{\"text\":\"Black To Play. Board State After White Plays B3 \",\"x\":0.5},\"shapes\":[{\"fillcolor\":\"white\",\"type\":\"circle\",\"x0\":3.8,\"x1\":4.2,\"y0\":-0.2,\"y1\":0.2,\"line\":{\"color\":\"green\",\"width\":0.5}},{\"fillcolor\":\"white\",\"type\":\"circle\",\"x0\":2.75,\"x1\":3.25,\"y0\":0.75,\"y1\":1.25,\"line\":{\"color\":\"red\",\"width\":4}},{\"fillcolor\":\"white\",\"type\":\"circle\",\"x0\":3.8,\"x1\":4.2,\"y0\":0.8,\"y1\":1.2,\"line\":{\"color\":\"green\",\"width\":0.5}},{\"fillcolor\":\"white\",\"type\":\"circle\",\"x0\":4.8,\"x1\":5.2,\"y0\":0.8,\"y1\":1.2,\"line\":{\"color\":\"green\",\"width\":0.5}},{\"fillcolor\":\"black\",\"type\":\"circle\",\"x0\":6.8,\"x1\":7.2,\"y0\":0.8,\"y1\":1.2,\"line\":{\"color\":\"green\",\"width\":0.5}},{\"fillcolor\":\"black\",\"type\":\"circle\",\"x0\":0.8,\"x1\":1.2,\"y0\":1.8,\"y1\":2.2,\"line\":{\"color\":\"green\",\"width\":0.5}},{\"fillcolor\":\"black\",\"type\":\"circle\",\"x0\":1.8,\"x1\":2.2,\"y0\":1.8,\"y1\":2.2,\"line\":{\"color\":\"green\",\"width\":0.5}},{\"fillcolor\":\"white\",\"type\":\"circle\",\"x0\":2.78,\"x1\":3.22,\"y0\":1.78,\"y1\":2.22,\"line\":{\"color\":\"purple\",\"width\":3}},{\"fillcolor\":\"white\",\"type\":\"circle\",\"x0\":3.78,\"x1\":4.22,\"y0\":1.78,\"y1\":2.22,\"line\":{\"color\":\"purple\",\"width\":3}},{\"fillcolor\":\"black\",\"type\":\"circle\",\"x0\":4.8,\"x1\":5.2,\"y0\":1.8,\"y1\":2.2,\"line\":{\"color\":\"green\",\"width\":0.5}},{\"fillcolor\":\"black\",\"type\":\"circle\",\"x0\":5.8,\"x1\":6.2,\"y0\":1.8,\"y1\":2.2,\"line\":{\"color\":\"green\",\"width\":0.5}},{\"fillcolor\":\"white\",\"type\":\"circle\",\"x0\":2.8,\"x1\":3.2,\"y0\":2.8,\"y1\":3.2,\"line\":{\"color\":\"green\",\"width\":0.5}},{\"fillcolor\":\"white\",\"type\":\"circle\",\"x0\":3.8,\"x1\":4.2,\"y0\":2.8,\"y1\":3.2,\"line\":{\"color\":\"green\",\"width\":0.5}},{\"fillcolor\":\"white\",\"type\":\"circle\",\"x0\":4.8,\"x1\":5.2,\"y0\":2.8,\"y1\":3.2,\"line\":{\"color\":\"green\",\"width\":0.5}},{\"fillcolor\":\"white\",\"type\":\"circle\",\"x0\":5.8,\"x1\":6.2,\"y0\":2.8,\"y1\":3.2,\"line\":{\"color\":\"green\",\"width\":0.5}},{\"fillcolor\":\"white\",\"type\":\"circle\",\"x0\":6.8,\"x1\":7.2,\"y0\":2.8,\"y1\":3.2,\"line\":{\"color\":\"green\",\"width\":0.5}},{\"fillcolor\":\"black\",\"type\":\"circle\",\"x0\":1.8,\"x1\":2.2,\"y0\":3.8,\"y1\":4.2,\"line\":{\"color\":\"green\",\"width\":0.5}},{\"fillcolor\":\"white\",\"type\":\"circle\",\"x0\":2.8,\"x1\":3.2,\"y0\":3.8,\"y1\":4.2,\"line\":{\"color\":\"green\",\"width\":0.5}},{\"fillcolor\":\"white\",\"type\":\"circle\",\"x0\":3.8,\"x1\":4.2,\"y0\":3.8,\"y1\":4.2,\"line\":{\"color\":\"green\",\"width\":0.5}},{\"fillcolor\":\"white\",\"type\":\"circle\",\"x0\":4.8,\"x1\":5.2,\"y0\":3.8,\"y1\":4.2,\"line\":{\"color\":\"green\",\"width\":0.5}},{\"fillcolor\":\"white\",\"type\":\"circle\",\"x0\":6.8,\"x1\":7.2,\"y0\":3.8,\"y1\":4.2,\"line\":{\"color\":\"green\",\"width\":0.5}},{\"fillcolor\":\"black\",\"type\":\"circle\",\"x0\":0.8,\"x1\":1.2,\"y0\":4.8,\"y1\":5.2,\"line\":{\"color\":\"green\",\"width\":0.5}},{\"fillcolor\":\"black\",\"type\":\"circle\",\"x0\":1.8,\"x1\":2.2,\"y0\":4.8,\"y1\":5.2,\"line\":{\"color\":\"green\",\"width\":0.5}},{\"fillcolor\":\"black\",\"type\":\"circle\",\"x0\":2.8,\"x1\":3.2,\"y0\":4.8,\"y1\":5.2,\"line\":{\"color\":\"green\",\"width\":0.5}},{\"fillcolor\":\"black\",\"type\":\"circle\",\"x0\":3.8,\"x1\":4.2,\"y0\":4.8,\"y1\":5.2,\"line\":{\"color\":\"green\",\"width\":0.5}},{\"fillcolor\":\"white\",\"type\":\"circle\",\"x0\":4.8,\"x1\":5.2,\"y0\":4.8,\"y1\":5.2,\"line\":{\"color\":\"green\",\"width\":0.5}},{\"fillcolor\":\"white\",\"type\":\"circle\",\"x0\":5.8,\"x1\":6.2,\"y0\":4.8,\"y1\":5.2,\"line\":{\"color\":\"green\",\"width\":0.5}},{\"fillcolor\":\"white\",\"type\":\"circle\",\"x0\":1.8,\"x1\":2.2,\"y0\":5.8,\"y1\":6.2,\"line\":{\"color\":\"green\",\"width\":0.5}},{\"fillcolor\":\"white\",\"type\":\"circle\",\"x0\":2.8,\"x1\":3.2,\"y0\":5.8,\"y1\":6.2,\"line\":{\"color\":\"green\",\"width\":0.5}},{\"fillcolor\":\"white\",\"type\":\"circle\",\"x0\":3.8,\"x1\":4.2,\"y0\":5.8,\"y1\":6.2,\"line\":{\"color\":\"green\",\"width\":0.5}},{\"fillcolor\":\"white\",\"type\":\"circle\",\"x0\":4.8,\"x1\":5.2,\"y0\":5.8,\"y1\":6.2,\"line\":{\"color\":\"green\",\"width\":0.5}},{\"fillcolor\":\"black\",\"type\":\"circle\",\"x0\":6.8,\"x1\":7.2,\"y0\":5.8,\"y1\":6.2,\"line\":{\"color\":\"green\",\"width\":0.5}},{\"fillcolor\":\"white\",\"type\":\"circle\",\"x0\":0.8,\"x1\":1.2,\"y0\":6.8,\"y1\":7.2,\"line\":{\"color\":\"green\",\"width\":0.5}},{\"fillcolor\":\"white\",\"type\":\"circle\",\"x0\":4.8,\"x1\":5.2,\"y0\":6.8,\"y1\":7.2,\"line\":{\"color\":\"green\",\"width\":0.5}}]},                        {\"responsive\": true}                    ).then(function(){\n",
       "                            \n",
       "var gd = document.getElementById('a415633e-5c0e-4e68-944e-c7a11c111667');\n",
       "var x = new MutationObserver(function (mutations, observer) {{\n",
       "        var display = window.getComputedStyle(gd).display;\n",
       "        if (!display || display === 'none') {{\n",
       "            console.log([gd, 'removed!']);\n",
       "            Plotly.purge(gd);\n",
       "            observer.disconnect();\n",
       "        }}\n",
       "}});\n",
       "\n",
       "// Listen for the removal of the full notebook cells\n",
       "var notebookContainer = gd.closest('#notebook-container');\n",
       "if (notebookContainer) {{\n",
       "    x.observe(notebookContainer, {childList: true});\n",
       "}}\n",
       "\n",
       "// Listen for the clearing of the current output cell\n",
       "var outputEl = gd.closest('.output');\n",
       "if (outputEl) {{\n",
       "    x.observe(outputEl, {childList: true});\n",
       "}}\n",
       "\n",
       "                        })                };                });            </script>        </div>"
      ]
     },
     "metadata": {},
     "output_type": "display_data"
    }
   ],
   "source": [
    "plot_single_board(int_to_label(moves_int))"
   ]
  },
  {
   "cell_type": "code",
   "execution_count": 30,
   "id": "0ca30f01",
   "metadata": {},
   "outputs": [
    {
     "name": "stdout",
     "output_type": "stream",
     "text": [
      "Valid moves: ['A3', 'A5', 'A6', 'B2', 'C7', 'D2', 'E6', 'F7', 'G6', 'H2', 'H3', 'H4', 'H6']\n"
     ]
    }
   ],
   "source": [
    "print(\"Valid moves:\", string_to_label(board.get_valid_moves()))"
   ]
  },
  {
   "cell_type": "code",
   "execution_count": 31,
   "id": "f776db15",
   "metadata": {},
   "outputs": [],
   "source": [
    "num_games = 50\n",
    "focus_games_int = board_seqs_int[:num_games]\n",
    "focus_games_string = board_seqs_string[:num_games]"
   ]
  },
  {
   "cell_type": "code",
   "execution_count": 32,
   "id": "5cda6584",
   "metadata": {},
   "outputs": [
    {
     "name": "stdout",
     "output_type": "stream",
     "text": [
      "focus states: (50, 60, 8, 8)\n",
      "focus_valid_moves torch.Size([50, 60, 64])\n"
     ]
    }
   ],
   "source": [
    "def one_hot(list_of_ints, num_classes=64):\n",
    "    out = torch.zeros((num_classes,), dtype=torch.float32)\n",
    "    out[list_of_ints] = 1.\n",
    "    return out\n",
    "focus_states = np.zeros((num_games, 60, 8, 8), dtype=np.float32)\n",
    "focus_valid_moves = torch.zeros((num_games, 60, 64), dtype=torch.float32)\n",
    "for i in (range(num_games)):\n",
    "    board = OthelloBoardState()\n",
    "    for j in range(60):\n",
    "        board.umpire(focus_games_string[i, j].item())\n",
    "        focus_states[i, j] = board.state\n",
    "        focus_valid_moves[i, j] = one_hot(board.get_valid_moves())\n",
    "print(\"focus states:\", focus_states.shape)\n",
    "print(\"focus_valid_moves\", focus_valid_moves.shape)\n"
   ]
  },
  {
   "cell_type": "code",
   "execution_count": 33,
   "id": "7f012863",
   "metadata": {},
   "outputs": [
    {
     "data": {
      "text/plain": [
       "torch.Size([60])"
      ]
     },
     "execution_count": 33,
     "metadata": {},
     "output_type": "execute_result"
    }
   ],
   "source": [
    "focus_games_int[0, :].shape"
   ]
  },
  {
   "cell_type": "code",
   "execution_count": 34,
   "id": "41049fc1",
   "metadata": {},
   "outputs": [],
   "source": [
    "moves = 25\n",
    "sample_game = focus_games_int[0, :moves+1]\n",
    "focus_logits, focus_cache = model.run_with_cache(sample_game)"
   ]
  },
  {
   "cell_type": "code",
   "execution_count": 37,
   "id": "836edd58",
   "metadata": {},
   "outputs": [
    {
     "name": "stdout",
     "output_type": "stream",
     "text": [
      "<class 'transformer_lens.ActivationCache.ActivationCache'>\n",
      "torch.Size([1, 8, 26, 26])\n"
     ]
    }
   ],
   "source": [
    "print(type(focus_cache))\n",
    "attention_pattern = focus_cache[\"pattern\", 0, \"attn\"]\n",
    "print(attention_pattern.shape)"
   ]
  },
  {
   "cell_type": "code",
   "execution_count": 38,
   "id": "6a214405",
   "metadata": {
    "scrolled": true
   },
   "outputs": [
    {
     "data": {
      "text/html": [
       "<div id=\"circuits-vis-8b5fa1c4-6ed7\" style=\"margin: 15px 0;\"/>\n",
       "    <script crossorigin type=\"module\">\n",
       "    import { render, AttentionPatterns } from \"https://unpkg.com/circuitsvis@1.39.1/dist/cdn/esm.js\";\n",
       "    render(\n",
       "      \"circuits-vis-8b5fa1c4-6ed7\",\n",
       "      AttentionPatterns,\n",
       "      {\"tokens\": [\"C4\", \"C5\", \"D4\", \"C7\", \"B5\", \"A5\", \"E2\", \"C3\", \"C0\", \"F3\", \"B6\", \"D6\", \"C6\", \"F0\", \"F7\", \"G0\", \"E1\", \"G6\", \"G4\", \"F2\", \"F1\", \"G1\", \"G2\", \"E7\", \"D5\", \"H2\"], \"attention\": [[[1.0, 0.0, 0.0, 0.0, 0.0, 0.0, 0.0, 0.0, 0.0, 0.0, 0.0, 0.0, 0.0, 0.0, 0.0, 0.0, 0.0, 0.0, 0.0, 0.0, 0.0, 0.0, 0.0, 0.0, 0.0, 0.0], [0.9914441704750061, 0.008555825799703598, 0.0, 0.0, 0.0, 0.0, 0.0, 0.0, 0.0, 0.0, 0.0, 0.0, 0.0, 0.0, 0.0, 0.0, 0.0, 0.0, 0.0, 0.0, 0.0, 0.0, 0.0, 0.0, 0.0, 0.0], [0.7901946902275085, 0.18245437741279602, 0.027350924909114838, 0.0, 0.0, 0.0, 0.0, 0.0, 0.0, 0.0, 0.0, 0.0, 0.0, 0.0, 0.0, 0.0, 0.0, 0.0, 0.0, 0.0, 0.0, 0.0, 0.0, 0.0, 0.0, 0.0], [0.698142945766449, 0.011863766238093376, 0.270255446434021, 0.019737854599952698, 0.0, 0.0, 0.0, 0.0, 0.0, 0.0, 0.0, 0.0, 0.0, 0.0, 0.0, 0.0, 0.0, 0.0, 0.0, 0.0, 0.0, 0.0, 0.0, 0.0, 0.0, 0.0], [0.6590772867202759, 0.13568119704723358, 0.00574481999501586, 0.19654975831508636, 0.00294696306809783, 0.0, 0.0, 0.0, 0.0, 0.0, 0.0, 0.0, 0.0, 0.0, 0.0, 0.0, 0.0, 0.0, 0.0, 0.0, 0.0, 0.0, 0.0, 0.0, 0.0, 0.0], [0.6470920443534851, 0.004428802989423275, 0.10344621539115906, 0.004908857401460409, 0.23839908838272095, 0.0017250101082026958, 0.0, 0.0, 0.0, 0.0, 0.0, 0.0, 0.0, 0.0, 0.0, 0.0, 0.0, 0.0, 0.0, 0.0, 0.0, 0.0, 0.0, 0.0, 0.0, 0.0], [0.5138364434242249, 0.13724713027477264, 0.003500663209706545, 0.2104581892490387, 0.0008883535047061741, 0.1337185502052307, 0.0003505906497593969, 0.0, 0.0, 0.0, 0.0, 0.0, 0.0, 0.0, 0.0, 0.0, 0.0, 0.0, 0.0, 0.0, 0.0, 0.0, 0.0, 0.0, 0.0, 0.0], [0.4308309257030487, 0.006106607615947723, 0.12098418921232224, 0.004345956724137068, 0.19355301558971405, 0.0009344610152766109, 0.24258922040462494, 0.0006556077278219163, 0.0, 0.0, 0.0, 0.0, 0.0, 0.0, 0.0, 0.0, 0.0, 0.0, 0.0, 0.0, 0.0, 0.0, 0.0, 0.0, 0.0, 0.0], [0.5251262187957764, 0.09666334092617035, 0.001877852831967175, 0.15098394453525543, 0.000559844309464097, 0.12765900790691376, 0.00015952739340718836, 0.09683119505643845, 0.00013910935376770794, 0.0, 0.0, 0.0, 0.0, 0.0, 0.0, 0.0, 0.0, 0.0, 0.0, 0.0, 0.0, 0.0, 0.0, 0.0, 0.0, 0.0], [0.3881361782550812, 0.007933263666927814, 0.1218201220035553, 0.004749857354909182, 0.14617927372455597, 0.0005551864160224795, 0.19117476046085358, 0.0004509120772127062, 0.1387035846710205, 0.00029690939118154347, 0.0, 0.0, 0.0, 0.0, 0.0, 0.0, 0.0, 0.0, 0.0, 0.0, 0.0, 0.0, 0.0, 0.0, 0.0, 0.0], [0.3178431987762451, 0.11762270331382751, 0.0027311069425195456, 0.17836177349090576, 0.0008501617703586817, 0.16886314749717712, 0.00021316942002158612, 0.10783640295267105, 0.0001793743867892772, 0.10531651973724365, 0.00018246463150717318, 0.0, 0.0, 0.0, 0.0, 0.0, 0.0, 0.0, 0.0, 0.0, 0.0, 0.0, 0.0, 0.0, 0.0, 0.0], [0.3372664451599121, 0.00569255743175745, 0.09085334837436676, 0.005133880767971277, 0.107374407351017, 0.0005686911172233522, 0.15284205973148346, 0.000364484527381137, 0.17057310044765472, 0.00019708272884599864, 0.1288648247718811, 0.00026905228151008487, 0.0, 0.0, 0.0, 0.0, 0.0, 0.0, 0.0, 0.0, 0.0, 0.0, 0.0, 0.0, 0.0, 0.0], [0.309276282787323, 0.09530597180128098, 0.0028311931528151035, 0.16470789909362793, 0.0007294921670109034, 0.1094423457980156, 0.00019106024410575628, 0.11158227175474167, 0.00014928483869880438, 0.09256438910961151, 0.00020428630523383617, 0.1128939762711525, 0.00012160417827544734, 0.0, 0.0, 0.0, 0.0, 0.0, 0.0, 0.0, 0.0, 0.0, 0.0, 0.0, 0.0, 0.0], [0.24667352437973022, 0.010218366980552673, 0.11227873712778091, 0.004995253402739763, 0.11380013078451157, 0.0006921637104824185, 0.16130229830741882, 0.0007096842746250331, 0.1145094484090805, 0.00040874636033549905, 0.11554629355669022, 0.00027487141778692603, 0.11806998401880264, 0.0005204726476222277, 0.0, 0.0, 0.0, 0.0, 0.0, 0.0, 0.0, 0.0, 0.0, 0.0, 0.0, 0.0], [0.33890050649642944, 0.09026195108890533, 0.0026198341511189938, 0.12002770602703094, 0.0005621445016004145, 0.078971728682518, 0.00021918956190347672, 0.10344954580068588, 0.00012207940744701773, 0.09220119565725327, 0.0001308124337811023, 0.08393893390893936, 0.00011321272904751822, 0.08827660977840424, 0.00020454693003557622, 0.0, 0.0, 0.0, 0.0, 0.0, 0.0, 0.0, 0.0, 0.0, 0.0, 0.0], [0.31832990050315857, 0.007041702512651682, 0.07800222188234329, 0.0031094003934413195, 0.07588748633861542, 0.0003997986495960504, 0.11121981590986252, 0.0003298496303614229, 0.07851289212703705, 0.00017540197586640716, 0.08838500082492828, 0.00013517288607545197, 0.08692999929189682, 0.0002665823558345437, 0.15105068683624268, 0.0002241407783003524, 0.0, 0.0, 0.0, 0.0, 0.0, 0.0, 0.0, 0.0, 0.0, 0.0], [0.2518962621688843, 0.07780850678682327, 0.0039372192695736885, 0.09701910614967346, 0.0012201427016407251, 0.08157992362976074, 0.000374207942513749, 0.09007083624601364, 0.00019268435426056385, 0.09597323834896088, 0.0003111789410468191, 0.08661603182554245, 0.00020885052799712867, 0.09502015262842178, 0.0003240489459130913, 0.11710906028747559, 0.0003385026357136667, 0.0, 0.0, 0.0, 0.0, 0.0, 0.0, 0.0, 0.0, 0.0], [0.33469074964523315, 0.007047357503324747, 0.0681549608707428, 0.0032553665805608034, 0.06182818114757538, 0.00033774852636270225, 0.10751398652791977, 0.0002304185036337003, 0.06883841007947922, 0.00010040008055511862, 0.07574880868196487, 9.232050797436386e-05, 0.08160542696714401, 0.0001590419269632548, 0.12556292116641998, 0.00013829863746650517, 0.0645604208111763, 0.00013515101454686373, 0.0, 0.0, 0.0, 0.0, 0.0, 0.0, 0.0, 0.0], [0.2933298945426941, 0.0487724132835865, 0.0017716739093884826, 0.06991081684827805, 0.0004301285371184349, 0.06467253714799881, 0.00015733334294054657, 0.06265147775411606, 0.00013388168008532375, 0.10624811798334122, 8.951556083047763e-05, 0.13089805841445923, 8.111023635137826e-05, 0.05676235258579254, 9.302527905674651e-05, 0.08183788508176804, 0.00010851916886167601, 0.08191622048616409, 0.00013502789079211652, 0.0, 0.0, 0.0, 0.0, 0.0, 0.0, 0.0], [0.20258024334907532, 0.010596998035907745, 0.06556323915719986, 0.005066573619842529, 0.06575300544500351, 0.0005777248297818005, 0.07833953201770782, 0.00039767855196259916, 0.08976420015096664, 0.00031584245152771473, 0.08885807543992996, 0.00022490439005196095, 0.09635722637176514, 0.0002936357050202787, 0.10203346610069275, 0.00023746641818434, 0.07000645250082016, 0.00015725537377875298, 0.12268403172492981, 0.00019244338909629732, 0.0, 0.0, 0.0, 0.0, 0.0, 0.0], [0.19536137580871582, 0.0547364167869091, 0.0021734265610575676, 0.07268006354570389, 0.0007411075639538467, 0.05798419192433357, 0.00028148028650321066, 0.07180390506982803, 0.00012468767818063498, 0.07927964627742767, 0.00017991337517742068, 0.08675634115934372, 0.00016928388504311442, 0.07076199352741241, 0.00018572242697700858, 0.12088600546121597, 0.00022074359003454447, 0.0825866311788559, 0.0001794294803403318, 0.10265342146158218, 0.0002542644797358662, 0.0, 0.0, 0.0, 0.0, 0.0], [0.21348068118095398, 0.010161611251533031, 0.05465194582939148, 0.004572711419314146, 0.0676608681678772, 0.00047984180855564773, 0.07903655618429184, 0.0003127951640635729, 0.06400929391384125, 0.0002251477853860706, 0.07123289257287979, 0.00018028354679699987, 0.06934305280447006, 0.00027865960146300495, 0.07795083522796631, 0.0002477485395502299, 0.0685672014951706, 0.00016837961447890848, 0.10334993153810501, 0.00021959564764983952, 0.11360252648591995, 0.0002673989220056683, 0.0, 0.0, 0.0, 0.0], [0.22210662066936493, 0.05452749505639076, 0.002578441984951496, 0.06674307584762573, 0.0005501134437508881, 0.051668327301740646, 0.000211457721889019, 0.05525923892855644, 0.00010229001782136038, 0.0798843577504158, 0.00015990751853678375, 0.0685623437166214, 0.00013007581583224237, 0.053954269737005234, 0.0001375492283841595, 0.06546343117952347, 0.00016519679047632962, 0.08416343480348587, 0.00015227365656755865, 0.0886722058057785, 0.000176148401806131, 0.10449796915054321, 0.0001337990688625723, 0.0, 0.0, 0.0], [0.16174380481243134, 0.016711173579096794, 0.05727997422218323, 0.005066970828920603, 0.056011639535427094, 0.0006212806911207736, 0.06725271046161652, 0.0004335029807407409, 0.04882656782865524, 0.00027160695753991604, 0.057319965213537216, 0.00019913694995921105, 0.07146603614091873, 0.0004151150060351938, 0.11956968903541565, 0.0003338360693305731, 0.0760369822382927, 0.00024928394122980535, 0.07343997806310654, 0.000263725669356063, 0.0983792245388031, 0.00036333451862446964, 0.08740071952342987, 0.0003438329149503261, 0.0, 0.0], [0.1874925047159195, 0.050944697111845016, 0.003796004457399249, 0.08637285232543945, 0.0008891233010217547, 0.0674637034535408, 0.0003567696548998356, 0.05940067023038864, 0.00027639084146358073, 0.06535451114177704, 0.0002299413172295317, 0.11245452612638474, 0.00026249518850818276, 0.04975292086601257, 0.00015680576325394213, 0.060910046100616455, 0.00024295516777783632, 0.052935417741537094, 0.00023650252842344344, 0.07290631532669067, 0.0002774281892925501, 0.07369372248649597, 0.00018624828953761607, 0.053063612431287766, 0.0003438022977206856, 0.0], [0.21306279301643372, 0.009244532324373722, 0.04286498203873634, 0.004004700109362602, 0.04843251034617424, 0.0004216493107378483, 0.07139207422733307, 0.000226089425268583, 0.054296717047691345, 0.00016694175428710878, 0.0641719251871109, 0.00013390106323640794, 0.06428950279951096, 0.00020199434948153794, 0.06970050185918808, 0.00016396828868892044, 0.05298328399658203, 0.00014797755284234881, 0.08388820290565491, 0.00012151597911724821, 0.07377380132675171, 0.00019957176118623465, 0.0965941771864891, 0.00013129677972756326, 0.04912464693188667, 0.00026071121101267636]], [[1.0, 0.0, 0.0, 0.0, 0.0, 0.0, 0.0, 0.0, 0.0, 0.0, 0.0, 0.0, 0.0, 0.0, 0.0, 0.0, 0.0, 0.0, 0.0, 0.0, 0.0, 0.0, 0.0, 0.0, 0.0, 0.0], [0.5560745596885681, 0.4439254701137543, 0.0, 0.0, 0.0, 0.0, 0.0, 0.0, 0.0, 0.0, 0.0, 0.0, 0.0, 0.0, 0.0, 0.0, 0.0, 0.0, 0.0, 0.0, 0.0, 0.0, 0.0, 0.0, 0.0, 0.0], [0.32592320442199707, 0.3458574116230011, 0.32821935415267944, 0.0, 0.0, 0.0, 0.0, 0.0, 0.0, 0.0, 0.0, 0.0, 0.0, 0.0, 0.0, 0.0, 0.0, 0.0, 0.0, 0.0, 0.0, 0.0, 0.0, 0.0, 0.0, 0.0], [0.269228994846344, 0.37115052342414856, 0.3431539237499237, 0.016466578468680382, 0.0, 0.0, 0.0, 0.0, 0.0, 0.0, 0.0, 0.0, 0.0, 0.0, 0.0, 0.0, 0.0, 0.0, 0.0, 0.0, 0.0, 0.0, 0.0, 0.0, 0.0, 0.0], [0.32896047830581665, 0.4410390555858612, 0.19865131378173828, 0.016947170719504356, 0.01440199464559555, 0.0, 0.0, 0.0, 0.0, 0.0, 0.0, 0.0, 0.0, 0.0, 0.0, 0.0, 0.0, 0.0, 0.0, 0.0, 0.0, 0.0, 0.0, 0.0, 0.0, 0.0], [0.12479104846715927, 0.5518918633460999, 0.23143832385540009, 0.02707424946129322, 0.02980652265250683, 0.03499811142683029, 0.0, 0.0, 0.0, 0.0, 0.0, 0.0, 0.0, 0.0, 0.0, 0.0, 0.0, 0.0, 0.0, 0.0, 0.0, 0.0, 0.0, 0.0, 0.0, 0.0], [0.24366828799247742, 0.40358197689056396, 0.23269039392471313, 0.01699763350188732, 0.01926920749247074, 0.01970144547522068, 0.06409104913473129, 0.0, 0.0, 0.0, 0.0, 0.0, 0.0, 0.0, 0.0, 0.0, 0.0, 0.0, 0.0, 0.0, 0.0, 0.0, 0.0, 0.0, 0.0, 0.0], [0.2661827504634857, 0.348368376493454, 0.20003047585487366, 0.025258082896471024, 0.014571666717529297, 0.049300339072942734, 0.05084245651960373, 0.04544582962989807, 0.0, 0.0, 0.0, 0.0, 0.0, 0.0, 0.0, 0.0, 0.0, 0.0, 0.0, 0.0, 0.0, 0.0, 0.0, 0.0, 0.0, 0.0], [0.06261429935693741, 0.36101868748664856, 0.3921588957309723, 0.03998256474733353, 0.029594577848911285, 0.028373926877975464, 0.04832706227898598, 0.02934282086789608, 0.008587256073951721, 0.0, 0.0, 0.0, 0.0, 0.0, 0.0, 0.0, 0.0, 0.0, 0.0, 0.0, 0.0, 0.0, 0.0, 0.0, 0.0, 0.0], [0.3815547227859497, 0.19661766290664673, 0.1599414348602295, 0.03396992012858391, 0.020108619704842567, 0.017630282789468765, 0.10734380036592484, 0.03420292213559151, 0.01202407293021679, 0.036606620997190475, 0.0, 0.0, 0.0, 0.0, 0.0, 0.0, 0.0, 0.0, 0.0, 0.0, 0.0, 0.0, 0.0, 0.0, 0.0, 0.0], [0.15426908433437347, 0.31493979692459106, 0.25398674607276917, 0.033616796135902405, 0.0348866805434227, 0.03811127692461014, 0.07098553329706192, 0.03854596987366676, 0.01896980218589306, 0.01919165626168251, 0.022496670484542847, 0.0, 0.0, 0.0, 0.0, 0.0, 0.0, 0.0, 0.0, 0.0, 0.0, 0.0, 0.0, 0.0, 0.0, 0.0], [0.13923797011375427, 0.22046001255512238, 0.3656042218208313, 0.035544320940971375, 0.021627278998494148, 0.0336892269551754, 0.060843147337436676, 0.03101840429008007, 0.024921849370002747, 0.022439271211624146, 0.027070708572864532, 0.017543571069836617, 0.0, 0.0, 0.0, 0.0, 0.0, 0.0, 0.0, 0.0, 0.0, 0.0, 0.0, 0.0, 0.0, 0.0], [0.2716381251811981, 0.2770742177963257, 0.18865549564361572, 0.023974932730197906, 0.027428993955254555, 0.03103586472570896, 0.06968123465776443, 0.041047804057598114, 0.011202841065824032, 0.01751711219549179, 0.011404573917388916, 0.014031999744474888, 0.015306753106415272, 0.0, 0.0, 0.0, 0.0, 0.0, 0.0, 0.0, 0.0, 0.0, 0.0, 0.0, 0.0, 0.0], [0.23158638179302216, 0.1283329874277115, 0.23351837694644928, 0.033739592880010605, 0.01881481520831585, 0.020257405936717987, 0.06468771398067474, 0.02913844771683216, 0.020940158516168594, 0.032347626984119415, 0.011930434964597225, 0.013813214376568794, 0.015015656128525734, 0.14587713778018951, 0.0, 0.0, 0.0, 0.0, 0.0, 0.0, 0.0, 0.0, 0.0, 0.0, 0.0, 0.0], [0.1833268254995346, 0.18675833940505981, 0.16709735989570618, 0.0376068539917469, 0.01945258490741253, 0.015821140259504318, 0.05432283133268356, 0.05982455238699913, 0.01647612452507019, 0.01276214700192213, 0.009901474229991436, 0.011602465994656086, 0.015215466730296612, 0.1906602531671524, 0.0191715806722641, 0.0, 0.0, 0.0, 0.0, 0.0, 0.0, 0.0, 0.0, 0.0, 0.0, 0.0], [0.28001338243484497, 0.1421351432800293, 0.138545960187912, 0.02396993339061737, 0.01933087408542633, 0.015436098910868168, 0.08370508998632431, 0.024677699431777, 0.014433461241424084, 0.02004076912999153, 0.013254186138510704, 0.015361109748482704, 0.0180892925709486, 0.144295334815979, 0.027669696137309074, 0.019042005762457848, 0.0, 0.0, 0.0, 0.0, 0.0, 0.0, 0.0, 0.0, 0.0, 0.0], [0.16394145786762238, 0.18686503171920776, 0.11587037891149521, 0.01749187335371971, 0.014323626644909382, 0.014592863619327545, 0.05960604175925255, 0.06382494419813156, 0.009112494997680187, 0.015859046950936317, 0.0264348853379488, 0.013471785001456738, 0.01731187291443348, 0.09857551753520966, 0.02918672002851963, 0.01733372174203396, 0.13619773089885712, 0.0, 0.0, 0.0, 0.0, 0.0, 0.0, 0.0, 0.0, 0.0], [0.0398477204144001, 0.12001889944076538, 0.14005732536315918, 0.029881995171308517, 0.018461162224411964, 0.017797645181417465, 0.04301241785287857, 0.03464921936392784, 0.017363615334033966, 0.017182540148496628, 0.014627400785684586, 0.015234086662530899, 0.016666976734995842, 0.2315310537815094, 0.03731946647167206, 0.02312023937702179, 0.1552065759897232, 0.028021663427352905, 0.0, 0.0, 0.0, 0.0, 0.0, 0.0, 0.0, 0.0], [0.2816080152988434, 0.09703570604324341, 0.07890795916318893, 0.023347092792391777, 0.02181478589773178, 0.015280756168067455, 0.08712441474199295, 0.029027599841356277, 0.023117920383810997, 0.0475509837269783, 0.017250828444957733, 0.03875512629747391, 0.01926528289914131, 0.056284572929143906, 0.02862623706459999, 0.039217814803123474, 0.059679094702005386, 0.020275099202990532, 0.01583082228899002, 0.0, 0.0, 0.0, 0.0, 0.0, 0.0, 0.0], [0.18668141961097717, 0.11276190727949142, 0.1326543390750885, 0.015054728835821152, 0.016760725528001785, 0.016619576141238213, 0.07035082578659058, 0.04671970754861832, 0.01373189128935337, 0.021922310814261436, 0.028137030079960823, 0.026838766410946846, 0.025871843099594116, 0.1252615600824356, 0.009410928934812546, 0.012259251438081264, 0.07844201475381851, 0.0161434318870306, 0.011158030480146408, 0.033219724893569946, 0.0, 0.0, 0.0, 0.0, 0.0, 0.0], [0.2005373239517212, 0.14970983564853668, 0.07552902400493622, 0.02278938516974449, 0.02802351675927639, 0.01578722894191742, 0.05857682228088379, 0.03722771629691124, 0.013589777052402496, 0.043152134865522385, 0.01297371182590723, 0.012523110024631023, 0.020324328914284706, 0.09402301907539368, 0.01309062447398901, 0.02166871167719364, 0.07709081470966339, 0.01930127665400505, 0.012037052772939205, 0.03079005889594555, 0.041254449635744095, 0.0, 0.0, 0.0, 0.0, 0.0], [0.19054244458675385, 0.1011958047747612, 0.07895226776599884, 0.01681327447295189, 0.026565954089164734, 0.013689326122403145, 0.057174354791641235, 0.03777717798948288, 0.012142898514866829, 0.018251480534672737, 0.011353621259331703, 0.02006569132208824, 0.016162153333425522, 0.08076313138008118, 0.03158180043101311, 0.032420553267002106, 0.12204067409038544, 0.016817128285765648, 0.0194223802536726, 0.03186114504933357, 0.0475400872528553, 0.016866637393832207, 0.0, 0.0, 0.0, 0.0], [0.22027289867401123, 0.07974310219287872, 0.09382223337888718, 0.014111306518316269, 0.016604304313659668, 0.011365655809640884, 0.06317281723022461, 0.025553356856107712, 0.012262248434126377, 0.03221144899725914, 0.023909471929073334, 0.015039087273180485, 0.023793447762727737, 0.05215834826231003, 0.026803316548466682, 0.041951220482587814, 0.05914938449859619, 0.017332881689071655, 0.024255121126770973, 0.050276901572942734, 0.04641006886959076, 0.03563852980732918, 0.014162790961563587, 0.0, 0.0, 0.0], [0.19654163718223572, 0.0765955001115799, 0.0630490630865097, 0.016901854425668716, 0.014584636315703392, 0.008802770636975765, 0.05012041702866554, 0.04320539906620979, 0.016316385939717293, 0.03163475543260574, 0.011872492730617523, 0.011297991499304771, 0.0298016220331192, 0.11209776997566223, 0.02079566940665245, 0.021958867087960243, 0.12543779611587524, 0.01388258021324873, 0.011836329475045204, 0.02983018569648266, 0.049049217253923416, 0.010903635993599892, 0.012232441455125809, 0.0212510097771883, 0.0, 0.0], [0.22276532649993896, 0.0808071419596672, 0.1084231436252594, 0.03324929624795914, 0.04057982563972473, 0.015258340165019035, 0.060098860412836075, 0.02129456028342247, 0.014217034913599491, 0.04652518779039383, 0.014474114403128624, 0.022985216230154037, 0.028254786506295204, 0.04622162505984306, 0.014120341278612614, 0.028729645535349846, 0.047546204179525375, 0.015862975269556046, 0.012844391167163849, 0.01954829879105091, 0.046790242195129395, 0.013916653580963612, 0.014537764713168144, 0.01611129380762577, 0.014837649650871754, 0.0], [0.11917506158351898, 0.04779146984219551, 0.06905131042003632, 0.014205186627805233, 0.018170377239584923, 0.011774006299674511, 0.06908921897411346, 0.030264120548963547, 0.017619527876377106, 0.016982605680823326, 0.023927584290504456, 0.016205525025725365, 0.029135460034012794, 0.13364845514297485, 0.01744697242975235, 0.02142377384006977, 0.08202667534351349, 0.030769016593694687, 0.018371082842350006, 0.049529097974300385, 0.040055759251117706, 0.037467170506715775, 0.03854205459356308, 0.014885594137012959, 0.01530542504042387, 0.017137425020337105]], [[1.0, 0.0, 0.0, 0.0, 0.0, 0.0, 0.0, 0.0, 0.0, 0.0, 0.0, 0.0, 0.0, 0.0, 0.0, 0.0, 0.0, 0.0, 0.0, 0.0, 0.0, 0.0, 0.0, 0.0, 0.0, 0.0], [0.9687361717224121, 0.031263865530490875, 0.0, 0.0, 0.0, 0.0, 0.0, 0.0, 0.0, 0.0, 0.0, 0.0, 0.0, 0.0, 0.0, 0.0, 0.0, 0.0, 0.0, 0.0, 0.0, 0.0, 0.0, 0.0, 0.0, 0.0], [0.3810783624649048, 0.5379297137260437, 0.08099191635847092, 0.0, 0.0, 0.0, 0.0, 0.0, 0.0, 0.0, 0.0, 0.0, 0.0, 0.0, 0.0, 0.0, 0.0, 0.0, 0.0, 0.0, 0.0, 0.0, 0.0, 0.0, 0.0, 0.0], [0.5392996072769165, 0.016431670635938644, 0.42252984642982483, 0.02173888310790062, 0.0, 0.0, 0.0, 0.0, 0.0, 0.0, 0.0, 0.0, 0.0, 0.0, 0.0, 0.0, 0.0, 0.0, 0.0, 0.0, 0.0, 0.0, 0.0, 0.0, 0.0, 0.0], [0.22171446681022644, 0.3077918589115143, 0.02389155887067318, 0.43579384684562683, 0.01080821081995964, 0.0, 0.0, 0.0, 0.0, 0.0, 0.0, 0.0, 0.0, 0.0, 0.0, 0.0, 0.0, 0.0, 0.0, 0.0, 0.0, 0.0, 0.0, 0.0, 0.0, 0.0], [0.38657063245773315, 0.005699245259165764, 0.1317572295665741, 0.004743685480207205, 0.4692244529724121, 0.0020047780126333237, 0.0, 0.0, 0.0, 0.0, 0.0, 0.0, 0.0, 0.0, 0.0, 0.0, 0.0, 0.0, 0.0, 0.0, 0.0, 0.0, 0.0, 0.0, 0.0, 0.0], [0.14058762788772583, 0.14502808451652527, 0.0071514020673930645, 0.24302607774734497, 0.002937388140708208, 0.45840373635292053, 0.0028657270595431328, 0.0, 0.0, 0.0, 0.0, 0.0, 0.0, 0.0, 0.0, 0.0, 0.0, 0.0, 0.0, 0.0, 0.0, 0.0, 0.0, 0.0, 0.0, 0.0], [0.31195956468582153, 0.0048419758677482605, 0.06416647136211395, 0.0030709332786500454, 0.144999697804451, 0.0007576013449579477, 0.46906372904777527, 0.0011400189250707626, 0.0, 0.0, 0.0, 0.0, 0.0, 0.0, 0.0, 0.0, 0.0, 0.0, 0.0, 0.0, 0.0, 0.0, 0.0, 0.0, 0.0, 0.0], [0.15238982439041138, 0.09181801974773407, 0.003949467092752457, 0.14678463339805603, 0.0010747272754088044, 0.18290242552757263, 0.0009739529341459274, 0.41958504915237427, 0.0005218307487666607, 0.0, 0.0, 0.0, 0.0, 0.0, 0.0, 0.0, 0.0, 0.0, 0.0, 0.0, 0.0, 0.0, 0.0, 0.0, 0.0, 0.0], [0.3096567392349243, 0.0037292325869202614, 0.04653586819767952, 0.0017556225648149848, 0.07579000294208527, 0.00034154896275140345, 0.25313544273376465, 0.0005360168288461864, 0.30796876549720764, 0.0005508006433956325, 0.0, 0.0, 0.0, 0.0, 0.0, 0.0, 0.0, 0.0, 0.0, 0.0, 0.0, 0.0, 0.0, 0.0, 0.0, 0.0], [0.1488640010356903, 0.07466459274291992, 0.004095809068530798, 0.07140537351369858, 0.0010212797205895185, 0.07966706156730652, 0.000984717276878655, 0.20843732357025146, 0.00043006951455026865, 0.40934059023857117, 0.0010891529964283109, 0.0, 0.0, 0.0, 0.0, 0.0, 0.0, 0.0, 0.0, 0.0, 0.0, 0.0, 0.0, 0.0, 0.0, 0.0], [0.2875129282474518, 0.004861696157604456, 0.03241284564137459, 0.0016695968806743622, 0.04286244139075279, 0.00030263501685112715, 0.09579965472221375, 0.00027097362908534706, 0.16193149983882904, 0.00036564699257723987, 0.3715425729751587, 0.000467551639303565, 0.0, 0.0, 0.0, 0.0, 0.0, 0.0, 0.0, 0.0, 0.0, 0.0, 0.0, 0.0, 0.0, 0.0], [0.12615442276000977, 0.049428828060626984, 0.003409069497138262, 0.04093541204929352, 0.0005834602634422481, 0.045979175716638565, 0.00039383949479088187, 0.12707513570785522, 0.00018217769684270024, 0.22912715375423431, 0.0005920824478380382, 0.3751956820487976, 0.0009434833191335201, 0.0, 0.0, 0.0, 0.0, 0.0, 0.0, 0.0, 0.0, 0.0, 0.0, 0.0, 0.0, 0.0], [0.22595936059951782, 0.00486328499391675, 0.024741211906075478, 0.001737013808451593, 0.023996520787477493, 0.000295646779704839, 0.05980261042714119, 0.000397796044126153, 0.09341176599264145, 0.0004460850323084742, 0.18339982628822327, 0.0005876003415323794, 0.37824589014053345, 0.0021153197158128023, 0.0, 0.0, 0.0, 0.0, 0.0, 0.0, 0.0, 0.0, 0.0, 0.0, 0.0, 0.0], [0.09560499340295792, 0.033381763845682144, 0.0028540994971990585, 0.027907229959964752, 0.0003275294729974121, 0.020015766844153404, 0.00030787213472649455, 0.054884158074855804, 0.00013531350123230368, 0.09205163270235062, 0.0002586569171398878, 0.13903658092021942, 0.0005291991983540356, 0.5319957137107849, 0.0007094763568602502, 0.0, 0.0, 0.0, 0.0, 0.0, 0.0, 0.0, 0.0, 0.0, 0.0, 0.0], [0.2074122279882431, 0.004545492585748434, 0.019047120586037636, 0.0011328494874760509, 0.014618968591094017, 0.00013731938088312745, 0.0336463637650013, 0.00015228679694700986, 0.03000682033598423, 0.0001292557717533782, 0.08480112254619598, 0.00015330426685977727, 0.1840008795261383, 0.0009428265620954335, 0.4186200499534607, 0.0006531180115416646, 0.0, 0.0, 0.0, 0.0, 0.0, 0.0, 0.0, 0.0, 0.0, 0.0], [0.09639337658882141, 0.02305791713297367, 0.0036426656879484653, 0.016595186665654182, 0.0005455935024656355, 0.016243772581219673, 0.00042035820661112666, 0.03958355635404587, 0.0001386201474815607, 0.05161093547940254, 0.0004075368633493781, 0.07659902423620224, 0.0006538589368574321, 0.2664946913719177, 0.0008800920331850648, 0.4049016237258911, 0.0018311067251488566, 0.0, 0.0, 0.0, 0.0, 0.0, 0.0, 0.0, 0.0, 0.0], [0.19079524278640747, 0.0051481397822499275, 0.018400322645902634, 0.0012967921793460846, 0.01023913361132145, 0.00010018879402196035, 0.025066889822483063, 7.788756920490414e-05, 0.026055818423628807, 5.68739851587452e-05, 0.040658362209796906, 5.246937143965624e-05, 0.08501634746789932, 0.0002742743236012757, 0.23969025909900665, 0.00036431383341550827, 0.35645079612731934, 0.00025601289235055447, 0.0, 0.0, 0.0, 0.0, 0.0, 0.0, 0.0, 0.0], [0.13425567746162415, 0.03042888641357422, 0.0034543992951512337, 0.019758054986596107, 0.0003475559060461819, 0.01430723536759615, 0.00021383872081059963, 0.02771293744444847, 5.837362550664693e-05, 0.05131835862994194, 0.00011786725372076035, 0.04680175706744194, 0.00021284706599544734, 0.1466955542564392, 0.00031933849095366895, 0.2095937579870224, 0.0008801558869890869, 0.3129996955394745, 0.0005236898432485759, 0.0, 0.0, 0.0, 0.0, 0.0, 0.0, 0.0], [0.14035631716251373, 0.005648027174174786, 0.014435253106057644, 0.0012581058545038104, 0.009324196726083755, 0.00015890385839156806, 0.02256150171160698, 0.0001912423613248393, 0.015147234313189983, 0.00010745884355856106, 0.03696485608816147, 7.463209476554766e-05, 0.07515843957662582, 0.0003072535037063062, 0.12338247895240784, 0.0004501007206272334, 0.2201310247182846, 0.0003918216098099947, 0.3328694701194763, 0.0010816664434969425, 0.0, 0.0, 0.0, 0.0, 0.0, 0.0], [0.07273609191179276, 0.018688134849071503, 0.0020536016672849655, 0.012113546952605247, 0.00028485426446422935, 0.013098555617034435, 0.00016249633335974067, 0.024391986429691315, 4.310025542508811e-05, 0.02471054531633854, 9.062232857104391e-05, 0.023918120190501213, 0.00018049011123366654, 0.08085701614618301, 0.00019520919886417687, 0.11948969960212708, 0.0005803821259178221, 0.2178463637828827, 0.00030674628214910626, 0.3872291147708893, 0.0010233225766569376, 0.0, 0.0, 0.0, 0.0, 0.0], [0.11961732059717178, 0.003348318161442876, 0.011165625415742397, 0.0006186221144162118, 0.007580239791423082, 8.47986011649482e-05, 0.01511355210095644, 6.063525870558806e-05, 0.008242365904152393, 3.539455428835936e-05, 0.016642551869153976, 4.1803410567808896e-05, 0.03368731960654259, 0.00013080491044092923, 0.05576617270708084, 0.00011452676699263975, 0.08978208899497986, 0.00013058104377705604, 0.16179847717285156, 0.00038406378007493913, 0.47506555914878845, 0.0005891586770303547, 0.0, 0.0, 0.0, 0.0], [0.09498011320829391, 0.018414122983813286, 0.0024885134771466255, 0.01131517719477415, 0.00021570069657173008, 0.008771280758082867, 0.00011512290802784264, 0.018436869606375694, 2.9498243748093955e-05, 0.017888830974698067, 6.110972026363015e-05, 0.017473991960287094, 0.00010752196976682171, 0.05442376434803009, 0.00010809372179210186, 0.062119629234075546, 0.0003055931883864105, 0.08252272009849548, 0.00014409465075004846, 0.2285780906677246, 0.0007267024484463036, 0.38020429015159607, 0.0005691216792911291, 0.0, 0.0, 0.0], [0.11580497771501541, 0.0046487776562571526, 0.010185867547988892, 0.0009837328689172864, 0.004847478587180376, 0.00012280241935513914, 0.01137683168053627, 0.00010594542982289568, 0.006882241927087307, 6.4015832322184e-05, 0.014444094151258469, 4.0291270124726e-05, 0.036570917814970016, 0.0001935100881382823, 0.045296959578990936, 0.00016474432777613401, 0.08987865597009659, 0.00012264828546904027, 0.07896647602319717, 0.00037786472239531577, 0.1917162537574768, 0.0007350241648964584, 0.3856761157512665, 0.0007937939371913671, 0.0, 0.0], [0.09062547236680984, 0.017120804637670517, 0.0030599182937294245, 0.011747926473617554, 0.00025769195053726435, 0.008458270691335201, 0.00019651975890155882, 0.01747971400618553, 5.976208922220394e-05, 0.01809818297624588, 8.956118836067617e-05, 0.0166873000562191, 0.0001290842774324119, 0.043353088200092316, 0.00014915686915628612, 0.0631793662905693, 0.0003309394815005362, 0.05417225882411003, 0.00017236916755791754, 0.11501745879650116, 0.000635895412415266, 0.21774697303771973, 0.0006548360688611865, 0.31953373551368713, 0.0010437261080369353, 0.0], [0.11532226204872131, 0.00398827763274312, 0.012524609453976154, 0.0008567642653360963, 0.006305987015366554, 9.660914656706154e-05, 0.01698790118098259, 7.6264601375442e-05, 0.008127748966217041, 4.112671740585938e-05, 0.018285853788256645, 3.032401582458988e-05, 0.02918066456913948, 8.29962154966779e-05, 0.03649868443608284, 8.258218440460041e-05, 0.06032347306609154, 5.3352530812844634e-05, 0.04776960238814354, 0.00014272773114498705, 0.11261798441410065, 0.0003819878038484603, 0.24762344360351562, 0.0004141301033087075, 0.2818264961242676, 0.00035816311719827354]], [[1.0, 0.0, 0.0, 0.0, 0.0, 0.0, 0.0, 0.0, 0.0, 0.0, 0.0, 0.0, 0.0, 0.0, 0.0, 0.0, 0.0, 0.0, 0.0, 0.0, 0.0, 0.0, 0.0, 0.0, 0.0, 0.0], [0.5111683011054993, 0.4888317584991455, 0.0, 0.0, 0.0, 0.0, 0.0, 0.0, 0.0, 0.0, 0.0, 0.0, 0.0, 0.0, 0.0, 0.0, 0.0, 0.0, 0.0, 0.0, 0.0, 0.0, 0.0, 0.0, 0.0, 0.0], [0.8293411135673523, 0.03832290694117546, 0.13233594596385956, 0.0, 0.0, 0.0, 0.0, 0.0, 0.0, 0.0, 0.0, 0.0, 0.0, 0.0, 0.0, 0.0, 0.0, 0.0, 0.0, 0.0, 0.0, 0.0, 0.0, 0.0, 0.0, 0.0], [0.20184628665447235, 0.5886870622634888, 0.033246587961912155, 0.1762200891971588, 0.0, 0.0, 0.0, 0.0, 0.0, 0.0, 0.0, 0.0, 0.0, 0.0, 0.0, 0.0, 0.0, 0.0, 0.0, 0.0, 0.0, 0.0, 0.0, 0.0, 0.0, 0.0], [0.6445699334144592, 0.013644653372466564, 0.2552697956562042, 0.007500152103602886, 0.07901550829410553, 0.0, 0.0, 0.0, 0.0, 0.0, 0.0, 0.0, 0.0, 0.0, 0.0, 0.0, 0.0, 0.0, 0.0, 0.0, 0.0, 0.0, 0.0, 0.0, 0.0, 0.0], [0.0947408452630043, 0.3454015254974365, 0.015310847200453281, 0.44980743527412415, 0.006579299923032522, 0.08816007524728775, 0.0, 0.0, 0.0, 0.0, 0.0, 0.0, 0.0, 0.0, 0.0, 0.0, 0.0, 0.0, 0.0, 0.0, 0.0, 0.0, 0.0, 0.0, 0.0, 0.0], [0.5389578342437744, 0.00703855836763978, 0.18895792961120605, 0.0035577372182160616, 0.17121244966983795, 0.0005938922404311597, 0.08968154340982437, 0.0, 0.0, 0.0, 0.0, 0.0, 0.0, 0.0, 0.0, 0.0, 0.0, 0.0, 0.0, 0.0, 0.0, 0.0, 0.0, 0.0, 0.0, 0.0], [0.10348457843065262, 0.2233687937259674, 0.007304743397980928, 0.19583989679813385, 0.0024813676718622446, 0.3376176059246063, 0.0023830286227166653, 0.12751996517181396, 0.0, 0.0, 0.0, 0.0, 0.0, 0.0, 0.0, 0.0, 0.0, 0.0, 0.0, 0.0, 0.0, 0.0, 0.0, 0.0, 0.0, 0.0], [0.4029836058616638, 0.006260641384869814, 0.17068131268024445, 0.004132943693548441, 0.16345007717609406, 0.0005049933097325265, 0.1978384256362915, 0.0006052624667063355, 0.053542740643024445, 0.0, 0.0, 0.0, 0.0, 0.0, 0.0, 0.0, 0.0, 0.0, 0.0, 0.0, 0.0, 0.0, 0.0, 0.0, 0.0, 0.0], [0.11103598773479462, 0.19966307282447815, 0.008417544886469841, 0.16887328028678894, 0.0016841971082612872, 0.1337709277868271, 0.0015325519489124417, 0.2836253345012665, 0.0004673575749620795, 0.09092985093593597, 0.0, 0.0, 0.0, 0.0, 0.0, 0.0, 0.0, 0.0, 0.0, 0.0, 0.0, 0.0, 0.0, 0.0, 0.0, 0.0], [0.3550291657447815, 0.005660948809236288, 0.11940902471542358, 0.0027164535131305456, 0.08567962795495987, 0.00034812456578947604, 0.140412375330925, 0.000490632199216634, 0.2282639890909195, 0.0002887338341679424, 0.06170082837343216, 0.0, 0.0, 0.0, 0.0, 0.0, 0.0, 0.0, 0.0, 0.0, 0.0, 0.0, 0.0, 0.0, 0.0, 0.0], [0.06776007264852524, 0.11357414722442627, 0.006185560952872038, 0.13021808862686157, 0.001111403340473771, 0.12726402282714844, 0.0005905813886784017, 0.24855859577655792, 0.000463070347905159, 0.24372164905071259, 0.0007039803313091397, 0.059848885983228683, 0.0, 0.0, 0.0, 0.0, 0.0, 0.0, 0.0, 0.0, 0.0, 0.0, 0.0, 0.0, 0.0, 0.0], [0.35709038376808167, 0.004285374190658331, 0.08806601166725159, 0.001965991919860244, 0.07497106492519379, 0.00022312666988000274, 0.11306626349687576, 0.0003773660573642701, 0.09872031211853027, 0.00023169684573076665, 0.21141184866428375, 0.0001699821004876867, 0.0494205616414547, 0.0, 0.0, 0.0, 0.0, 0.0, 0.0, 0.0, 0.0, 0.0, 0.0, 0.0, 0.0, 0.0], [0.10628779232501984, 0.09699562937021255, 0.0094913924112916, 0.08279663324356079, 0.0011960197007283568, 0.08275173604488373, 0.0009091811953112483, 0.16048641502857208, 0.0004284747701603919, 0.18008014559745789, 0.0005643495824187994, 0.18285347521305084, 0.0008061216794885695, 0.09435276687145233, 0.0, 0.0, 0.0, 0.0, 0.0, 0.0, 0.0, 0.0, 0.0, 0.0, 0.0, 0.0], [0.3360963761806488, 0.005669704172760248, 0.09203505516052246, 0.00210727471858263, 0.04015810415148735, 0.0002847467258106917, 0.10332287102937698, 0.0004756971320603043, 0.0807199478149414, 0.00022510020062327385, 0.11060833185911179, 0.0002887667214963585, 0.16482505202293396, 0.0010193444322794676, 0.06216367334127426, 0.0, 0.0, 0.0, 0.0, 0.0, 0.0, 0.0, 0.0, 0.0, 0.0, 0.0], [0.10223522782325745, 0.06454263627529144, 0.004969898145645857, 0.045902885496616364, 0.0008650235831737518, 0.053075160831213, 0.0007160278619267046, 0.1072787418961525, 0.00015434896340593696, 0.1305612027645111, 0.00024992742692120373, 0.13443230092525482, 0.0003375048690941185, 0.2946833074092865, 0.0006488889921456575, 0.05934697017073631, 0.0, 0.0, 0.0, 0.0, 0.0, 0.0, 0.0, 0.0, 0.0, 0.0], [0.2716209292411804, 0.008351048454642296, 0.05013679713010788, 0.002093162853270769, 0.044042106717824936, 0.00039790404844097793, 0.07056810706853867, 0.0006064390763640404, 0.0337648019194603, 0.0003216511395294219, 0.0856017917394638, 0.0002935124502982944, 0.10594203323125839, 0.0009464953327551484, 0.2652624547481537, 0.0005039648967795074, 0.05954667553305626, 0.0, 0.0, 0.0, 0.0, 0.0, 0.0, 0.0, 0.0, 0.0], [0.07437145709991455, 0.06374750286340714, 0.005634450353682041, 0.056268200278282166, 0.0006195856840349734, 0.050094716250896454, 0.00045713732833974063, 0.07426619529724121, 0.00015311803144868463, 0.06923802196979523, 0.00016087066615000367, 0.08711470663547516, 0.00025581964291632175, 0.21142080426216125, 0.00034089238033629954, 0.2581999897956848, 0.0004911439609713852, 0.04716537147760391, 0.0, 0.0, 0.0, 0.0, 0.0, 0.0, 0.0, 0.0], [0.2519184350967407, 0.005640425253659487, 0.06111517921090126, 0.001436965074390173, 0.03584502264857292, 0.00015959244046825916, 0.05557061731815338, 0.000231947677093558, 0.04637117683887482, 0.00017613980162423104, 0.05644198879599571, 0.00015279777289833874, 0.09887100011110306, 0.0003325077414046973, 0.14575783908367157, 0.0003182130749337375, 0.2014705091714859, 0.0002402299433015287, 0.037949465215206146, 0.0, 0.0, 0.0, 0.0, 0.0, 0.0, 0.0], [0.08895698189735413, 0.06485048681497574, 0.00623839907348156, 0.05048711970448494, 0.000715056259650737, 0.039616167545318604, 0.0005232481053099036, 0.058803949505090714, 0.00011448976147221401, 0.08056869357824326, 0.00026565397274680436, 0.10374382883310318, 0.0003675385087262839, 0.17481204867362976, 0.0003036636335309595, 0.1271304041147232, 0.00041125595453195274, 0.15001624822616577, 0.0003149527183268219, 0.05175980553030968, 0.0, 0.0, 0.0, 0.0, 0.0, 0.0], [0.24831396341323853, 0.005329707637429237, 0.051749374717473984, 0.0012348695890977979, 0.025714246556162834, 0.00027083666645921767, 0.03674253821372986, 0.0001931739243445918, 0.025964614003896713, 0.0002236371219623834, 0.05095737427473068, 0.00012977843289263546, 0.07283978164196014, 0.00034490448888391256, 0.1008920893073082, 0.00028337756521068513, 0.1273132711648941, 0.00016096016042865813, 0.194074347615242, 0.0007033542497083545, 0.05656375363469124, 0.0, 0.0, 0.0, 0.0, 0.0], [0.09269298613071442, 0.05367284640669823, 0.004602652508765459, 0.028270738199353218, 0.0007549547008238733, 0.03440138325095177, 0.0004632924101315439, 0.04264392703771591, 0.0001089261713786982, 0.05582642927765846, 0.0002369488647673279, 0.056642673909664154, 0.00026428085402585566, 0.0960218757390976, 0.0003236199845559895, 0.11668437719345093, 0.000695671362336725, 0.12175635248422623, 0.0002901129482779652, 0.24804136157035828, 0.0008676408906467259, 0.04473692178726196, 0.0, 0.0, 0.0, 0.0], [0.23883895576000214, 0.0033831256441771984, 0.03784472867846489, 0.0012326507130637765, 0.017356261610984802, 0.00013251877680886537, 0.04291846975684166, 0.00011576187534956262, 0.020026803016662598, 9.550760296406224e-05, 0.032409701496362686, 5.8010886277770624e-05, 0.048440996557474136, 0.00021581529290415347, 0.06822310388088226, 0.00021698439377360046, 0.11387238651514053, 0.00011445544078014791, 0.165427103638649, 0.0004380338650662452, 0.17286814749240875, 0.0004344431508798152, 0.035335972905159, 0.0, 0.0, 0.0], [0.13112644851207733, 0.050421882420778275, 0.006418009754270315, 0.026886168867349625, 0.0008532112697139382, 0.021100811660289764, 0.00046093843411654234, 0.04688297584652901, 0.00019072544819209725, 0.03870788589119911, 0.0002602857130113989, 0.026260579004883766, 0.0002986851322930306, 0.08241083472967148, 0.00042236599256284535, 0.08285116404294968, 0.0006261762464419007, 0.06688471138477325, 0.0003777424863073975, 0.17517779767513275, 0.0010817106813192368, 0.2058466225862503, 0.0005863059195689857, 0.03386596962809563, 0.0, 0.0], [0.21140578389167786, 0.004536715801805258, 0.04514160379767418, 0.0015356236835941672, 0.03247835487127304, 0.0002157996641471982, 0.029971478506922722, 0.00019151192100252956, 0.03102339245378971, 0.0001467725378461182, 0.034955091774463654, 0.00011030145105905831, 0.05444706976413727, 0.00023626394977327436, 0.0397668331861496, 0.00019989161228295416, 0.0718664601445198, 9.902640158543363e-05, 0.071036696434021, 0.0003402880684006959, 0.152141273021698, 0.00048625250929035246, 0.18860967457294464, 0.00035968722659163177, 0.028698133304715157, 0.0], [0.08649935573339462, 0.03376363217830658, 0.00441388413310051, 0.033682260662317276, 0.0005834237672388554, 0.020845036953687668, 0.00032333258423022926, 0.04177011176943779, 8.001664537005126e-05, 0.043287329375743866, 0.00015234258898999542, 0.02782076969742775, 0.00015257114137057215, 0.07589608430862427, 0.00015830949996598065, 0.07275284081697464, 0.0003349835460539907, 0.09272194653749466, 9.449518984183669e-05, 0.1269885152578354, 0.00027076745755039155, 0.15086506307125092, 0.00031568133272230625, 0.16341130435466766, 0.0004254771920386702, 0.02239050902426243]], [[1.0, 0.0, 0.0, 0.0, 0.0, 0.0, 0.0, 0.0, 0.0, 0.0, 0.0, 0.0, 0.0, 0.0, 0.0, 0.0, 0.0, 0.0, 0.0, 0.0, 0.0, 0.0, 0.0, 0.0, 0.0, 0.0], [0.9889031052589417, 0.011096899397671223, 0.0, 0.0, 0.0, 0.0, 0.0, 0.0, 0.0, 0.0, 0.0, 0.0, 0.0, 0.0, 0.0, 0.0, 0.0, 0.0, 0.0, 0.0, 0.0, 0.0, 0.0, 0.0, 0.0, 0.0], [0.9700288772583008, 0.016481636092066765, 0.01348941307514906, 0.0, 0.0, 0.0, 0.0, 0.0, 0.0, 0.0, 0.0, 0.0, 0.0, 0.0, 0.0, 0.0, 0.0, 0.0, 0.0, 0.0, 0.0, 0.0, 0.0, 0.0, 0.0, 0.0], [0.9637412428855896, 0.014942161738872528, 0.014337239786982536, 0.006979387253522873, 0.0, 0.0, 0.0, 0.0, 0.0, 0.0, 0.0, 0.0, 0.0, 0.0, 0.0, 0.0, 0.0, 0.0, 0.0, 0.0, 0.0, 0.0, 0.0, 0.0, 0.0, 0.0], [0.9453573822975159, 0.014378366991877556, 0.011033243499696255, 0.009528473019599915, 0.019702496007084846, 0.0, 0.0, 0.0, 0.0, 0.0, 0.0, 0.0, 0.0, 0.0, 0.0, 0.0, 0.0, 0.0, 0.0, 0.0, 0.0, 0.0, 0.0, 0.0, 0.0, 0.0], [0.9169600009918213, 0.02093229629099369, 0.01298055611550808, 0.01498172152787447, 0.026162894442677498, 0.007982349023222923, 0.0, 0.0, 0.0, 0.0, 0.0, 0.0, 0.0, 0.0, 0.0, 0.0, 0.0, 0.0, 0.0, 0.0, 0.0, 0.0, 0.0, 0.0, 0.0, 0.0], [0.8122066259384155, 0.013695050962269306, 0.017754456028342247, 0.009235519915819168, 0.01956220716238022, 0.009324164129793644, 0.11822186410427094, 0.0, 0.0, 0.0, 0.0, 0.0, 0.0, 0.0, 0.0, 0.0, 0.0, 0.0, 0.0, 0.0, 0.0, 0.0, 0.0, 0.0, 0.0, 0.0], [0.8267501592636108, 0.02659926377236843, 0.015613464638590813, 0.018102679401636124, 0.015205181203782558, 0.01845695823431015, 0.0636151060461998, 0.015657130628824234, 0.0, 0.0, 0.0, 0.0, 0.0, 0.0, 0.0, 0.0, 0.0, 0.0, 0.0, 0.0, 0.0, 0.0, 0.0, 0.0, 0.0, 0.0], [0.8032893538475037, 0.013001483865082264, 0.023243846371769905, 0.01735089160501957, 0.029594970867037773, 0.009095336310565472, 0.08185634762048721, 0.014322959817945957, 0.008244888857007027, 0.0, 0.0, 0.0, 0.0, 0.0, 0.0, 0.0, 0.0, 0.0, 0.0, 0.0, 0.0, 0.0, 0.0, 0.0, 0.0, 0.0], [0.7425281405448914, 0.021395109593868256, 0.020244745537638664, 0.01889899931848049, 0.01762787066400051, 0.013467006385326385, 0.12437336891889572, 0.017260517925024033, 0.009971864521503448, 0.01423229742795229, 0.0, 0.0, 0.0, 0.0, 0.0, 0.0, 0.0, 0.0, 0.0, 0.0, 0.0, 0.0, 0.0, 0.0, 0.0, 0.0], [0.6893312335014343, 0.02903897501528263, 0.028137285262346268, 0.020113717764616013, 0.037408728152513504, 0.012787635438144207, 0.12523217499256134, 0.015975991263985634, 0.019522743299603462, 0.012027631513774395, 0.010423888452351093, 0.0, 0.0, 0.0, 0.0, 0.0, 0.0, 0.0, 0.0, 0.0, 0.0, 0.0, 0.0, 0.0, 0.0, 0.0], [0.7146970629692078, 0.02643624134361744, 0.030379503965377808, 0.023987874388694763, 0.020815547555685043, 0.017090387642383575, 0.07290210574865341, 0.021336764097213745, 0.023692790418863297, 0.01763656735420227, 0.02064480632543564, 0.010380430147051811, 0.0, 0.0, 0.0, 0.0, 0.0, 0.0, 0.0, 0.0, 0.0, 0.0, 0.0, 0.0, 0.0, 0.0], [0.6291670203208923, 0.030754918232560158, 0.029704514890909195, 0.020389724522829056, 0.027266329154372215, 0.017293250188231468, 0.1361626386642456, 0.024966811761260033, 0.01646520011126995, 0.016482818871736526, 0.018306240439414978, 0.014062645845115185, 0.018977919593453407, 0.0, 0.0, 0.0, 0.0, 0.0, 0.0, 0.0, 0.0, 0.0, 0.0, 0.0, 0.0, 0.0], [0.6736627817153931, 0.02875935286283493, 0.03329825773835182, 0.03111150488257408, 0.018039368093013763, 0.02136491797864437, 0.06630721688270569, 0.0226956307888031, 0.0180051252245903, 0.032263513654470444, 0.013904919847846031, 0.0111389784142375, 0.012877136468887329, 0.01657131500542164, 0.0, 0.0, 0.0, 0.0, 0.0, 0.0, 0.0, 0.0, 0.0, 0.0, 0.0, 0.0], [0.6158174276351929, 0.026513535529375076, 0.03101474791765213, 0.025302866473793983, 0.02194047160446644, 0.020332472398877144, 0.08467301726341248, 0.03250233083963394, 0.02507474459707737, 0.015742944553494453, 0.02161894552409649, 0.015700025483965874, 0.0203098077327013, 0.02931869961321354, 0.014137943275272846, 0.0, 0.0, 0.0, 0.0, 0.0, 0.0, 0.0, 0.0, 0.0, 0.0, 0.0], [0.5425294041633606, 0.028764503076672554, 0.02919658087193966, 0.022577932104468346, 0.02311617322266102, 0.022952113300561905, 0.13225571811199188, 0.028794564306735992, 0.017865920439362526, 0.02274400182068348, 0.016355451196432114, 0.022332316264510155, 0.020418336614966393, 0.03467586264014244, 0.01995156519114971, 0.015469590201973915, 0.0, 0.0, 0.0, 0.0, 0.0, 0.0, 0.0, 0.0, 0.0, 0.0], [0.5284071564674377, 0.04402313753962517, 0.022852323949337006, 0.02343505248427391, 0.019820021465420723, 0.016639715060591698, 0.11800291389226913, 0.037779152393341064, 0.01717216894030571, 0.015750961378216743, 0.029663698747754097, 0.016314879059791565, 0.02165144681930542, 0.025372015312314034, 0.027443934231996536, 0.017016781494021416, 0.01865468919277191, 0.0, 0.0, 0.0, 0.0, 0.0, 0.0, 0.0, 0.0, 0.0], [0.5604138374328613, 0.030891187489032745, 0.03390878066420555, 0.02793891914188862, 0.022316064685583115, 0.023360196501016617, 0.07039453089237213, 0.030201692134141922, 0.017746208235621452, 0.02330780401825905, 0.013686432503163815, 0.01938711106777191, 0.01597096584737301, 0.039191413670778275, 0.028089318424463272, 0.017505718395113945, 0.01564144156873226, 0.010048394091427326, 0.0, 0.0, 0.0, 0.0, 0.0, 0.0, 0.0, 0.0], [0.4546983540058136, 0.022019902244210243, 0.0207686610519886, 0.015852205455303192, 0.016849106177687645, 0.019413579255342484, 0.16302277147769928, 0.026298992335796356, 0.02602088637650013, 0.03855632618069649, 0.015238764695823193, 0.029782650992274284, 0.019208038225769997, 0.01948644407093525, 0.024403464049100876, 0.024168584495782852, 0.023021476343274117, 0.014557112008333206, 0.026632728055119514, 0.0, 0.0, 0.0, 0.0, 0.0, 0.0, 0.0], [0.45535048842430115, 0.030647767707705498, 0.04369925335049629, 0.019679658114910126, 0.01961178332567215, 0.023107238113880157, 0.10347745567560196, 0.034438736736774445, 0.015638627111911774, 0.03118399903178215, 0.02555890381336212, 0.028934603556990623, 0.028669223189353943, 0.03780815750360489, 0.01571403443813324, 0.01557493768632412, 0.019036779180169106, 0.01678280159831047, 0.01740964874625206, 0.017675859853625298, 0.0, 0.0, 0.0, 0.0, 0.0, 0.0], [0.46461617946624756, 0.03239317983388901, 0.022951262071728706, 0.01844564452767372, 0.03295101970434189, 0.02162596397101879, 0.0786663070321083, 0.01675211451947689, 0.019496751949191093, 0.03460429608821869, 0.013011148199439049, 0.015582923777401447, 0.019499745219945908, 0.027983475476503372, 0.013789898715913296, 0.01716739684343338, 0.020086219534277916, 0.01286318153142929, 0.018338518217206, 0.020281873643398285, 0.07889281958341599, 0.0, 0.0, 0.0, 0.0, 0.0], [0.3958115577697754, 0.03527374565601349, 0.022535735741257668, 0.024021858349442482, 0.029723308980464935, 0.024310827255249023, 0.07426997274160385, 0.02129463106393814, 0.016494475305080414, 0.025457102805376053, 0.013206410221755505, 0.024249713867902756, 0.01617455668747425, 0.026804909110069275, 0.023715704679489136, 0.02631359174847603, 0.024908769875764847, 0.013546232134103775, 0.022074390202760696, 0.021669384092092514, 0.10106179863214493, 0.017081210389733315, 0.0, 0.0, 0.0, 0.0], [0.34307074546813965, 0.021072154864668846, 0.03236421197652817, 0.01700707897543907, 0.017128799110651016, 0.017316702753305435, 0.12914817035198212, 0.021735908463597298, 0.015379615128040314, 0.023059019818902016, 0.024811111390590668, 0.017519894987344742, 0.028258483856916428, 0.019271867349743843, 0.022580929100513458, 0.028623150661587715, 0.017865141853690147, 0.011555852368474007, 0.030504481866955757, 0.021856391802430153, 0.0947454422712326, 0.029574589803814888, 0.015550314448773861, 0.0, 0.0, 0.0], [0.3792441785335541, 0.026197824627161026, 0.02396983653306961, 0.020436380058526993, 0.020471345633268356, 0.02137584239244461, 0.059468504041433334, 0.03876215219497681, 0.015487872995436192, 0.031198518350720406, 0.01757611706852913, 0.01794869266450405, 0.02563856728374958, 0.03351139277219772, 0.019582118839025497, 0.021737512201070786, 0.027778131887316704, 0.015473691746592522, 0.013835174962878227, 0.02587241306900978, 0.09331337362527847, 0.012119927443563938, 0.012230335734784603, 0.026770127937197685, 0.0, 0.0], [0.3233295977115631, 0.02547362819314003, 0.03728974610567093, 0.02782692387700081, 0.037598926573991776, 0.017934640869498253, 0.10316414386034012, 0.027490735054016113, 0.013616591691970825, 0.03675827756524086, 0.022006075829267502, 0.020939789712429047, 0.02710309810936451, 0.020938001573085785, 0.015469110570847988, 0.024252645671367645, 0.018734442070126534, 0.014177046716213226, 0.01547414530068636, 0.01737484335899353, 0.09454774111509323, 0.014206747524440289, 0.012076511979103088, 0.015739524737000465, 0.01647704467177391, 0.0], [0.2910948693752289, 0.03234397992491722, 0.03600068390369415, 0.020082609727978706, 0.01869364269077778, 0.02461143583059311, 0.0859263688325882, 0.027297180145978928, 0.01755814254283905, 0.02287907339632511, 0.022889796644449234, 0.020076747983694077, 0.025481849908828735, 0.04240018501877785, 0.019455108791589737, 0.019611457362771034, 0.026703713461756706, 0.02572779357433319, 0.014715983532369137, 0.03291615471243858, 0.056220296770334244, 0.03833216056227684, 0.0342559777200222, 0.01637387089431286, 0.016300763934850693, 0.01205003447830677]], [[1.0, 0.0, 0.0, 0.0, 0.0, 0.0, 0.0, 0.0, 0.0, 0.0, 0.0, 0.0, 0.0, 0.0, 0.0, 0.0, 0.0, 0.0, 0.0, 0.0, 0.0, 0.0, 0.0, 0.0, 0.0, 0.0], [0.9604862332344055, 0.03951381891965866, 0.0, 0.0, 0.0, 0.0, 0.0, 0.0, 0.0, 0.0, 0.0, 0.0, 0.0, 0.0, 0.0, 0.0, 0.0, 0.0, 0.0, 0.0, 0.0, 0.0, 0.0, 0.0, 0.0, 0.0], [0.9449448585510254, 0.030518947169184685, 0.02453620173037052, 0.0, 0.0, 0.0, 0.0, 0.0, 0.0, 0.0, 0.0, 0.0, 0.0, 0.0, 0.0, 0.0, 0.0, 0.0, 0.0, 0.0, 0.0, 0.0, 0.0, 0.0, 0.0, 0.0], [0.9022101163864136, 0.03983891382813454, 0.0351325124502182, 0.02281843312084675, 0.0, 0.0, 0.0, 0.0, 0.0, 0.0, 0.0, 0.0, 0.0, 0.0, 0.0, 0.0, 0.0, 0.0, 0.0, 0.0, 0.0, 0.0, 0.0, 0.0, 0.0, 0.0], [0.9399017691612244, 0.027075011283159256, 0.010534513741731644, 0.010620681568980217, 0.011868187226355076, 0.0, 0.0, 0.0, 0.0, 0.0, 0.0, 0.0, 0.0, 0.0, 0.0, 0.0, 0.0, 0.0, 0.0, 0.0, 0.0, 0.0, 0.0, 0.0, 0.0, 0.0], [0.8747692704200745, 0.037549763917922974, 0.01632688008248806, 0.028901681303977966, 0.028390878811478615, 0.014061382040381432, 0.0, 0.0, 0.0, 0.0, 0.0, 0.0, 0.0, 0.0, 0.0, 0.0, 0.0, 0.0, 0.0, 0.0, 0.0, 0.0, 0.0, 0.0, 0.0, 0.0], [0.8073936700820923, 0.020672498270869255, 0.023733068257570267, 0.013208241201937199, 0.015568500384688377, 0.01097526028752327, 0.10844871401786804, 0.0, 0.0, 0.0, 0.0, 0.0, 0.0, 0.0, 0.0, 0.0, 0.0, 0.0, 0.0, 0.0, 0.0, 0.0, 0.0, 0.0, 0.0, 0.0], [0.7951160669326782, 0.042148489505052567, 0.01257945317775011, 0.022066086530685425, 0.011243568733334541, 0.025083327665925026, 0.07086337357759476, 0.020899543538689613, 0.0, 0.0, 0.0, 0.0, 0.0, 0.0, 0.0, 0.0, 0.0, 0.0, 0.0, 0.0, 0.0, 0.0, 0.0, 0.0, 0.0, 0.0], [0.728935182094574, 0.022801101207733154, 0.035117536783218384, 0.037199966609478, 0.03525200113654137, 0.015627875924110413, 0.07662035524845123, 0.009015047922730446, 0.03943100944161415, 0.0, 0.0, 0.0, 0.0, 0.0, 0.0, 0.0, 0.0, 0.0, 0.0, 0.0, 0.0, 0.0, 0.0, 0.0, 0.0, 0.0], [0.7057974338531494, 0.02551870606839657, 0.021684864535927773, 0.027656132355332375, 0.015649782493710518, 0.0168144591152668, 0.14589744806289673, 0.008188455365598202, 0.01674286089837551, 0.01604977436363697, 0.0, 0.0, 0.0, 0.0, 0.0, 0.0, 0.0, 0.0, 0.0, 0.0, 0.0, 0.0, 0.0, 0.0, 0.0, 0.0], [0.6564486026763916, 0.038062386214733124, 0.037790536880493164, 0.026571087539196014, 0.034097060561180115, 0.01584354229271412, 0.11566168069839478, 0.009080635383725166, 0.041999898850917816, 0.010388367809355259, 0.014056267216801643, 0.0, 0.0, 0.0, 0.0, 0.0, 0.0, 0.0, 0.0, 0.0, 0.0, 0.0, 0.0, 0.0, 0.0, 0.0], [0.5587136745452881, 0.0325123593211174, 0.05195913836359978, 0.04016195610165596, 0.02022806741297245, 0.03313082829117775, 0.09500099718570709, 0.011268091388046741, 0.07266806811094284, 0.02011684700846672, 0.02819669619202614, 0.03604324534535408, 0.0, 0.0, 0.0, 0.0, 0.0, 0.0, 0.0, 0.0, 0.0, 0.0, 0.0, 0.0, 0.0, 0.0], [0.6651912927627563, 0.038349248468875885, 0.02511722780764103, 0.01751234009861946, 0.02211170829832554, 0.011196792125701904, 0.1264089047908783, 0.016351399943232536, 0.0176697950810194, 0.00797420646995306, 0.011379868723452091, 0.020883210003376007, 0.019853943958878517, 0.0, 0.0, 0.0, 0.0, 0.0, 0.0, 0.0, 0.0, 0.0, 0.0, 0.0, 0.0, 0.0], [0.6427758932113647, 0.027909716591238976, 0.04897870868444443, 0.03767680749297142, 0.018161531537771225, 0.017805078998208046, 0.07413944602012634, 0.01205019187182188, 0.025966165587306023, 0.031163521111011505, 0.010175211355090141, 0.020029421895742416, 0.011502997018396854, 0.021665221080183983, 0.0, 0.0, 0.0, 0.0, 0.0, 0.0, 0.0, 0.0, 0.0, 0.0, 0.0, 0.0], [0.5999526977539062, 0.02737473137676716, 0.040768951177597046, 0.03585618734359741, 0.016903651878237724, 0.023959482088685036, 0.0783098116517067, 0.03437543660402298, 0.017150428146123886, 0.017716597765684128, 0.014752177521586418, 0.02660997025668621, 0.012897134758532047, 0.031034614890813828, 0.022338172420859337, 0.0, 0.0, 0.0, 0.0, 0.0, 0.0, 0.0, 0.0, 0.0, 0.0, 0.0], [0.6056906580924988, 0.023212986066937447, 0.019801931455731392, 0.01580270752310753, 0.0159131046384573, 0.019884221255779266, 0.15184180438518524, 0.011217910796403885, 0.014107173308730125, 0.01825142465531826, 0.009240533225238323, 0.017382873222231865, 0.010316604748368263, 0.030127787962555885, 0.02122296579182148, 0.01598522439599037, 0.0, 0.0, 0.0, 0.0, 0.0, 0.0, 0.0, 0.0, 0.0, 0.0], [0.621613085269928, 0.04840640351176262, 0.015653856098651886, 0.01505125593394041, 0.01533460058271885, 0.016681035980582237, 0.09170324355363846, 0.030150189995765686, 0.00989160779863596, 0.010743578895926476, 0.021345265209674835, 0.016696704551577568, 0.00943872332572937, 0.02146451361477375, 0.02791387401521206, 0.010778059251606464, 0.017133889719843864, 0.0, 0.0, 0.0, 0.0, 0.0, 0.0, 0.0, 0.0, 0.0], [0.4997318685054779, 0.029263827949762344, 0.04130072146654129, 0.034473780542612076, 0.02117547206580639, 0.028390849009156227, 0.08400525897741318, 0.020115870982408524, 0.018036337569355965, 0.020329566672444344, 0.015996525064110756, 0.02745484933257103, 0.017176518216729164, 0.04333643615245819, 0.042918410152196884, 0.02343091554939747, 0.01798217184841633, 0.014880494214594364, 0.0, 0.0, 0.0, 0.0, 0.0, 0.0, 0.0, 0.0], [0.5208429098129272, 0.020931892096996307, 0.019358713179826736, 0.016201892867684364, 0.019530626013875008, 0.022512711584568024, 0.1468609720468521, 0.009765494614839554, 0.04161234200000763, 0.03343064337968826, 0.012686016969382763, 0.04222103953361511, 0.01480876374989748, 0.010356646962463856, 0.015399081632494926, 0.022045589983463287, 0.009148739278316498, 0.012672542594373226, 0.009613392874598503, 0.0, 0.0, 0.0, 0.0, 0.0, 0.0, 0.0], [0.46125704050064087, 0.030253609642386436, 0.04890428110957146, 0.02504478022456169, 0.015213856473565102, 0.019052183255553246, 0.10900716483592987, 0.030476821586489677, 0.020147651433944702, 0.025869863107800484, 0.02565106377005577, 0.033288776874542236, 0.030211830511689186, 0.040786150842905045, 0.010705841705203056, 0.013001061975955963, 0.011099101044237614, 0.012761023826897144, 0.014180863276124, 0.023087047040462494, 0.0, 0.0, 0.0, 0.0, 0.0, 0.0], [0.42292171716690063, 0.04507732763886452, 0.023381054401397705, 0.019483687356114388, 0.036361824721097946, 0.027375299483537674, 0.09247949719429016, 0.011677181348204613, 0.019671086221933365, 0.0336977019906044, 0.0116224754601717, 0.02401660569012165, 0.014068635180592537, 0.031477075070142746, 0.012358593754470348, 0.02265051379799843, 0.013316371478140354, 0.016374634578824043, 0.013984695076942444, 0.020941324532032013, 0.08706280589103699, 0.0, 0.0, 0.0, 0.0, 0.0], [0.4245365262031555, 0.03833209350705147, 0.018277136608958244, 0.019638599827885628, 0.024763846769928932, 0.020699739456176758, 0.05761609971523285, 0.011861865408718586, 0.010394858196377754, 0.02207971177995205, 0.01006906758993864, 0.027562329545617104, 0.009645861573517323, 0.03797968477010727, 0.028588587418198586, 0.028642963618040085, 0.027801726013422012, 0.016371523961424828, 0.024185670539736748, 0.022704117000102997, 0.10283218324184418, 0.01541578397154808, 0.0, 0.0, 0.0, 0.0], [0.3772547245025635, 0.02331162430346012, 0.03891381993889809, 0.014789090491831303, 0.017643699422478676, 0.016803549602627754, 0.11766108870506287, 0.01139258872717619, 0.012442224659025669, 0.025253215804696083, 0.018401924520730972, 0.020092274993658066, 0.024259306490421295, 0.015570219606161118, 0.02553403563797474, 0.03149472177028656, 0.010950995609164238, 0.012314649298787117, 0.022395316511392593, 0.026494115591049194, 0.09604800492525101, 0.02897915057837963, 0.011999549344182014, 0.0, 0.0, 0.0], [0.37612587213516235, 0.023799972608685493, 0.01866895705461502, 0.016668321564793587, 0.016185181215405464, 0.019902929663658142, 0.045500610023736954, 0.035596780478954315, 0.008684786036610603, 0.03412967547774315, 0.01546799298375845, 0.015227556228637695, 0.037462152540683746, 0.03801393136382103, 0.02803683839738369, 0.02731180563569069, 0.028688106685876846, 0.016977520659565926, 0.014580797404050827, 0.02782181091606617, 0.10292469710111618, 0.013234536163508892, 0.013511918485164642, 0.025477292016148567, 0.0, 0.0], [0.3668353259563446, 0.029642153531312943, 0.0465262196958065, 0.030764387920498848, 0.04260801523923874, 0.023343540728092194, 0.0932965949177742, 0.011121067218482494, 0.017259061336517334, 0.03462432697415352, 0.015280421823263168, 0.02039988897740841, 0.027720171958208084, 0.014340989291667938, 0.010623514652252197, 0.026514902710914612, 0.010647110641002655, 0.01488957554101944, 0.00996159017086029, 0.015795953571796417, 0.08823268860578537, 0.013025418855249882, 0.012046056799590588, 0.011037598364055157, 0.013463461771607399, 0.0], [0.3020409941673279, 0.026485996320843697, 0.038928400725126266, 0.020927784964442253, 0.02157771587371826, 0.02257228083908558, 0.10320022702217102, 0.017389779910445213, 0.011184201575815678, 0.021920524537563324, 0.01790454611182213, 0.018541356548666954, 0.02492244727909565, 0.04558593034744263, 0.018209010362625122, 0.023487238213419914, 0.028182972222566605, 0.028753109276294708, 0.01902950368821621, 0.03687364235520363, 0.04134003072977066, 0.03384570777416229, 0.0357913114130497, 0.01570635288953781, 0.013555753976106644, 0.012043159455060959]], [[1.0, 0.0, 0.0, 0.0, 0.0, 0.0, 0.0, 0.0, 0.0, 0.0, 0.0, 0.0, 0.0, 0.0, 0.0, 0.0, 0.0, 0.0, 0.0, 0.0, 0.0, 0.0, 0.0, 0.0, 0.0, 0.0], [0.9219248294830322, 0.07807516306638718, 0.0, 0.0, 0.0, 0.0, 0.0, 0.0, 0.0, 0.0, 0.0, 0.0, 0.0, 0.0, 0.0, 0.0, 0.0, 0.0, 0.0, 0.0, 0.0, 0.0, 0.0, 0.0, 0.0, 0.0], [0.9011707305908203, 0.028786050155758858, 0.07004325836896896, 0.0, 0.0, 0.0, 0.0, 0.0, 0.0, 0.0, 0.0, 0.0, 0.0, 0.0, 0.0, 0.0, 0.0, 0.0, 0.0, 0.0, 0.0, 0.0, 0.0, 0.0, 0.0, 0.0], [0.7872005105018616, 0.09418957680463791, 0.007935497909784317, 0.11067437380552292, 0.0, 0.0, 0.0, 0.0, 0.0, 0.0, 0.0, 0.0, 0.0, 0.0, 0.0, 0.0, 0.0, 0.0, 0.0, 0.0, 0.0, 0.0, 0.0, 0.0, 0.0, 0.0], [0.8302361965179443, 0.023324698209762573, 0.07020556926727295, 0.01486061979085207, 0.06137287616729736, 0.0, 0.0, 0.0, 0.0, 0.0, 0.0, 0.0, 0.0, 0.0, 0.0, 0.0, 0.0, 0.0, 0.0, 0.0, 0.0, 0.0, 0.0, 0.0, 0.0, 0.0], [0.7241750359535217, 0.08078636974096298, 0.0025972500443458557, 0.14894695580005646, 0.0034093321301043034, 0.040084995329380035, 0.0, 0.0, 0.0, 0.0, 0.0, 0.0, 0.0, 0.0, 0.0, 0.0, 0.0, 0.0, 0.0, 0.0, 0.0, 0.0, 0.0, 0.0, 0.0, 0.0], [0.715268075466156, 0.0170824583619833, 0.09168125689029694, 0.014151003211736679, 0.10057315975427628, 0.0029824557714164257, 0.05826159566640854, 0.0, 0.0, 0.0, 0.0, 0.0, 0.0, 0.0, 0.0, 0.0, 0.0, 0.0, 0.0, 0.0, 0.0, 0.0, 0.0, 0.0, 0.0, 0.0], [0.5694167017936707, 0.08830081671476364, 0.0031334273517131805, 0.1388690322637558, 0.0020880692172795534, 0.17895850539207458, 0.0007994420011527836, 0.0184339489787817, 0.0, 0.0, 0.0, 0.0, 0.0, 0.0, 0.0, 0.0, 0.0, 0.0, 0.0, 0.0, 0.0, 0.0, 0.0, 0.0, 0.0, 0.0], [0.7016796469688416, 0.009898963384330273, 0.09366624057292938, 0.012058957479894161, 0.10037637501955032, 0.0013022121274843812, 0.058526694774627686, 0.00020785618107765913, 0.02228306420147419, 0.0, 0.0, 0.0, 0.0, 0.0, 0.0, 0.0, 0.0, 0.0, 0.0, 0.0, 0.0, 0.0, 0.0, 0.0, 0.0, 0.0], [0.6261236071586609, 0.06486660987138748, 0.0036375471390783787, 0.16956405341625214, 0.0011738401371985674, 0.07074248790740967, 0.0009956923313438892, 0.030080733820796013, 0.000503978633787483, 0.03231145814061165, 0.0, 0.0, 0.0, 0.0, 0.0, 0.0, 0.0, 0.0, 0.0, 0.0, 0.0, 0.0, 0.0, 0.0, 0.0, 0.0], [0.5012052059173584, 0.021265197545289993, 0.10469366610050201, 0.009609648957848549, 0.1294199526309967, 0.0018460301216691732, 0.07599376142024994, 0.00041806529043242335, 0.12882785499095917, 0.00040205041295848787, 0.0263186264783144, 0.0, 0.0, 0.0, 0.0, 0.0, 0.0, 0.0, 0.0, 0.0, 0.0, 0.0, 0.0, 0.0, 0.0, 0.0], [0.5534457564353943, 0.04919102415442467, 0.006946996320039034, 0.14646141231060028, 0.0014518680982291698, 0.1263522207736969, 0.0007883713115006685, 0.02512204647064209, 0.0007350752130150795, 0.0667758584022522, 0.0005636006826534867, 0.022165756672620773, 0.0, 0.0, 0.0, 0.0, 0.0, 0.0, 0.0, 0.0, 0.0, 0.0, 0.0, 0.0, 0.0, 0.0], [0.48670652508735657, 0.02241300605237484, 0.09027319401502609, 0.011134741827845573, 0.1017489805817604, 0.0020278363954275846, 0.10077439993619919, 0.0006183460936881602, 0.10601421445608139, 0.0005721788038499653, 0.05940846726298332, 0.000393145892303437, 0.017914922907948494, 0.0, 0.0, 0.0, 0.0, 0.0, 0.0, 0.0, 0.0, 0.0, 0.0, 0.0, 0.0, 0.0], [0.49322280287742615, 0.055840861052274704, 0.008627372793853283, 0.1247846707701683, 0.0021030877251178026, 0.08869361877441406, 0.0013105684192851186, 0.041814226657152176, 0.0012557051377370954, 0.09194142371416092, 0.00046591321006417274, 0.06820084154605865, 0.0002928610483650118, 0.021446125581860542, 0.0, 0.0, 0.0, 0.0, 0.0, 0.0, 0.0, 0.0, 0.0, 0.0, 0.0, 0.0], [0.4913657605648041, 0.020236292853951454, 0.08840643614530563, 0.013847855851054192, 0.07189901173114777, 0.0017581067513674498, 0.07625764608383179, 0.0007595401257276535, 0.1262766718864441, 0.0005545822787098587, 0.049504321068525314, 0.00041941931704059243, 0.033233530819416046, 0.0004578213265631348, 0.02502315491437912, 0.0, 0.0, 0.0, 0.0, 0.0, 0.0, 0.0, 0.0, 0.0, 0.0, 0.0], [0.5201061964035034, 0.05309214070439339, 0.00475024851039052, 0.09309899061918259, 0.002078954130411148, 0.07334654778242111, 0.0018494903342798352, 0.04474056512117386, 0.0005493921344168484, 0.06610532104969025, 0.00043158693006262183, 0.06426501274108887, 0.00027974703698419034, 0.05032774806022644, 0.00043065097997896373, 0.02454731985926628, 0.0, 0.0, 0.0, 0.0, 0.0, 0.0, 0.0, 0.0, 0.0, 0.0], [0.41676318645477295, 0.03708186373114586, 0.05730603262782097, 0.010799943469464779, 0.08359751850366592, 0.003718003863468766, 0.0899600237607956, 0.0015481195878237486, 0.07576442509889603, 0.0009046607883647084, 0.08724655210971832, 0.0008232122636400163, 0.03278643265366554, 0.00047723905299790204, 0.08233290910720825, 0.0005631533567793667, 0.01832667551934719, 0.0, 0.0, 0.0, 0.0, 0.0, 0.0, 0.0, 0.0, 0.0], [0.5858631730079651, 0.036149151623249054, 0.0056635532528162, 0.0823604166507721, 0.0013190038735046983, 0.053259726613759995, 0.0007345549529418349, 0.031368788331747055, 0.0006848287303000689, 0.047848038375377655, 0.0002531740756239742, 0.04674283787608147, 0.00017973253852687776, 0.04169562831521034, 0.00038239630521275103, 0.05105223134160042, 0.00010983383253915235, 0.01433293242007494, 0.0, 0.0, 0.0, 0.0, 0.0, 0.0, 0.0, 0.0], [0.5521153807640076, 0.013225890696048737, 0.04135722666978836, 0.008446265012025833, 0.043606460094451904, 0.0015696826158091426, 0.10222282260656357, 0.00040050389361567795, 0.08985770493745804, 0.0008034391212277114, 0.04093819484114647, 0.0006999077741056681, 0.030309906229376793, 0.00022591596643906087, 0.050602469593286514, 0.0003663044481072575, 0.012005561962723732, 0.00023690347734373063, 0.01100948452949524, 0.0, 0.0, 0.0, 0.0, 0.0, 0.0, 0.0], [0.3301716148853302, 0.045773398131132126, 0.007581303361803293, 0.09029408544301987, 0.0017209850484505296, 0.058583129197359085, 0.0011701681651175022, 0.05789089575409889, 0.0006880891160108149, 0.07472999393939972, 0.000501244212500751, 0.15342286229133606, 0.00037707985029555857, 0.051426008343696594, 0.00037837252602912486, 0.04920051619410515, 0.00017492513870820403, 0.06022409722208977, 0.0003632006992120296, 0.01532800029963255, 0.0, 0.0, 0.0, 0.0, 0.0, 0.0], [0.38487663865089417, 0.032827239483594894, 0.04800192639231682, 0.014759830199182034, 0.07662650942802429, 0.004934359807521105, 0.06352866441011429, 0.0008641850436106324, 0.07824791222810745, 0.001015615533106029, 0.07080621272325516, 0.0008775947499088943, 0.04586135596036911, 0.0004787715442944318, 0.05253584682941437, 0.0004166144353803247, 0.02206532284617424, 0.0003360911214258522, 0.07069770991802216, 0.0002469684695824981, 0.029994696378707886, 0.0, 0.0, 0.0, 0.0, 0.0], [0.3430570960044861, 0.050241462886333466, 0.005289614200592041, 0.0561155304312706, 0.0024396132212132215, 0.08715865761041641, 0.0011092160129919648, 0.036934733390808105, 0.0005778850172646344, 0.05311620235443115, 0.00041114393388852477, 0.13812954723834991, 0.00030684599187225103, 0.04734516888856888, 0.0004951537121087313, 0.05212065577507019, 0.0003758372913580388, 0.06639815866947174, 0.00047592728515155613, 0.036173298954963684, 0.0005565198953263462, 0.021171804517507553, 0.0, 0.0, 0.0, 0.0], [0.3102831244468689, 0.01971590146422386, 0.05793019384145737, 0.011514970101416111, 0.043198637664318085, 0.0016090782592073083, 0.09846244007349014, 0.0005287219537422061, 0.07207919657230377, 0.0006432639784179628, 0.05498770624399185, 0.0003925225173588842, 0.05386292561888695, 0.00026663480093702674, 0.06579260528087616, 0.00041462734225206077, 0.021123887971043587, 0.00033067676122300327, 0.11411694437265396, 0.0003245010448154062, 0.05613596364855766, 0.00029169381014071405, 0.015993790701031685, 0.0, 0.0, 0.0], [0.3582501709461212, 0.04254090413451195, 0.00542505644261837, 0.062487296760082245, 0.002069514011964202, 0.052059825509786606, 0.001446847221814096, 0.06420082598924637, 0.0006657236954197288, 0.06906954199075699, 0.0004837294982280582, 0.0465867854654789, 0.0005832521710544825, 0.04591083899140358, 0.0005842021200805902, 0.0559113547205925, 0.00041728097130544484, 0.09620074927806854, 0.0003656563349068165, 0.03821671009063721, 0.0006715544150210917, 0.036498021334409714, 0.0002803672687150538, 0.019073940813541412, 0.0, 0.0], [0.2612540125846863, 0.02663574367761612, 0.06697764247655869, 0.013442190364003181, 0.07063968479633331, 0.002674476709216833, 0.07908228039741516, 0.0007202925626188517, 0.09442628920078278, 0.0008120771963149309, 0.05312614515423775, 0.0007127561839297414, 0.05576575919985771, 0.0003449422656558454, 0.04082903638482094, 0.0005014435737393796, 0.02531333640217781, 0.0002880413376260549, 0.07556413114070892, 0.0002690651162993163, 0.07580514997243881, 0.00027415226213634014, 0.0361785963177681, 0.00019971067376900464, 0.018162954598665237, 0.0], [0.39162182807922363, 0.03385298699140549, 0.006438597105443478, 0.056661710143089294, 0.0014352306025102735, 0.046930182725191116, 0.0013472468126565218, 0.029253005981445312, 0.000522053858730942, 0.05461231619119644, 0.0004284819005988538, 0.04316364973783493, 0.0004028206749353558, 0.051163554191589355, 0.0003892052045557648, 0.05887182801961899, 0.0003076691646128893, 0.08018846064805984, 0.00033809413434937596, 0.04113658890128136, 0.0003863333258777857, 0.06345558911561966, 0.00032283173641189933, 0.0249937791377306, 0.00022830172383692116, 0.011547693982720375]], [[1.0, 0.0, 0.0, 0.0, 0.0, 0.0, 0.0, 0.0, 0.0, 0.0, 0.0, 0.0, 0.0, 0.0, 0.0, 0.0, 0.0, 0.0, 0.0, 0.0, 0.0, 0.0, 0.0, 0.0, 0.0, 0.0], [0.9375987648963928, 0.062401216477155685, 0.0, 0.0, 0.0, 0.0, 0.0, 0.0, 0.0, 0.0, 0.0, 0.0, 0.0, 0.0, 0.0, 0.0, 0.0, 0.0, 0.0, 0.0, 0.0, 0.0, 0.0, 0.0, 0.0, 0.0], [0.7724648714065552, 0.17085228860378265, 0.05668279528617859, 0.0, 0.0, 0.0, 0.0, 0.0, 0.0, 0.0, 0.0, 0.0, 0.0, 0.0, 0.0, 0.0, 0.0, 0.0, 0.0, 0.0, 0.0, 0.0, 0.0, 0.0, 0.0, 0.0], [0.7305339574813843, 0.05881204828619957, 0.14851367473602295, 0.062140271067619324, 0.0, 0.0, 0.0, 0.0, 0.0, 0.0, 0.0, 0.0, 0.0, 0.0, 0.0, 0.0, 0.0, 0.0, 0.0, 0.0, 0.0, 0.0, 0.0, 0.0, 0.0, 0.0], [0.6110445857048035, 0.20553842186927795, 0.019050760194659233, 0.13988900184631348, 0.02447720244526863, 0.0, 0.0, 0.0, 0.0, 0.0, 0.0, 0.0, 0.0, 0.0, 0.0, 0.0, 0.0, 0.0, 0.0, 0.0, 0.0, 0.0, 0.0, 0.0, 0.0, 0.0], [0.6596641540527344, 0.05425705760717392, 0.07589659839868546, 0.026111990213394165, 0.17453351616859436, 0.009536655619740486, 0.0, 0.0, 0.0, 0.0, 0.0, 0.0, 0.0, 0.0, 0.0, 0.0, 0.0, 0.0, 0.0, 0.0, 0.0, 0.0, 0.0, 0.0, 0.0, 0.0], [0.5648370385169983, 0.12890180945396423, 0.03639105707406998, 0.13930781185626984, 0.011526422575116158, 0.08916136622428894, 0.029874542728066444, 0.0, 0.0, 0.0, 0.0, 0.0, 0.0, 0.0, 0.0, 0.0, 0.0, 0.0, 0.0, 0.0, 0.0, 0.0, 0.0, 0.0, 0.0, 0.0], [0.744589626789093, 0.04119069501757622, 0.06266076862812042, 0.010691595263779163, 0.08365889638662338, 0.003584411693736911, 0.050067707896232605, 0.0035563174169510603, 0.0, 0.0, 0.0, 0.0, 0.0, 0.0, 0.0, 0.0, 0.0, 0.0, 0.0, 0.0, 0.0, 0.0, 0.0, 0.0, 0.0, 0.0], [0.2804543673992157, 0.18194608390331268, 0.04238685220479965, 0.2563236355781555, 0.014801614917814732, 0.11608030647039413, 0.011696848087012768, 0.09077133983373642, 0.005538919474929571, 0.0, 0.0, 0.0, 0.0, 0.0, 0.0, 0.0, 0.0, 0.0, 0.0, 0.0, 0.0, 0.0, 0.0, 0.0, 0.0, 0.0], [0.6332776546478271, 0.021271975710988045, 0.07072556018829346, 0.013151153922080994, 0.05738986283540726, 0.0019092431757599115, 0.10664830356836319, 0.0007502910448238254, 0.09285861253738403, 0.0020174281671643257, 0.0, 0.0, 0.0, 0.0, 0.0, 0.0, 0.0, 0.0, 0.0, 0.0, 0.0, 0.0, 0.0, 0.0, 0.0, 0.0], [0.325977623462677, 0.18716838955879211, 0.03147377073764801, 0.16720062494277954, 0.015511562116444111, 0.1310882866382599, 0.010304874740540981, 0.07096753269433975, 0.003234236966818571, 0.05298483744263649, 0.004088242072612047, 0.0, 0.0, 0.0, 0.0, 0.0, 0.0, 0.0, 0.0, 0.0, 0.0, 0.0, 0.0, 0.0, 0.0, 0.0], [0.42939287424087524, 0.03281664475798607, 0.13027985394001007, 0.02559201419353485, 0.07623843848705292, 0.0030830795876681805, 0.06843852251768112, 0.000742238131351769, 0.12987147271633148, 0.0011338365729898214, 0.10137218236923218, 0.0010387829970568419, 0.0, 0.0, 0.0, 0.0, 0.0, 0.0, 0.0, 0.0, 0.0, 0.0, 0.0, 0.0, 0.0, 0.0], [0.3384664058685303, 0.16767358779907227, 0.029555989429354668, 0.1363542526960373, 0.0120262261480093, 0.08980151265859604, 0.008542394265532494, 0.07511785626411438, 0.003160379594191909, 0.06322023272514343, 0.003103379625827074, 0.0702555701136589, 0.0027222423814237118, 0.0, 0.0, 0.0, 0.0, 0.0, 0.0, 0.0, 0.0, 0.0, 0.0, 0.0, 0.0, 0.0], [0.5648817420005798, 0.03296287730336189, 0.11283192783594131, 0.016171349212527275, 0.051797717809677124, 0.002616293029859662, 0.06195763871073723, 0.0016179957892745733, 0.07206626981496811, 0.001725605339743197, 0.03377120941877365, 0.00088424829300493, 0.04500621184706688, 0.0017089024186134338, 0.0, 0.0, 0.0, 0.0, 0.0, 0.0, 0.0, 0.0, 0.0, 0.0, 0.0, 0.0], [0.3150428533554077, 0.10328197479248047, 0.02851327322423458, 0.09775330871343613, 0.006902509368956089, 0.0574580617249012, 0.006584595888853073, 0.10861275345087051, 0.002472442341968417, 0.07264839112758636, 0.0009123228373937309, 0.06312943994998932, 0.0014075774233788252, 0.13238121569156647, 0.0028992786537855864, 0.0, 0.0, 0.0, 0.0, 0.0, 0.0, 0.0, 0.0, 0.0, 0.0, 0.0], [0.4528442919254303, 0.027732614427804947, 0.05607802793383598, 0.009400048293173313, 0.041598983108997345, 0.002306197537109256, 0.11708564311265945, 0.0012084146728739142, 0.05900993570685387, 0.0014197438722476363, 0.032296739518642426, 0.0007577096112072468, 0.04618600755929947, 0.0017407112754881382, 0.14891937375068665, 0.0014154602540656924, 0.0, 0.0, 0.0, 0.0, 0.0, 0.0, 0.0, 0.0, 0.0, 0.0], [0.2954254448413849, 0.15449361503124237, 0.01523932721465826, 0.04939844831824303, 0.010888963006436825, 0.07108030468225479, 0.010708210058510303, 0.10831339657306671, 0.002181206364184618, 0.06366875767707825, 0.0020469259470701218, 0.057486455887556076, 0.0015025162138044834, 0.08372364938259125, 0.0018138469895347953, 0.0702923983335495, 0.0017365161329507828, 0.0, 0.0, 0.0, 0.0, 0.0, 0.0, 0.0, 0.0, 0.0], [0.34902021288871765, 0.04002639278769493, 0.09258363395929337, 0.015536598861217499, 0.05082765221595764, 0.0023897727951407433, 0.05745933577418327, 0.0015658782795071602, 0.07436982542276382, 0.0007510787690989673, 0.04333749786019325, 0.0005772092845290899, 0.050918567925691605, 0.0016483936924487352, 0.1400483101606369, 0.0009680956718511879, 0.07733895629644394, 0.0006325417198240757, 0.0, 0.0, 0.0, 0.0, 0.0, 0.0, 0.0, 0.0], [0.293306827545166, 0.0558798722922802, 0.017442990094423294, 0.07630573213100433, 0.005982599686831236, 0.052584145218133926, 0.009396723471581936, 0.045097917318344116, 0.0034113989677280188, 0.12186618894338608, 0.000993045512586832, 0.10902205109596252, 0.0012882129522040486, 0.05488433688879013, 0.000976909650489688, 0.08390562236309052, 0.00043854975956492126, 0.06620775163173676, 0.001009157975204289, 0.0, 0.0, 0.0, 0.0, 0.0, 0.0, 0.0], [0.379369854927063, 0.026245778426527977, 0.10193262249231339, 0.013289120979607105, 0.034818023443222046, 0.0015577400336042047, 0.11707011610269547, 0.0012078656582161784, 0.054846152663230896, 0.0018832844216376543, 0.03633814677596092, 0.0006549152312800288, 0.050154272466897964, 0.0011504878057166934, 0.05410300940275192, 0.0006215603207238019, 0.026497507467865944, 0.000379298027837649, 0.0968208834528923, 0.0010593353072181344, 0.0, 0.0, 0.0, 0.0, 0.0, 0.0], [0.30304110050201416, 0.09029799699783325, 0.014794861897826195, 0.05024745687842369, 0.008016166277229786, 0.042568061500787735, 0.0057112243957817554, 0.03781203180551529, 0.001856584451161325, 0.0793600007891655, 0.0010461949277669191, 0.05726633220911026, 0.0014761777129024267, 0.09233968704938889, 0.00122134352568537, 0.06356558203697205, 0.0006105986540205777, 0.06828132271766663, 0.0010618114611133933, 0.07723775506019592, 0.0021877912804484367, 0.0, 0.0, 0.0, 0.0, 0.0], [0.3517925441265106, 0.03812701255083084, 0.03776881471276283, 0.008820928633213043, 0.04427178204059601, 0.0018295996123924851, 0.05383912846446037, 0.0008337333565577865, 0.04154234007000923, 0.0012430216884240508, 0.02734951861202717, 0.000723177392501384, 0.03697822988033295, 0.00159652519505471, 0.0747583732008934, 0.0010862329509109259, 0.07563427090644836, 0.0007077986374497414, 0.08624173700809479, 0.0009349502506665885, 0.11294498294591904, 0.000975203060079366, 0.0, 0.0, 0.0, 0.0], [0.2508373260498047, 0.04321099445223808, 0.024624885991215706, 0.04570607841014862, 0.004756745416671038, 0.028705749660730362, 0.006275324150919914, 0.029297858476638794, 0.0012428038753569126, 0.08751913905143738, 0.0006736222421750426, 0.051869429647922516, 0.0010425407672300935, 0.04583603888750076, 0.0009089595405384898, 0.07401527464389801, 0.00044179416727274656, 0.06287267059087753, 0.0007544542313553393, 0.1389765441417694, 0.001227067899890244, 0.09834456443786621, 0.0008601958979852498, 0.0, 0.0, 0.0], [0.3584478795528412, 0.02892688848078251, 0.03684534505009651, 0.0086349006742239, 0.031964004039764404, 0.00179865094833076, 0.04316158965229988, 0.0015855246456339955, 0.038693398237228394, 0.0009553027339279652, 0.02731274627149105, 0.00045559799764305353, 0.04733658209443092, 0.001151766860857606, 0.10109852254390717, 0.0010577081702649593, 0.08065783232450485, 0.0006056270794942975, 0.05110008642077446, 0.0005763009539805353, 0.08247696608304977, 0.0005195434205234051, 0.05381328612565994, 0.0008239230373874307, 0.0, 0.0], [0.2953365743160248, 0.054527647793293, 0.03993994742631912, 0.09724553674459457, 0.012339349836111069, 0.05208485573530197, 0.008453073911368847, 0.022782808169722557, 0.002931536640971899, 0.060130827128887177, 0.0016720916610211134, 0.11480601876974106, 0.002389483153820038, 0.03962225094437599, 0.0005532031645998359, 0.047718822956085205, 0.0005154252285137773, 0.03622758015990257, 0.0008686369983479381, 0.04961589351296425, 0.0014852331951260567, 0.03613177686929703, 0.0005509618204087019, 0.021206703037023544, 0.0008637685095891356, 0.0], [0.31676313281059265, 0.027722802013158798, 0.0596562884747982, 0.010108577087521553, 0.02616998180747032, 0.0016875441651791334, 0.07717908173799515, 0.0006702227401547134, 0.03471110388636589, 0.0009512731339782476, 0.02723592519760132, 0.00048334174789488316, 0.03601670265197754, 0.0013332886155694723, 0.05706178396940231, 0.0006744381971657276, 0.05734137445688248, 0.000569470168557018, 0.07404334843158722, 0.0008140275604091585, 0.0432661809027195, 0.000869459006935358, 0.10318752378225327, 0.000237447748077102, 0.040715910494327545, 0.0005296945455484092]]]}\n",
       "    )\n",
       "    </script>"
      ],
      "text/plain": [
       "<circuitsvis.utils.render.RenderedHTML at 0x7fed7c98b580>"
      ]
     },
     "execution_count": 38,
     "metadata": {},
     "output_type": "execute_result"
    }
   ],
   "source": [
    "cv.attention.attention_patterns(tokens=string_to_label(focus_games_int[0, :moves+1]), attention=attention_pattern[0])"
   ]
  },
  {
   "cell_type": "code",
   "execution_count": null,
   "id": "f92d4f3a",
   "metadata": {},
   "outputs": [],
   "source": []
  }
 ],
 "metadata": {
  "kernelspec": {
   "display_name": "Python 3",
   "language": "python",
   "name": "python3"
  },
  "language_info": {
   "codemirror_mode": {
    "name": "ipython",
    "version": 3
   },
   "file_extension": ".py",
   "mimetype": "text/x-python",
   "name": "python",
   "nbconvert_exporter": "python",
   "pygments_lexer": "ipython3",
   "version": "3.8.3"
  }
 },
 "nbformat": 4,
 "nbformat_minor": 5
}
